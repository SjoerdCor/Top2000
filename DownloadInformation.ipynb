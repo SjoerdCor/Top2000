{
 "cells": [
  {
   "cell_type": "code",
   "execution_count": null,
   "metadata": {},
   "outputs": [],
   "source": [
    "import os\n",
    "import readtop2000\n",
    "import tqdm\n",
    "import pandas as pd"
   ]
  },
  {
   "cell_type": "code",
   "execution_count": null,
   "metadata": {},
   "outputs": [],
   "source": [
    "URL_TOP2000_HISTORY = 'https://nl.wikipedia.org/wiki/Lijst_van_Radio_2-Top_2000%27s'"
   ]
  },
  {
   "cell_type": "code",
   "execution_count": null,
   "metadata": {},
   "outputs": [],
   "source": [
    "readtop2000"
   ]
  },
  {
   "cell_type": "markdown",
   "metadata": {},
   "source": [
    "## Base tables"
   ]
  },
  {
   "cell_type": "code",
   "execution_count": null,
   "metadata": {},
   "outputs": [],
   "source": [
    "def read():\n",
    "    fulllist_reader = readtop2000.WikipediaTableExtractor(URL_TOP2000_HISTORY, [1], [0])\n",
    "    df = fulllist_reader.extract_table_as_dataframe()\n",
    "    \n",
    "    cleaner = readtop2000.Top2000Cleaner(df)\n",
    "    notering, song, songartist, artist = cleaner.clean()\n",
    "    return notering, song, songartist, artist\n",
    "notering, song, songartist, artist = read()"
   ]
  },
  {
   "cell_type": "code",
   "execution_count": null,
   "metadata": {},
   "outputs": [],
   "source": [
    "artist[artist.groupby('Name')['Link'].transform('nunique').gt(1)]"
   ]
  },
  {
   "cell_type": "markdown",
   "metadata": {},
   "source": [
    "## Detailed information for artists from inboxes\n",
    "Drop Space Monkey because it does have an infobox, but it is about the song, not the artist\n",
    "\n",
    "Drop Anita Garbo because the wikipedia redirects to a song, instead of to a page about her\n"
   ]
  },
  {
   "cell_type": "code",
   "execution_count": null,
   "metadata": {},
   "outputs": [],
   "source": [
    "def download_infobox_details(links):\n",
    "    result = []\n",
    "    for link in tqdm.tqdm(links):\n",
    "        info = readtop2000.InfoboxReader(link, allow_errors=True).read()\n",
    "        result.append(info)\n",
    "    return pd.concat(result)\n",
    "\n",
    "links = artist.loc[~artist['Name'].isin(['Anita Garbo', 'Space Monkey']), 'Link']\n",
    "artist_details = download_infobox_details(links)"
   ]
  },
  {
   "cell_type": "code",
   "execution_count": null,
   "metadata": {},
   "outputs": [],
   "source": [
    "# The band members are much harder to handle because of all the functions they can have: it gives a many-to-many relation for members and bands\n",
    "# So we ignore those. The same goes vice versa for the member pages in which it is discussed in what bands they were active\n",
    "extra_artist_details = (artist_details[~artist_details['Header'].isin(['Leden', 'Oud-leden', 'Bezetting']) & ~artist_details['Header'].str.startswith('Actief')]  \n",
    "                         .set_index(['OriginalLink', 'Variable'])['Value'].unstack())"
   ]
  },
  {
   "cell_type": "code",
   "execution_count": null,
   "metadata": {},
   "outputs": [],
   "source": [
    "artist_full = artist.merge(extra_artist_details, right_index=True, left_on='Link', how='left')"
   ]
  },
  {
   "cell_type": "markdown",
   "metadata": {},
   "source": [
    "## Save all tables"
   ]
  },
  {
   "cell_type": "code",
   "execution_count": null,
   "metadata": {},
   "outputs": [],
   "source": [
    "tables = {'notering': notering,\n",
    "          'song': song,\n",
    "          'songartist': songartist,\n",
    "          'artist_small': artist,\n",
    "          'artist': artist_full,\n",
    "          'artist_details': artist_details\n",
    "         }\n",
    "for name, table in tables.items():\n",
    "    table.to_parquet(os.path.join('Data', f'{name}.parquet'))"
   ]
  }
 ],
 "metadata": {
  "kernelspec": {
   "display_name": "Python 3",
   "language": "python",
   "name": "python3"
  },
  "language_info": {
   "codemirror_mode": {
    "name": "ipython",
    "version": 3
   },
   "file_extension": ".py",
   "mimetype": "text/x-python",
   "name": "python",
   "nbconvert_exporter": "python",
   "pygments_lexer": "ipython3",
   "version": "3.7.6"
  }
 },
 "nbformat": 4,
 "nbformat_minor": 4
}
