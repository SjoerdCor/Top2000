{
 "cells": [
  {
   "cell_type": "code",
   "execution_count": null,
   "metadata": {},
   "outputs": [],
   "source": [
    "import os\n",
    "import readtop2000\n",
    "import tqdm\n",
    "import pandas as pd\n",
    "import locale"
   ]
  },
  {
   "cell_type": "code",
   "execution_count": null,
   "metadata": {},
   "outputs": [],
   "source": [
    "URL_TOP2000_HISTORY = 'https://nl.wikipedia.org/wiki/Lijst_van_Radio_2-Top_2000%27s'"
   ]
  },
  {
   "cell_type": "markdown",
   "metadata": {},
   "source": [
    "## Base tables"
   ]
  },
  {
   "cell_type": "code",
   "execution_count": null,
   "metadata": {},
   "outputs": [],
   "source": [
    "import importlib;importlib.reload(readtop2000)\n",
    "def read():\n",
    "    fulllist_reader = readtop2000.WikipediaTableExtractor(URL_TOP2000_HISTORY, [1], [0])\n",
    "    df = fulllist_reader.extract_table_as_dataframe()\n",
    "    \n",
    "    cleaner = readtop2000.Top2000Cleaner(df)\n",
    "    notering, song, songartist, artist = cleaner.clean()\n",
    "    return notering, song, songartist, artist\n",
    "notering, song, songartist, artist = read()"
   ]
  },
  {
   "cell_type": "markdown",
   "metadata": {},
   "source": [
    "There are a few artists which have the same name, but are not the same artist:\n",
    "* Nena, who performed as a singer, but also as part of the band named Nena\n",
    "* Mr. Big was both an American and a British band"
   ]
  },
  {
   "cell_type": "code",
   "execution_count": null,
   "metadata": {},
   "outputs": [],
   "source": [
    "artist[artist.groupby('Name')['Link'].transform('nunique').gt(1)]"
   ]
  },
  {
   "cell_type": "markdown",
   "metadata": {},
   "source": [
    "## Detailed information for artists from inboxes\n",
    "Drop Space Monkey because it does have an infobox, but it is about the song, not the artist\n",
    "\n",
    "Drop Anita Garbo because the wikipedia redirects to a song, instead of to a page about her\n"
   ]
  },
  {
   "cell_type": "code",
   "execution_count": null,
   "metadata": {},
   "outputs": [],
   "source": [
    "def download_infobox_details(links):\n",
    "    result = []\n",
    "    for link in tqdm.tqdm(links):\n",
    "        info = readtop2000.InfoboxReader(link, allow_errors=True).read()\n",
    "        result.append(info)\n",
    "    return pd.concat(result)\n",
    "\n",
    "ignored_artists = ['Anita Garbo',  # Wikipedia redirects to her song, instead of a page about her as an artist\n",
    "                   'Space Monkey',  # Wikipedia does have an infobox, but it is about their song, not about them as an artist\n",
    "                  ]\n",
    "\n",
    "links = artist.loc[~artist['Name'].isin(ignored_artists), 'Link']\n",
    "artist_details = download_infobox_details(links)"
   ]
  },
  {
   "cell_type": "code",
   "execution_count": null,
   "metadata": {},
   "outputs": [],
   "source": [
    "# The band members are much harder to handle because of all the functions they can have: it gives a many-to-many relation for members and bands\n",
    "# So we ignore those. The same goes vice versa for the member pages in which it is discussed in what bands they were active\n",
    "extra_artist_details = (artist_details[~artist_details['Header'].isin(['Leden', 'Oud-leden', 'Bezetting']) & ~artist_details['Header'].str.startswith('Actief')]  \n",
    "                         .set_index(['OriginalLink', 'Variable'])['Value'].unstack())"
   ]
  },
  {
   "cell_type": "code",
   "execution_count": null,
   "metadata": {},
   "outputs": [],
   "source": [
    "# We download from dutch wikipedia, so we need dutch month names\n",
    "locale.setlocale(locale.LC_TIME, 'nl_NL.utf8')\n",
    "def wikipedia_datetime_to_datetime(series):\n",
    "    return pd.to_datetime(series, errors='coerce', format='%d %B %Y', exact=False)\n",
    "    \n",
    "extra_artist_details = extra_artist_details.assign(Overleden = lambda df: wikipedia_datetime_to_datetime(df['Overleden']),\n",
    "                                                   Geboren = lambda df: wikipedia_datetime_to_datetime(df['Geboren']),\n",
    "                                                  )\n"
   ]
  },
  {
   "cell_type": "code",
   "execution_count": null,
   "metadata": {},
   "outputs": [],
   "source": [
    "artist_full = artist.merge(extra_artist_details, right_index=True, left_on='Link', how='left')"
   ]
  },
  {
   "cell_type": "markdown",
   "metadata": {},
   "source": [
    "## Save all tables"
   ]
  },
  {
   "cell_type": "code",
   "execution_count": null,
   "metadata": {},
   "outputs": [],
   "source": [
    "tables = {'notering': notering,\n",
    "          'song': song,\n",
    "          'songartist': songartist,\n",
    "          'artist_small': artist,\n",
    "          'artist': artist_full,\n",
    "          'artist_details': artist_details\n",
    "         }\n",
    "for name, table in tables.items():\n",
    "    table.to_parquet(os.path.join('Data', f'{name}.parquet'))"
   ]
  },
  {
   "cell_type": "code",
   "execution_count": null,
   "metadata": {},
   "outputs": [],
   "source": []
  }
 ],
 "metadata": {
  "kernelspec": {
   "display_name": "Python 3",
   "language": "python",
   "name": "python3"
  },
  "language_info": {
   "codemirror_mode": {
    "name": "ipython",
    "version": 3
   },
   "file_extension": ".py",
   "mimetype": "text/x-python",
   "name": "python",
   "nbconvert_exporter": "python",
   "pygments_lexer": "ipython3",
   "version": "3.7.6"
  }
 },
 "nbformat": 4,
 "nbformat_minor": 4
}
