{
 "cells": [
  {
   "cell_type": "code",
   "execution_count": 18,
   "metadata": {},
   "outputs": [],
   "source": [
    "import os \n",
    "import pandas as pd\n",
    "import numpy as np\n",
    "from sklearn.linear_model import LinearRegression\n",
    "import sklearn.preprocessing\n",
    "from sklearn.model_selection import train_test_split\n",
    "import sklearn.model_selection\n",
    "import sklearn.dummy\n",
    "import sklearn.metrics\n",
    "from sklearn.inspection import plot_partial_dependence\n",
    "\n",
    "\n",
    "from tpot import TPOTRegressor\n",
    "import matplotlib.pyplot as plt\n",
    "import matplotlib.ticker as mtick\n",
    "import seaborn as sns\n",
    "\n",
    "import pymc3 as pm\n",
    "import arviz as az\n",
    "\n",
    "import voteestimator\n",
    "import top2000analysis"
   ]
  },
  {
   "cell_type": "code",
   "execution_count": 3,
   "metadata": {},
   "outputs": [],
   "source": [
    "FOLDER_DATA = os.path.join('..', 'Data')"
   ]
  },
  {
   "cell_type": "markdown",
   "metadata": {},
   "source": [
    "# Splitting into train and test set"
   ]
  },
  {
   "cell_type": "code",
   "execution_count": 4,
   "metadata": {},
   "outputs": [],
   "source": [
    "a = top2000analysis.AnalysisSetCreator()\n",
    "\n",
    "df_song = a.create_analysis_set(FOLDER_DATA)\n",
    "df_artist = a.create_artist_set(FOLDER_DATA)\n",
    "df = a.create_full_feature_set(FOLDER_DATA)"
   ]
  },
  {
   "cell_type": "code",
   "execution_count": 5,
   "metadata": {},
   "outputs": [],
   "source": [
    "features = ['JarenGeleden',\n",
    " 'YearMadeSong',\n",
    " 'AgePassingArtist',\n",
    " 'NrArtists',\n",
    " 'PctVotesBeforeDeathSong',\n",
    " 'NrsBeforeDeath',\n",
    " 'PopularityWithinArtist',\n",
    "'LogSongPopularityWithinArtist',\n",
    "'DaysToStemperiode',\n",
    " 'LogPopularity',\n",
    " 'IsDutchArtist'\n",
    "]"
   ]
  },
  {
   "cell_type": "code",
   "execution_count": 6,
   "metadata": {},
   "outputs": [],
   "source": [
    "X = df[features].assign(IsDutchArtist = lambda df: df['IsDutchArtist'].astype(int))\n",
    "# X_train, X_test, y_train, y_test = train_test_split(X, df['LogBoost'], random_state=123)"
   ]
  },
  {
   "cell_type": "code",
   "execution_count": 7,
   "metadata": {},
   "outputs": [
    {
     "data": {
      "text/plain": [
       "-19.0    0.032680\n",
       "-18.0    0.071895\n",
       "-17.0    0.124183\n",
       "-16.0    0.202614\n",
       "-15.0    0.215686\n",
       "-14.0    0.235294\n",
       "-13.0    0.274510\n",
       "-11.0    0.405229\n",
       "-9.0     0.437908\n",
       "-8.0     0.477124\n",
       "-7.0     0.503268\n",
       "-5.0     0.601307\n",
       "-4.0     0.803922\n",
       "-3.0     0.882353\n",
       "-2.0     0.960784\n",
       " 0.0     1.000000\n",
       "Name: JarenGeleden, dtype: float64"
      ]
     },
     "execution_count": 7,
     "metadata": {},
     "output_type": "execute_result"
    }
   ],
   "source": [
    "df['JarenGeleden'].value_counts(normalize=True).sort_index().cumsum()"
   ]
  },
  {
   "cell_type": "code",
   "execution_count": 8,
   "metadata": {},
   "outputs": [],
   "source": [
    "def split_train_test(X, y, jaren_geleden_split=-4):\n",
    "    train_set = X['JarenGeleden'].le(jaren_geleden_split)\n",
    "    X_train = X[train_set].copy()\n",
    "    y_train = y[train_set].copy()\n",
    "    X_test = X[~train_set].copy()\n",
    "    y_test = y[~train_set].copy()\n",
    "    return X_train, X_test, y_train, y_test\n",
    "X_train, X_test, y_train, y_test = split_train_test(X, df['LogBoost'])"
   ]
  },
  {
   "cell_type": "code",
   "execution_count": 9,
   "metadata": {},
   "outputs": [],
   "source": [
    "df_train, df_test, y_train, y_test = split_train_test(df, df['LogBoost'])"
   ]
  },
  {
   "cell_type": "markdown",
   "metadata": {},
   "source": [
    "# Calculating the baseline: Dummy Classifier"
   ]
  },
  {
   "cell_type": "code",
   "execution_count": null,
   "metadata": {},
   "outputs": [],
   "source": []
  },
  {
   "cell_type": "code",
   "execution_count": 10,
   "metadata": {},
   "outputs": [
    {
     "data": {
      "text/plain": [
       "DummyRegressor(strategy='median')"
      ]
     },
     "execution_count": 10,
     "metadata": {},
     "output_type": "execute_result"
    }
   ],
   "source": [
    "dummy = sklearn.dummy.DummyRegressor(strategy='median')\n",
    "dummy.fit(X_train, y_train)"
   ]
  },
  {
   "cell_type": "code",
   "execution_count": 11,
   "metadata": {},
   "outputs": [
    {
     "data": {
      "text/plain": [
       "0.47021278302797437"
      ]
     },
     "execution_count": 11,
     "metadata": {},
     "output_type": "execute_result"
    }
   ],
   "source": [
    "y_pred_train = dummy.predict(X_train)\n",
    "sklearn.metrics.mean_absolute_error(y_train, y_pred_train)"
   ]
  },
  {
   "cell_type": "code",
   "execution_count": 12,
   "metadata": {},
   "outputs": [
    {
     "data": {
      "text/plain": [
       "0.4163449458411951"
      ]
     },
     "execution_count": 12,
     "metadata": {},
     "output_type": "execute_result"
    }
   ],
   "source": [
    "y_pred = dummy.predict(X_test)\n",
    "sklearn.metrics.mean_absolute_error(y_test, y_pred)"
   ]
  },
  {
   "cell_type": "code",
   "execution_count": 13,
   "metadata": {},
   "outputs": [],
   "source": [
    "DUMMY_SCORE = sklearn.metrics.mean_absolute_error(y_test, y_pred)\n",
    "model_results = {}"
   ]
  },
  {
   "cell_type": "markdown",
   "metadata": {},
   "source": [
    "# Fitting different models"
   ]
  },
  {
   "cell_type": "markdown",
   "metadata": {},
   "source": [
    "## Full-out modelling: TPOT"
   ]
  },
  {
   "cell_type": "code",
   "execution_count": 61,
   "metadata": {},
   "outputs": [],
   "source": [
    "logo = sklearn.model_selection.GroupKFold().split(X=X_train, y=y_train, groups=X_train['JarenGeleden'])\n",
    "logo = list(logo)"
   ]
  },
  {
   "cell_type": "code",
   "execution_count": 62,
   "metadata": {},
   "outputs": [
    {
     "data": {
      "application/vnd.jupyter.widget-view+json": {
       "model_id": "aa98e0a1c4274b7ebc42917e60627575",
       "version_major": 2,
       "version_minor": 0
      },
      "text/plain": [
       "HBox(children=(FloatProgress(value=0.0, description='Optimization Progress', max=10100.0, style=ProgressStyle(…"
      ]
     },
     "metadata": {},
     "output_type": "display_data"
    },
    {
     "name": "stdout",
     "output_type": "stream",
     "text": [
      "\n",
      "Generation 1 - Current best internal CV score: -0.39329102538337996\n",
      "\n",
      "Generation 2 - Current best internal CV score: -0.3928461002930354\n",
      "\n",
      "Generation 3 - Current best internal CV score: -0.39267217429755397\n",
      "\n",
      "Generation 4 - Current best internal CV score: -0.39267217429755397\n",
      "\n",
      "Generation 5 - Current best internal CV score: -0.3894107550833462\n",
      "\n",
      "Generation 6 - Current best internal CV score: -0.38799024949147704\n",
      "\n",
      "Generation 7 - Current best internal CV score: -0.38799024949147704\n",
      "\n",
      "Generation 8 - Current best internal CV score: -0.38344044212908823\n",
      "\n",
      "Generation 9 - Current best internal CV score: -0.38189021003249357\n",
      "\n",
      "Generation 10 - Current best internal CV score: -0.38189021003249357\n",
      "\n",
      "Generation 11 - Current best internal CV score: -0.38189021003249357\n",
      "\n",
      "Generation 12 - Current best internal CV score: -0.38189021003249357\n",
      "\n",
      "Generation 13 - Current best internal CV score: -0.38189021003249357\n",
      "\n",
      "Generation 14 - Current best internal CV score: -0.3790468012183902\n",
      "\n",
      "Generation 15 - Current best internal CV score: -0.3779625664862943\n",
      "\n",
      "Generation 16 - Current best internal CV score: -0.3779625664862943\n",
      "\n",
      "Generation 17 - Current best internal CV score: -0.372725180333744\n",
      "\n",
      "Generation 18 - Current best internal CV score: -0.372725180333744\n",
      "\n",
      "Generation 19 - Current best internal CV score: -0.372725180333744\n",
      "\n",
      "Generation 20 - Current best internal CV score: -0.372725180333744\n",
      "\n",
      "Generation 21 - Current best internal CV score: -0.36664648113199727\n",
      "\n",
      "Generation 22 - Current best internal CV score: -0.36664648113199727\n",
      "\n",
      "Generation 23 - Current best internal CV score: -0.36664648113199727\n",
      "\n",
      "Generation 24 - Current best internal CV score: -0.36664648113199727\n",
      "\n",
      "Generation 25 - Current best internal CV score: -0.36664648113199727\n",
      "\n",
      "Generation 26 - Current best internal CV score: -0.36664648113199727\n",
      "\n",
      "Generation 27 - Current best internal CV score: -0.36664648113199727\n",
      "\n",
      "Generation 28 - Current best internal CV score: -0.36664648113199727\n",
      "\n",
      "Generation 29 - Current best internal CV score: -0.36664648113199727\n",
      "\n",
      "Generation 30 - Current best internal CV score: -0.36664648113199727\n",
      "\n",
      "Generation 31 - Current best internal CV score: -0.36636134651695257\n",
      "\n",
      "\n",
      "TPOT closed during evaluation in one generation.\n",
      "WARNING: TPOT may not provide a good pipeline if TPOT is stopped/interrupted in a early generation.\n",
      "\n",
      "\n",
      "TPOT closed prematurely. Will use the current best pipeline.\n",
      "\n",
      "Best pipeline: ExtraTreesRegressor(VarianceThreshold(PCA(input_matrix, iterated_power=2, svd_solver=randomized), threshold=0.2), bootstrap=False, max_features=0.6000000000000001, min_samples_leaf=1, min_samples_split=3, n_estimators=100)\n"
     ]
    },
    {
     "data": {
      "text/plain": [
       "TPOTRegressor(cv=[(array([ 24,  25,  26,  27,  28,  29,  30,  31,  32,  33,  34,  35,  36,\n",
       "        37,  38,  39,  40,  41,  42,  43,  44,  45,  46,  47,  48,  49,\n",
       "        50,  51,  52,  53,  54,  55,  56,  57,  58,  59,  60,  61,  65,\n",
       "        66,  67,  68,  69,  70,  71,  72,  76,  77,  78,  79,  80,  81,\n",
       "        82,  83,  84,  85,  86,  87,  88,  89,  90,  91,  92,  93,  95,\n",
       "        96,  97,  98,  99, 100, 101, 102, 103, 104, 105, 106, 107, 108,\n",
       "       109, 110, 111, 112, 113, 114, 115, 116, 117, 118, 119, 120, 121,\n",
       "       122]),\n",
       "                   array([ 0,  1,  2,  3,  4,  5,  6,  7,...\n",
       "        75,  77,  78,  79,  80,  81,  82,  83,  84,  87,  88,  89,  90,\n",
       "        91,  92,  93,  94,  95,  96,  97,  98,  99, 100, 102, 104, 105,\n",
       "       106, 107, 112, 115, 116, 117, 119, 120, 121, 122]),\n",
       "                   array([ 45,  46,  47,  65,  66,  68,  69,  70,  71,  72,  76,  85,  86,\n",
       "       101, 103, 108, 109, 110, 111, 113, 114, 118]))],\n",
       "              early_stop=10, memory='auto', n_jobs=-1, random_state=123,\n",
       "              scoring='neg_mean_absolute_error',\n",
       "              template='Transformer-Selector-Regressor', verbosity=2,\n",
       "              warm_start=True)"
      ]
     },
     "execution_count": 62,
     "metadata": {},
     "output_type": "execute_result"
    }
   ],
   "source": [
    "tpot = TPOTRegressor(\n",
    "    random_state=123,\n",
    "    verbosity=2,\n",
    "    n_jobs=-1,\n",
    "    scoring='neg_mean_absolute_error',\n",
    "    template='Transformer-Selector-Regressor',\n",
    "    warm_start=True,\n",
    "    memory='auto',\n",
    "    early_stop=10,\n",
    "#     cv=sklearn.model_selection.TimeSeriesSplit(),\n",
    "    cv=logo,\n",
    ")\n",
    "tpot.fit(X_train, y_train)"
   ]
  },
  {
   "cell_type": "code",
   "execution_count": 83,
   "metadata": {},
   "outputs": [
    {
     "data": {
      "text/plain": [
       "0.43006184357753285"
      ]
     },
     "metadata": {},
     "output_type": "display_data"
    }
   ],
   "source": [
    "y_pred = tpot.predict(X_test)\n",
    "test_score_tpot = sklearn.metrics.mean_absolute_error(y_test, y_pred)\n",
    "display(test_score_tpot)"
   ]
  },
  {
   "cell_type": "code",
   "execution_count": 65,
   "metadata": {},
   "outputs": [],
   "source": [
    "model_results['TPOT'] = test_score_tpot"
   ]
  },
  {
   "cell_type": "code",
   "execution_count": 71,
   "metadata": {},
   "outputs": [
    {
     "name": "stdout",
     "output_type": "stream",
     "text": [
      "['JarenGeleden', 'YearMadeSong', 'AgePassingArtist', 'NrArtists', 'PctVotesBeforeDeathSong', 'NrsBeforeDeath', 'PopularityWithinArtist', 'LogSongPopularityWithinArtist', 'DaysToStemperiode', 'LogPopularity', 'IsDutchArtist']\n"
     ]
    },
    {
     "data": {
      "image/png": "[encoded data removed]",
      "text/plain": [
       "<Figure size 864x576 with 12 Axes>"
      ]
     },
     "metadata": {
      "needs_background": "light"
     },
     "output_type": "display_data"
    }
   ],
   "source": [
    "print(X_train.columns.tolist())\n",
    "clf = tpot.fitted_pipeline_\n",
    "fig, ax = plt.subplots(figsize=(12, 8))\n",
    "\n",
    "disp = plot_partial_dependence(clf, X_train, X_train.columns, ax=ax)\n",
    "plt.tight_layout()\n",
    "# plt.show()"
   ]
  },
  {
   "cell_type": "code",
   "execution_count": 72,
   "metadata": {},
   "outputs": [
    {
     "data": {
      "text/plain": [
       "[<matplotlib.lines.Line2D at 0x1a7d7241250>]"
      ]
     },
     "execution_count": 72,
     "metadata": {},
     "output_type": "execute_result"
    },
    {
     "data": {
      "image/png": "[encoded data removed]",
      "text/plain": [
       "<Figure size 432x288 with 1 Axes>"
      ]
     },
     "metadata": {
      "needs_background": "light"
     },
     "output_type": "display_data"
    }
   ],
   "source": [
    "yhat = tpot.predict(X_test)\n",
    "plt.scatter(yhat, y_test)\n",
    "plt.plot([0, 2], [0, 2], 'k--')"
   ]
  },
  {
   "cell_type": "code",
   "execution_count": 73,
   "metadata": {},
   "outputs": [
    {
     "data": {
      "text/plain": [
       "-0.07015587781771379"
      ]
     },
     "execution_count": 73,
     "metadata": {},
     "output_type": "execute_result"
    }
   ],
   "source": [
    "tpot.score(X_train, y_train)"
   ]
  },
  {
   "cell_type": "code",
   "execution_count": 74,
   "metadata": {},
   "outputs": [
    {
     "data": {
      "text/plain": [
       "-0.43006184357753285"
      ]
     },
     "execution_count": 74,
     "metadata": {},
     "output_type": "execute_result"
    }
   ],
   "source": [
    "tpot.score(X_test, y_test)"
   ]
  },
  {
   "cell_type": "code",
   "execution_count": 75,
   "metadata": {},
   "outputs": [
    {
     "data": {
      "text/plain": [
       "[<matplotlib.lines.Line2D at 0x1a7d72d8040>]"
      ]
     },
     "execution_count": 75,
     "metadata": {},
     "output_type": "execute_result"
    },
    {
     "data": {
      "image/png": "[encoded data removed]",
      "text/plain": [
       "<Figure size 432x288 with 1 Axes>"
      ]
     },
     "metadata": {
      "needs_background": "light"
     },
     "output_type": "display_data"
    }
   ],
   "source": [
    "yhat = tpot.predict(X_train)\n",
    "plt.scatter(yhat, y_train)\n",
    "plt.plot([0, 2], [0, 2], 'k--')"
   ]
  },
  {
   "cell_type": "markdown",
   "metadata": {},
   "source": [
    "## Basic Random Forest"
   ]
  },
  {
   "cell_type": "code",
   "execution_count": 76,
   "metadata": {},
   "outputs": [],
   "source": [
    "from sklearn.ensemble import RandomForestRegressor"
   ]
  },
  {
   "cell_type": "code",
   "execution_count": 77,
   "metadata": {},
   "outputs": [],
   "source": [
    "rf = RandomForestRegressor(max_depth=3)"
   ]
  },
  {
   "cell_type": "code",
   "execution_count": 78,
   "metadata": {},
   "outputs": [
    {
     "data": {
      "text/plain": [
       "RandomForestRegressor(max_depth=3)"
      ]
     },
     "execution_count": 78,
     "metadata": {},
     "output_type": "execute_result"
    }
   ],
   "source": [
    "rf.fit(X_train, y_train)"
   ]
  },
  {
   "cell_type": "code",
   "execution_count": 79,
   "metadata": {},
   "outputs": [
    {
     "data": {
      "text/plain": [
       "0.4636560830957434"
      ]
     },
     "metadata": {},
     "output_type": "display_data"
    }
   ],
   "source": [
    "y_pred = rf.predict(X_test)\n",
    "test_score_rf = sklearn.metrics.mean_absolute_error(y_test, y_pred)\n",
    "display(test_score_rf)\n",
    "model_results['RandomForest'] = test_score_rf"
   ]
  },
  {
   "cell_type": "markdown",
   "metadata": {},
   "source": [
    "## Single-level Bayesian model"
   ]
  },
  {
   "cell_type": "code",
   "execution_count": 32,
   "metadata": {},
   "outputs": [],
   "source": [
    "RANDOM_SEED = 42"
   ]
  },
  {
   "cell_type": "code",
   "execution_count": 33,
   "metadata": {},
   "outputs": [],
   "source": [
    "def unpooled_model_factory(X, y):\n",
    "    coords = {\"obs_id\": np.arange(X.shape[0])}\n",
    "    with pm.Model(coords=coords) as model:\n",
    "        days_to_stemperiode = pm.Data('days_to_stemperiode', X['DaysToStemperiode'], dims='obs_id')\n",
    "        logpopularity = pm.Data('logpopularity', X['LogPopularityNorm'], dims='obs_id')\n",
    "        jaren_geleden = pm.Data(\"jaren_geleden\", X['JarenGeleden'], dims='obs_id')\n",
    "        passing_too_early = pm.Data('passing_too_early', X['PassingTooEarly'], dims='obs_id')\n",
    "        is_dutch = pm.Data('is_dutch', X['IsDutchArtist'], dims='obs_id')\n",
    "\n",
    "        multiple_performers = pm.Data('multiple_performers', X['MultiplePerformers'], dims=\"obs_id\")\n",
    "        popularity_within_oeuvre = pm.Data('popularity_within_oeuvre', X['LogSongPopularityWithinArtist'], dims=\"obs_id\")\n",
    "\n",
    "        # Hyperpriors:\n",
    "        a = pm.Normal(\"a\", mu=0, sigma=2.0)\n",
    "\n",
    "        recency_effect_exponent = pm.Normal('recency_effect_exponent', mu=-1.5,sigma=1)\n",
    "        max_recency_effect = pm.Normal('max_recency_effect', mu=2, sigma=2)\n",
    "        effect_popularity = pm.Normal('effect_popularity', mu=0, sigma=2)\n",
    "        history_effect = pm.Normal('history_effect', mu=0, sigma=1)\n",
    "        age_passing_effect = pm.Normal('age_passing_effect', mu=0, sigma=1)\n",
    "        is_dutch_effect = pm.Normal('is_dutch_effect', mu=0, sigma=2)\n",
    "\n",
    "        # Expected value per artist:\n",
    "        mu_artist = (a\n",
    "                     + logpopularity * effect_popularity\n",
    "                     # The correction of subtracting the minimum value is important for two reasons:\n",
    "                     # 1. Since it fixes the minimum value at 1, it breaks the degeneracy with _a_, which makes sampling much more stable\n",
    "                     # 2. It allows for much easier interpretation\n",
    "                     + (np.exp(10**recency_effect_exponent * days_to_stemperiode)- np.exp(10**recency_effect_exponent * -365))* max_recency_effect\n",
    "                     + jaren_geleden * history_effect\n",
    "                     + passing_too_early * age_passing_effect\n",
    "                     + is_dutch * is_dutch_effect\n",
    "                    )\n",
    "\n",
    "        sharing_effect = pm.Normal('sharing_effect', mu=0, sigma=2.0)\n",
    "        within_oeuvre_effect = pm.Normal('within_oeuvre_effect', mu=0, sigma=2.0)\n",
    "        theta = (mu_artist\n",
    "                 + multiple_performers * sharing_effect\n",
    "                 + popularity_within_oeuvre * within_oeuvre_effect\n",
    "                )\n",
    "        # Model error:\n",
    "        sigma = pm.Exponential(\"sigma\", 1.0)\n",
    "\n",
    "        y_like = pm.Normal(\"y_like\", theta, sigma=sigma, observed=y, dims=\"obs_id\")\n",
    "\n",
    "        return model"
   ]
  },
  {
   "cell_type": "code",
   "execution_count": 34,
   "metadata": {},
   "outputs": [
    {
     "ename": "ExecutableNotFound",
     "evalue": "failed to execute ['dot.bat', '-Kdot', '-Tsvg'], make sure the Graphviz executables are on your systems' PATH",
     "output_type": "error",
     "traceback": [
      "\u001b[1;31m---------------------------------------------------------------------------\u001b[0m",
      "\u001b[1;31mFileNotFoundError\u001b[0m                         Traceback (most recent call last)",
      "\u001b[1;32m~\\anaconda3\\envs\\Top2000H\\lib\\site-packages\\graphviz\\backend.py\u001b[0m in \u001b[0;36mrun\u001b[1;34m(cmd, input, capture_output, check, encoding, quiet, **kwargs)\u001b[0m\n\u001b[0;32m    165\u001b[0m     \u001b[1;32mtry\u001b[0m\u001b[1;33m:\u001b[0m\u001b[1;33m\u001b[0m\u001b[1;33m\u001b[0m\u001b[0m\n\u001b[1;32m--> 166\u001b[1;33m         \u001b[0mproc\u001b[0m \u001b[1;33m=\u001b[0m \u001b[0msubprocess\u001b[0m\u001b[1;33m.\u001b[0m\u001b[0mPopen\u001b[0m\u001b[1;33m(\u001b[0m\u001b[0mcmd\u001b[0m\u001b[1;33m,\u001b[0m \u001b[0mstartupinfo\u001b[0m\u001b[1;33m=\u001b[0m\u001b[0mget_startupinfo\u001b[0m\u001b[1;33m(\u001b[0m\u001b[1;33m)\u001b[0m\u001b[1;33m,\u001b[0m \u001b[1;33m**\u001b[0m\u001b[0mkwargs\u001b[0m\u001b[1;33m)\u001b[0m\u001b[1;33m\u001b[0m\u001b[1;33m\u001b[0m\u001b[0m\n\u001b[0m\u001b[0;32m    167\u001b[0m     \u001b[1;32mexcept\u001b[0m \u001b[0mOSError\u001b[0m \u001b[1;32mas\u001b[0m \u001b[0me\u001b[0m\u001b[1;33m:\u001b[0m\u001b[1;33m\u001b[0m\u001b[1;33m\u001b[0m\u001b[0m\n",
      "\u001b[1;32m~\\anaconda3\\envs\\Top2000H\\lib\\subprocess.py\u001b[0m in \u001b[0;36m__init__\u001b[1;34m(self, args, bufsize, executable, stdin, stdout, stderr, preexec_fn, close_fds, shell, cwd, env, universal_newlines, startupinfo, creationflags, restore_signals, start_new_session, pass_fds, encoding, errors, text)\u001b[0m\n\u001b[0;32m    857\u001b[0m \u001b[1;33m\u001b[0m\u001b[0m\n\u001b[1;32m--> 858\u001b[1;33m             self._execute_child(args, executable, preexec_fn, close_fds,\n\u001b[0m\u001b[0;32m    859\u001b[0m                                 \u001b[0mpass_fds\u001b[0m\u001b[1;33m,\u001b[0m \u001b[0mcwd\u001b[0m\u001b[1;33m,\u001b[0m \u001b[0menv\u001b[0m\u001b[1;33m,\u001b[0m\u001b[1;33m\u001b[0m\u001b[1;33m\u001b[0m\u001b[0m\n",
      "\u001b[1;32m~\\anaconda3\\envs\\Top2000H\\lib\\subprocess.py\u001b[0m in \u001b[0;36m_execute_child\u001b[1;34m(self, args, executable, preexec_fn, close_fds, pass_fds, cwd, env, startupinfo, creationflags, shell, p2cread, p2cwrite, c2pread, c2pwrite, errread, errwrite, unused_restore_signals, unused_start_new_session)\u001b[0m\n\u001b[0;32m   1310\u001b[0m             \u001b[1;32mtry\u001b[0m\u001b[1;33m:\u001b[0m\u001b[1;33m\u001b[0m\u001b[1;33m\u001b[0m\u001b[0m\n\u001b[1;32m-> 1311\u001b[1;33m                 hp, ht, pid, tid = _winapi.CreateProcess(executable, args,\n\u001b[0m\u001b[0;32m   1312\u001b[0m                                          \u001b[1;31m# no special security\u001b[0m\u001b[1;33m\u001b[0m\u001b[1;33m\u001b[0m\u001b[1;33m\u001b[0m\u001b[0m\n",
      "\u001b[1;31mFileNotFoundError\u001b[0m: [WinError 2] Het systeem kan het opgegeven bestand niet vinden",
      "\nDuring handling of the above exception, another exception occurred:\n",
      "\u001b[1;31mExecutableNotFound\u001b[0m                        Traceback (most recent call last)",
      "\u001b[1;32m~\\AppData\\Roaming\\Python\\Python38\\site-packages\\IPython\\core\\formatters.py\u001b[0m in \u001b[0;36m__call__\u001b[1;34m(self, obj)\u001b[0m\n\u001b[0;32m    343\u001b[0m             \u001b[0mmethod\u001b[0m \u001b[1;33m=\u001b[0m \u001b[0mget_real_method\u001b[0m\u001b[1;33m(\u001b[0m\u001b[0mobj\u001b[0m\u001b[1;33m,\u001b[0m \u001b[0mself\u001b[0m\u001b[1;33m.\u001b[0m\u001b[0mprint_method\u001b[0m\u001b[1;33m)\u001b[0m\u001b[1;33m\u001b[0m\u001b[1;33m\u001b[0m\u001b[0m\n\u001b[0;32m    344\u001b[0m             \u001b[1;32mif\u001b[0m \u001b[0mmethod\u001b[0m \u001b[1;32mis\u001b[0m \u001b[1;32mnot\u001b[0m \u001b[1;32mNone\u001b[0m\u001b[1;33m:\u001b[0m\u001b[1;33m\u001b[0m\u001b[1;33m\u001b[0m\u001b[0m\n\u001b[1;32m--> 345\u001b[1;33m                 \u001b[1;32mreturn\u001b[0m \u001b[0mmethod\u001b[0m\u001b[1;33m(\u001b[0m\u001b[1;33m)\u001b[0m\u001b[1;33m\u001b[0m\u001b[1;33m\u001b[0m\u001b[0m\n\u001b[0m\u001b[0;32m    346\u001b[0m             \u001b[1;32mreturn\u001b[0m \u001b[1;32mNone\u001b[0m\u001b[1;33m\u001b[0m\u001b[1;33m\u001b[0m\u001b[0m\n\u001b[0;32m    347\u001b[0m         \u001b[1;32melse\u001b[0m\u001b[1;33m:\u001b[0m\u001b[1;33m\u001b[0m\u001b[1;33m\u001b[0m\u001b[0m\n",
      "\u001b[1;32m~\\anaconda3\\envs\\Top2000H\\lib\\site-packages\\graphviz\\files.py\u001b[0m in \u001b[0;36m_repr_svg_\u001b[1;34m(self)\u001b[0m\n\u001b[0;32m    142\u001b[0m \u001b[1;33m\u001b[0m\u001b[0m\n\u001b[0;32m    143\u001b[0m     \u001b[1;32mdef\u001b[0m \u001b[0m_repr_svg_\u001b[0m\u001b[1;33m(\u001b[0m\u001b[0mself\u001b[0m\u001b[1;33m)\u001b[0m\u001b[1;33m:\u001b[0m\u001b[1;33m\u001b[0m\u001b[1;33m\u001b[0m\u001b[0m\n\u001b[1;32m--> 144\u001b[1;33m         \u001b[1;32mreturn\u001b[0m \u001b[0mself\u001b[0m\u001b[1;33m.\u001b[0m\u001b[0mpipe\u001b[0m\u001b[1;33m(\u001b[0m\u001b[0mformat\u001b[0m\u001b[1;33m=\u001b[0m\u001b[1;34m'svg'\u001b[0m\u001b[1;33m)\u001b[0m\u001b[1;33m.\u001b[0m\u001b[0mdecode\u001b[0m\u001b[1;33m(\u001b[0m\u001b[0mself\u001b[0m\u001b[1;33m.\u001b[0m\u001b[0m_encoding\u001b[0m\u001b[1;33m)\u001b[0m\u001b[1;33m\u001b[0m\u001b[1;33m\u001b[0m\u001b[0m\n\u001b[0m\u001b[0;32m    145\u001b[0m \u001b[1;33m\u001b[0m\u001b[0m\n\u001b[0;32m    146\u001b[0m     \u001b[1;32mdef\u001b[0m \u001b[0mpipe\u001b[0m\u001b[1;33m(\u001b[0m\u001b[0mself\u001b[0m\u001b[1;33m,\u001b[0m \u001b[0mformat\u001b[0m\u001b[1;33m=\u001b[0m\u001b[1;32mNone\u001b[0m\u001b[1;33m,\u001b[0m \u001b[0mrenderer\u001b[0m\u001b[1;33m=\u001b[0m\u001b[1;32mNone\u001b[0m\u001b[1;33m,\u001b[0m \u001b[0mformatter\u001b[0m\u001b[1;33m=\u001b[0m\u001b[1;32mNone\u001b[0m\u001b[1;33m,\u001b[0m \u001b[0mquiet\u001b[0m\u001b[1;33m=\u001b[0m\u001b[1;32mFalse\u001b[0m\u001b[1;33m)\u001b[0m\u001b[1;33m:\u001b[0m\u001b[1;33m\u001b[0m\u001b[1;33m\u001b[0m\u001b[0m\n",
      "\u001b[1;32m~\\anaconda3\\envs\\Top2000H\\lib\\site-packages\\graphviz\\files.py\u001b[0m in \u001b[0;36mpipe\u001b[1;34m(self, format, renderer, formatter, quiet)\u001b[0m\n\u001b[0;32m    167\u001b[0m         \u001b[0mdata\u001b[0m \u001b[1;33m=\u001b[0m \u001b[0mtext_type\u001b[0m\u001b[1;33m(\u001b[0m\u001b[0mself\u001b[0m\u001b[1;33m.\u001b[0m\u001b[0msource\u001b[0m\u001b[1;33m)\u001b[0m\u001b[1;33m.\u001b[0m\u001b[0mencode\u001b[0m\u001b[1;33m(\u001b[0m\u001b[0mself\u001b[0m\u001b[1;33m.\u001b[0m\u001b[0m_encoding\u001b[0m\u001b[1;33m)\u001b[0m\u001b[1;33m\u001b[0m\u001b[1;33m\u001b[0m\u001b[0m\n\u001b[0;32m    168\u001b[0m \u001b[1;33m\u001b[0m\u001b[0m\n\u001b[1;32m--> 169\u001b[1;33m         out = backend.pipe(self._engine, format, data,\n\u001b[0m\u001b[0;32m    170\u001b[0m                            \u001b[0mrenderer\u001b[0m\u001b[1;33m=\u001b[0m\u001b[0mrenderer\u001b[0m\u001b[1;33m,\u001b[0m \u001b[0mformatter\u001b[0m\u001b[1;33m=\u001b[0m\u001b[0mformatter\u001b[0m\u001b[1;33m,\u001b[0m\u001b[1;33m\u001b[0m\u001b[1;33m\u001b[0m\u001b[0m\n\u001b[0;32m    171\u001b[0m                            quiet=quiet)\n",
      "\u001b[1;32m~\\anaconda3\\envs\\Top2000H\\lib\\site-packages\\graphviz\\backend.py\u001b[0m in \u001b[0;36mpipe\u001b[1;34m(engine, format, data, renderer, formatter, quiet)\u001b[0m\n\u001b[0;32m    248\u001b[0m     \"\"\"\n\u001b[0;32m    249\u001b[0m     \u001b[0mcmd\u001b[0m\u001b[1;33m,\u001b[0m \u001b[0m_\u001b[0m \u001b[1;33m=\u001b[0m \u001b[0mcommand\u001b[0m\u001b[1;33m(\u001b[0m\u001b[0mengine\u001b[0m\u001b[1;33m,\u001b[0m \u001b[0mformat\u001b[0m\u001b[1;33m,\u001b[0m \u001b[1;32mNone\u001b[0m\u001b[1;33m,\u001b[0m \u001b[0mrenderer\u001b[0m\u001b[1;33m,\u001b[0m \u001b[0mformatter\u001b[0m\u001b[1;33m)\u001b[0m\u001b[1;33m\u001b[0m\u001b[1;33m\u001b[0m\u001b[0m\n\u001b[1;32m--> 250\u001b[1;33m     \u001b[0mout\u001b[0m\u001b[1;33m,\u001b[0m \u001b[0m_\u001b[0m \u001b[1;33m=\u001b[0m \u001b[0mrun\u001b[0m\u001b[1;33m(\u001b[0m\u001b[0mcmd\u001b[0m\u001b[1;33m,\u001b[0m \u001b[0minput\u001b[0m\u001b[1;33m=\u001b[0m\u001b[0mdata\u001b[0m\u001b[1;33m,\u001b[0m \u001b[0mcapture_output\u001b[0m\u001b[1;33m=\u001b[0m\u001b[1;32mTrue\u001b[0m\u001b[1;33m,\u001b[0m \u001b[0mcheck\u001b[0m\u001b[1;33m=\u001b[0m\u001b[1;32mTrue\u001b[0m\u001b[1;33m,\u001b[0m \u001b[0mquiet\u001b[0m\u001b[1;33m=\u001b[0m\u001b[0mquiet\u001b[0m\u001b[1;33m)\u001b[0m\u001b[1;33m\u001b[0m\u001b[1;33m\u001b[0m\u001b[0m\n\u001b[0m\u001b[0;32m    251\u001b[0m     \u001b[1;32mreturn\u001b[0m \u001b[0mout\u001b[0m\u001b[1;33m\u001b[0m\u001b[1;33m\u001b[0m\u001b[0m\n\u001b[0;32m    252\u001b[0m \u001b[1;33m\u001b[0m\u001b[0m\n",
      "\u001b[1;32m~\\anaconda3\\envs\\Top2000H\\lib\\site-packages\\graphviz\\backend.py\u001b[0m in \u001b[0;36mrun\u001b[1;34m(cmd, input, capture_output, check, encoding, quiet, **kwargs)\u001b[0m\n\u001b[0;32m    167\u001b[0m     \u001b[1;32mexcept\u001b[0m \u001b[0mOSError\u001b[0m \u001b[1;32mas\u001b[0m \u001b[0me\u001b[0m\u001b[1;33m:\u001b[0m\u001b[1;33m\u001b[0m\u001b[1;33m\u001b[0m\u001b[0m\n\u001b[0;32m    168\u001b[0m         \u001b[1;32mif\u001b[0m \u001b[0me\u001b[0m\u001b[1;33m.\u001b[0m\u001b[0merrno\u001b[0m \u001b[1;33m==\u001b[0m \u001b[0merrno\u001b[0m\u001b[1;33m.\u001b[0m\u001b[0mENOENT\u001b[0m\u001b[1;33m:\u001b[0m\u001b[1;33m\u001b[0m\u001b[1;33m\u001b[0m\u001b[0m\n\u001b[1;32m--> 169\u001b[1;33m             \u001b[1;32mraise\u001b[0m \u001b[0mExecutableNotFound\u001b[0m\u001b[1;33m(\u001b[0m\u001b[0mcmd\u001b[0m\u001b[1;33m)\u001b[0m\u001b[1;33m\u001b[0m\u001b[1;33m\u001b[0m\u001b[0m\n\u001b[0m\u001b[0;32m    170\u001b[0m         \u001b[1;32melse\u001b[0m\u001b[1;33m:\u001b[0m\u001b[1;33m\u001b[0m\u001b[1;33m\u001b[0m\u001b[0m\n\u001b[0;32m    171\u001b[0m             \u001b[1;32mraise\u001b[0m\u001b[1;33m\u001b[0m\u001b[1;33m\u001b[0m\u001b[0m\n",
      "\u001b[1;31mExecutableNotFound\u001b[0m: failed to execute ['dot.bat', '-Kdot', '-Tsvg'], make sure the Graphviz executables are on your systems' PATH"
     ]
    },
    {
     "data": {
      "text/plain": [
       "<graphviz.dot.Digraph at 0x1a7d6f7b610>"
      ]
     },
     "metadata": {},
     "output_type": "display_data"
    },
    {
     "name": "stderr",
     "output_type": "stream",
     "text": [
      "Auto-assigning NUTS sampler...\n",
      "Initializing NUTS using jitter+adapt_diag...\n",
      "Multiprocess sampling (2 chains in 2 jobs)\n",
      "NUTS: [sigma, within_oeuvre_effect, sharing_effect, is_dutch_effect, age_passing_effect, history_effect, effect_popularity, max_recency_effect, recency_effect_exponent, a]\n"
     ]
    },
    {
     "data": {
      "text/html": [
       "\n",
       "    <div>\n",
       "        <style>\n",
       "            /* Turns off some styling */\n",
       "            progress {\n",
       "                /* gets rid of default border in Firefox and Opera. */\n",
       "                border: none;\n",
       "                /* Needs to be in here for Safari polyfill so background images work as expected. */\n",
       "                background-size: auto;\n",
       "            }\n",
       "            .progress-bar-interrupted, .progress-bar-interrupted::-webkit-progress-bar {\n",
       "                background: #F44336;\n",
       "            }\n",
       "        </style>\n",
       "      <progress value='16000' class='' max='16000' style='width:300px; height:20px; vertical-align: middle;'></progress>\n",
       "      100.00% [16000/16000 01:29<00:00 Sampling 2 chains, 0 divergences]\n",
       "    </div>\n",
       "    "
      ],
      "text/plain": [
       "<IPython.core.display.HTML object>"
      ]
     },
     "metadata": {},
     "output_type": "display_data"
    },
    {
     "name": "stderr",
     "output_type": "stream",
     "text": [
      "Sampling 2 chains for 3_000 tune and 5_000 draw iterations (6_000 + 10_000 draws total) took 100 seconds.\n"
     ]
    },
    {
     "name": "stdout",
     "output_type": "stream",
     "text": [
      "0, dim: obs_id, 123 =? 123\n"
     ]
    }
   ],
   "source": [
    "with unpooled_model_factory(X=df_train,\n",
    "                   y=y_train,\n",
    "                   ) as multilevel_noncentered_model:\n",
    "#     display(pm.model_to_graphviz(multilevel_noncentered_model))\n",
    "    unpooled_model_idata = pm.sample(5000, tune=3000, return_inferencedata=True, random_seed=RANDOM_SEED, target_accept=0.95)"
   ]
  },
  {
   "cell_type": "code",
   "execution_count": 35,
   "metadata": {},
   "outputs": [],
   "source": [
    "with unpooled_model_factory(X=df_test,\n",
    "                   y=y_test,\n",
    "                   ) as test_model:\n",
    "    ppc_unpooled = pm.fast_sample_posterior_predictive(unpooled_model_idata.posterior,\n",
    "                                         var_names=['y_like'],\n",
    "                                        )\n"
   ]
  },
  {
   "cell_type": "code",
   "execution_count": 36,
   "metadata": {},
   "outputs": [],
   "source": [
    "y_pred_unpooled = np.median(ppc_unpooled['y_like'], axis=0)"
   ]
  },
  {
   "cell_type": "code",
   "execution_count": 37,
   "metadata": {},
   "outputs": [
    {
     "data": {
      "text/plain": [
       "mean    0.377371\n",
       "sem     0.053714\n",
       "dtype: float64"
      ]
     },
     "execution_count": 37,
     "metadata": {},
     "output_type": "execute_result"
    }
   ],
   "source": [
    "pd.DataFrame(ppc_unpooled['y_like']).median().sub(y_test.values).abs().agg(['mean', 'sem'])"
   ]
  },
  {
   "cell_type": "code",
   "execution_count": 38,
   "metadata": {},
   "outputs": [],
   "source": [
    "model_results['Unpooled'] = sklearn.metrics.mean_absolute_error(y_test, y_pred_unpooled)"
   ]
  },
  {
   "cell_type": "markdown",
   "metadata": {},
   "source": [
    "## Multi-level Bayesian model"
   ]
  },
  {
   "cell_type": "code",
   "execution_count": 39,
   "metadata": {},
   "outputs": [],
   "source": [
    "import pymc3 as pm\n",
    "import arviz as az"
   ]
  },
  {
   "cell_type": "code",
   "execution_count": 40,
   "metadata": {},
   "outputs": [],
   "source": [
    "RANDOM_SEED = 42\n",
    "def model_factory(X, y):\n",
    "    passed_away_artists = X['ArtistID'].unique()\n",
    "    artist_lookup = dict(zip(passed_away_artists, range(len(passed_away_artists))))\n",
    "    artist_vals = X['ArtistID'].replace(artist_lookup).values\n",
    "    artist_model = (X.assign(ArtistIDModel = lambda df: X['ArtistID'].map(artist_lookup),\n",
    "                             )\n",
    "                .sort_values('ArtistIDModel')\n",
    "                .drop_duplicates(['ArtistIDModel'])\n",
    "               )\n",
    "    \n",
    "    \n",
    "    coords = {\"obs_id\": np.arange(X.shape[0]),\n",
    "              'Artist': range(len(passed_away_artists))\n",
    "         }\n",
    "    with pm.Model(coords=coords) as model:\n",
    "        artist_idx = pm.Data(\"artist_idx\", artist_vals, dims=\"obs_id\")\n",
    "        days_to_stemperiode = pm.Data('days_to_stemperiode', artist_model['DaysToStemperiode'], dims='Artist')\n",
    "        logpopularity = pm.Data('logpopularity', artist_model['LogPopularityNorm'], dims='Artist')\n",
    "        jaren_geleden = pm.Data(\"jaren_geleden\", artist_model['JarenGeleden'], dims='Artist')\n",
    "        passing_too_early = pm.Data('passing_too_early', artist_model['PassingTooEarly'], dims='Artist')\n",
    "        is_dutch = pm.Data('is_dutch', artist_model['IsDutchArtist'], dims='Artist')\n",
    "\n",
    "        multiple_performers = pm.Data('multiple_performers', X['MultiplePerformers'], dims=\"obs_id\")\n",
    "        popularity_within_oeuvre = pm.Data('popularity_within_oeuvre', X['LogSongPopularityWithinArtist'], dims=\"obs_id\")\n",
    "\n",
    "        # Hyperpriors:\n",
    "        a = pm.Normal(\"a\", mu=0, sigma=2.0)\n",
    "        sigma_a = pm.Exponential(\"sigma_a\", 1.0)\n",
    "\n",
    "        recency_effect_exponent = pm.Normal('recency_effect_exponent', mu=-1.5,sigma=1)\n",
    "        max_recency_effect = pm.Normal('max_recency_effect', mu=2, sigma=2)\n",
    "        effect_popularity = pm.Normal('effect_popularity', mu=0, sigma=2)\n",
    "        history_effect = pm.Normal('history_effect', mu=0, sigma=1)\n",
    "        age_passing_effect = pm.Normal('age_passing_effect', mu=0, sigma=1)\n",
    "        is_dutch_effect = pm.Normal('is_dutch_effect', mu=0, sigma=2)\n",
    "\n",
    "        # Expected value per artist:\n",
    "        mu_artist = (a\n",
    "                     + logpopularity * effect_popularity\n",
    "                     # The correction of subtracting the minimum value is important for two reasons:\n",
    "                     # 1. Since it fixes the minimum value at 1, it breaks the degeneracy with _a_, which makes sampling much more stable\n",
    "                     # 2. It allows for much easier interpretation\n",
    "                     + (np.exp(10**recency_effect_exponent * days_to_stemperiode)- np.exp(10**recency_effect_exponent * -365))* max_recency_effect\n",
    "                     + jaren_geleden * history_effect\n",
    "                     + passing_too_early * age_passing_effect\n",
    "                     + is_dutch * is_dutch_effect\n",
    "                    )\n",
    "\n",
    "        # This is the non-centered version of the model for a much more stable sampling\n",
    "        # See https://twiecki.io/blog/2017/02/08/bayesian-hierchical-non-centered/ for more information\n",
    "        mu_artist = pm.Deterministic(\"mu_artist\", mu_artist, dims=\"Artist\")\n",
    "        za_artist = pm.Normal(\"za_artist\", mu=0.0, sigma=1.0, dims='Artist')\n",
    "        a_artist = pm.Deterministic(\"a_artist\", mu_artist + za_artist * sigma_a, dims=\"Artist\")\n",
    "        sharing_effect = pm.Normal('sharing_effect', mu=0, sigma=2.0)\n",
    "        within_oeuvre_effect = pm.Normal('within_oeuvre_effect', mu=0, sigma=2.0)\n",
    "        theta = (a_artist[artist_idx]\n",
    "                 + multiple_performers * sharing_effect\n",
    "                 + popularity_within_oeuvre * within_oeuvre_effect\n",
    "                )\n",
    "        # Model error:\n",
    "        sigma = pm.Exponential(\"sigma\", 1.0)\n",
    "\n",
    "        y_like = pm.Normal(\"y_like\", theta, sigma=sigma, observed=y, dims=\"obs_id\")\n",
    "\n",
    "        return model"
   ]
  },
  {
   "cell_type": "code",
   "execution_count": 41,
   "metadata": {},
   "outputs": [
    {
     "ename": "ExecutableNotFound",
     "evalue": "failed to execute ['dot.bat', '-Kdot', '-Tsvg'], make sure the Graphviz executables are on your systems' PATH",
     "output_type": "error",
     "traceback": [
      "\u001b[1;31m---------------------------------------------------------------------------\u001b[0m",
      "\u001b[1;31mFileNotFoundError\u001b[0m                         Traceback (most recent call last)",
      "\u001b[1;32m~\\anaconda3\\envs\\Top2000H\\lib\\site-packages\\graphviz\\backend.py\u001b[0m in \u001b[0;36mrun\u001b[1;34m(cmd, input, capture_output, check, encoding, quiet, **kwargs)\u001b[0m\n\u001b[0;32m    165\u001b[0m     \u001b[1;32mtry\u001b[0m\u001b[1;33m:\u001b[0m\u001b[1;33m\u001b[0m\u001b[1;33m\u001b[0m\u001b[0m\n\u001b[1;32m--> 166\u001b[1;33m         \u001b[0mproc\u001b[0m \u001b[1;33m=\u001b[0m \u001b[0msubprocess\u001b[0m\u001b[1;33m.\u001b[0m\u001b[0mPopen\u001b[0m\u001b[1;33m(\u001b[0m\u001b[0mcmd\u001b[0m\u001b[1;33m,\u001b[0m \u001b[0mstartupinfo\u001b[0m\u001b[1;33m=\u001b[0m\u001b[0mget_startupinfo\u001b[0m\u001b[1;33m(\u001b[0m\u001b[1;33m)\u001b[0m\u001b[1;33m,\u001b[0m \u001b[1;33m**\u001b[0m\u001b[0mkwargs\u001b[0m\u001b[1;33m)\u001b[0m\u001b[1;33m\u001b[0m\u001b[1;33m\u001b[0m\u001b[0m\n\u001b[0m\u001b[0;32m    167\u001b[0m     \u001b[1;32mexcept\u001b[0m \u001b[0mOSError\u001b[0m \u001b[1;32mas\u001b[0m \u001b[0me\u001b[0m\u001b[1;33m:\u001b[0m\u001b[1;33m\u001b[0m\u001b[1;33m\u001b[0m\u001b[0m\n",
      "\u001b[1;32m~\\anaconda3\\envs\\Top2000H\\lib\\subprocess.py\u001b[0m in \u001b[0;36m__init__\u001b[1;34m(self, args, bufsize, executable, stdin, stdout, stderr, preexec_fn, close_fds, shell, cwd, env, universal_newlines, startupinfo, creationflags, restore_signals, start_new_session, pass_fds, encoding, errors, text)\u001b[0m\n\u001b[0;32m    857\u001b[0m \u001b[1;33m\u001b[0m\u001b[0m\n\u001b[1;32m--> 858\u001b[1;33m             self._execute_child(args, executable, preexec_fn, close_fds,\n\u001b[0m\u001b[0;32m    859\u001b[0m                                 \u001b[0mpass_fds\u001b[0m\u001b[1;33m,\u001b[0m \u001b[0mcwd\u001b[0m\u001b[1;33m,\u001b[0m \u001b[0menv\u001b[0m\u001b[1;33m,\u001b[0m\u001b[1;33m\u001b[0m\u001b[1;33m\u001b[0m\u001b[0m\n",
      "\u001b[1;32m~\\anaconda3\\envs\\Top2000H\\lib\\subprocess.py\u001b[0m in \u001b[0;36m_execute_child\u001b[1;34m(self, args, executable, preexec_fn, close_fds, pass_fds, cwd, env, startupinfo, creationflags, shell, p2cread, p2cwrite, c2pread, c2pwrite, errread, errwrite, unused_restore_signals, unused_start_new_session)\u001b[0m\n\u001b[0;32m   1310\u001b[0m             \u001b[1;32mtry\u001b[0m\u001b[1;33m:\u001b[0m\u001b[1;33m\u001b[0m\u001b[1;33m\u001b[0m\u001b[0m\n\u001b[1;32m-> 1311\u001b[1;33m                 hp, ht, pid, tid = _winapi.CreateProcess(executable, args,\n\u001b[0m\u001b[0;32m   1312\u001b[0m                                          \u001b[1;31m# no special security\u001b[0m\u001b[1;33m\u001b[0m\u001b[1;33m\u001b[0m\u001b[1;33m\u001b[0m\u001b[0m\n",
      "\u001b[1;31mFileNotFoundError\u001b[0m: [WinError 2] Het systeem kan het opgegeven bestand niet vinden",
      "\nDuring handling of the above exception, another exception occurred:\n",
      "\u001b[1;31mExecutableNotFound\u001b[0m                        Traceback (most recent call last)",
      "\u001b[1;32m~\\AppData\\Roaming\\Python\\Python38\\site-packages\\IPython\\core\\formatters.py\u001b[0m in \u001b[0;36m__call__\u001b[1;34m(self, obj)\u001b[0m\n\u001b[0;32m    343\u001b[0m             \u001b[0mmethod\u001b[0m \u001b[1;33m=\u001b[0m \u001b[0mget_real_method\u001b[0m\u001b[1;33m(\u001b[0m\u001b[0mobj\u001b[0m\u001b[1;33m,\u001b[0m \u001b[0mself\u001b[0m\u001b[1;33m.\u001b[0m\u001b[0mprint_method\u001b[0m\u001b[1;33m)\u001b[0m\u001b[1;33m\u001b[0m\u001b[1;33m\u001b[0m\u001b[0m\n\u001b[0;32m    344\u001b[0m             \u001b[1;32mif\u001b[0m \u001b[0mmethod\u001b[0m \u001b[1;32mis\u001b[0m \u001b[1;32mnot\u001b[0m \u001b[1;32mNone\u001b[0m\u001b[1;33m:\u001b[0m\u001b[1;33m\u001b[0m\u001b[1;33m\u001b[0m\u001b[0m\n\u001b[1;32m--> 345\u001b[1;33m                 \u001b[1;32mreturn\u001b[0m \u001b[0mmethod\u001b[0m\u001b[1;33m(\u001b[0m\u001b[1;33m)\u001b[0m\u001b[1;33m\u001b[0m\u001b[1;33m\u001b[0m\u001b[0m\n\u001b[0m\u001b[0;32m    346\u001b[0m             \u001b[1;32mreturn\u001b[0m \u001b[1;32mNone\u001b[0m\u001b[1;33m\u001b[0m\u001b[1;33m\u001b[0m\u001b[0m\n\u001b[0;32m    347\u001b[0m         \u001b[1;32melse\u001b[0m\u001b[1;33m:\u001b[0m\u001b[1;33m\u001b[0m\u001b[1;33m\u001b[0m\u001b[0m\n",
      "\u001b[1;32m~\\anaconda3\\envs\\Top2000H\\lib\\site-packages\\graphviz\\files.py\u001b[0m in \u001b[0;36m_repr_svg_\u001b[1;34m(self)\u001b[0m\n\u001b[0;32m    142\u001b[0m \u001b[1;33m\u001b[0m\u001b[0m\n\u001b[0;32m    143\u001b[0m     \u001b[1;32mdef\u001b[0m \u001b[0m_repr_svg_\u001b[0m\u001b[1;33m(\u001b[0m\u001b[0mself\u001b[0m\u001b[1;33m)\u001b[0m\u001b[1;33m:\u001b[0m\u001b[1;33m\u001b[0m\u001b[1;33m\u001b[0m\u001b[0m\n\u001b[1;32m--> 144\u001b[1;33m         \u001b[1;32mreturn\u001b[0m \u001b[0mself\u001b[0m\u001b[1;33m.\u001b[0m\u001b[0mpipe\u001b[0m\u001b[1;33m(\u001b[0m\u001b[0mformat\u001b[0m\u001b[1;33m=\u001b[0m\u001b[1;34m'svg'\u001b[0m\u001b[1;33m)\u001b[0m\u001b[1;33m.\u001b[0m\u001b[0mdecode\u001b[0m\u001b[1;33m(\u001b[0m\u001b[0mself\u001b[0m\u001b[1;33m.\u001b[0m\u001b[0m_encoding\u001b[0m\u001b[1;33m)\u001b[0m\u001b[1;33m\u001b[0m\u001b[1;33m\u001b[0m\u001b[0m\n\u001b[0m\u001b[0;32m    145\u001b[0m \u001b[1;33m\u001b[0m\u001b[0m\n\u001b[0;32m    146\u001b[0m     \u001b[1;32mdef\u001b[0m \u001b[0mpipe\u001b[0m\u001b[1;33m(\u001b[0m\u001b[0mself\u001b[0m\u001b[1;33m,\u001b[0m \u001b[0mformat\u001b[0m\u001b[1;33m=\u001b[0m\u001b[1;32mNone\u001b[0m\u001b[1;33m,\u001b[0m \u001b[0mrenderer\u001b[0m\u001b[1;33m=\u001b[0m\u001b[1;32mNone\u001b[0m\u001b[1;33m,\u001b[0m \u001b[0mformatter\u001b[0m\u001b[1;33m=\u001b[0m\u001b[1;32mNone\u001b[0m\u001b[1;33m,\u001b[0m \u001b[0mquiet\u001b[0m\u001b[1;33m=\u001b[0m\u001b[1;32mFalse\u001b[0m\u001b[1;33m)\u001b[0m\u001b[1;33m:\u001b[0m\u001b[1;33m\u001b[0m\u001b[1;33m\u001b[0m\u001b[0m\n",
      "\u001b[1;32m~\\anaconda3\\envs\\Top2000H\\lib\\site-packages\\graphviz\\files.py\u001b[0m in \u001b[0;36mpipe\u001b[1;34m(self, format, renderer, formatter, quiet)\u001b[0m\n\u001b[0;32m    167\u001b[0m         \u001b[0mdata\u001b[0m \u001b[1;33m=\u001b[0m \u001b[0mtext_type\u001b[0m\u001b[1;33m(\u001b[0m\u001b[0mself\u001b[0m\u001b[1;33m.\u001b[0m\u001b[0msource\u001b[0m\u001b[1;33m)\u001b[0m\u001b[1;33m.\u001b[0m\u001b[0mencode\u001b[0m\u001b[1;33m(\u001b[0m\u001b[0mself\u001b[0m\u001b[1;33m.\u001b[0m\u001b[0m_encoding\u001b[0m\u001b[1;33m)\u001b[0m\u001b[1;33m\u001b[0m\u001b[1;33m\u001b[0m\u001b[0m\n\u001b[0;32m    168\u001b[0m \u001b[1;33m\u001b[0m\u001b[0m\n\u001b[1;32m--> 169\u001b[1;33m         out = backend.pipe(self._engine, format, data,\n\u001b[0m\u001b[0;32m    170\u001b[0m                            \u001b[0mrenderer\u001b[0m\u001b[1;33m=\u001b[0m\u001b[0mrenderer\u001b[0m\u001b[1;33m,\u001b[0m \u001b[0mformatter\u001b[0m\u001b[1;33m=\u001b[0m\u001b[0mformatter\u001b[0m\u001b[1;33m,\u001b[0m\u001b[1;33m\u001b[0m\u001b[1;33m\u001b[0m\u001b[0m\n\u001b[0;32m    171\u001b[0m                            quiet=quiet)\n",
      "\u001b[1;32m~\\anaconda3\\envs\\Top2000H\\lib\\site-packages\\graphviz\\backend.py\u001b[0m in \u001b[0;36mpipe\u001b[1;34m(engine, format, data, renderer, formatter, quiet)\u001b[0m\n\u001b[0;32m    248\u001b[0m     \"\"\"\n\u001b[0;32m    249\u001b[0m     \u001b[0mcmd\u001b[0m\u001b[1;33m,\u001b[0m \u001b[0m_\u001b[0m \u001b[1;33m=\u001b[0m \u001b[0mcommand\u001b[0m\u001b[1;33m(\u001b[0m\u001b[0mengine\u001b[0m\u001b[1;33m,\u001b[0m \u001b[0mformat\u001b[0m\u001b[1;33m,\u001b[0m \u001b[1;32mNone\u001b[0m\u001b[1;33m,\u001b[0m \u001b[0mrenderer\u001b[0m\u001b[1;33m,\u001b[0m \u001b[0mformatter\u001b[0m\u001b[1;33m)\u001b[0m\u001b[1;33m\u001b[0m\u001b[1;33m\u001b[0m\u001b[0m\n\u001b[1;32m--> 250\u001b[1;33m     \u001b[0mout\u001b[0m\u001b[1;33m,\u001b[0m \u001b[0m_\u001b[0m \u001b[1;33m=\u001b[0m \u001b[0mrun\u001b[0m\u001b[1;33m(\u001b[0m\u001b[0mcmd\u001b[0m\u001b[1;33m,\u001b[0m \u001b[0minput\u001b[0m\u001b[1;33m=\u001b[0m\u001b[0mdata\u001b[0m\u001b[1;33m,\u001b[0m \u001b[0mcapture_output\u001b[0m\u001b[1;33m=\u001b[0m\u001b[1;32mTrue\u001b[0m\u001b[1;33m,\u001b[0m \u001b[0mcheck\u001b[0m\u001b[1;33m=\u001b[0m\u001b[1;32mTrue\u001b[0m\u001b[1;33m,\u001b[0m \u001b[0mquiet\u001b[0m\u001b[1;33m=\u001b[0m\u001b[0mquiet\u001b[0m\u001b[1;33m)\u001b[0m\u001b[1;33m\u001b[0m\u001b[1;33m\u001b[0m\u001b[0m\n\u001b[0m\u001b[0;32m    251\u001b[0m     \u001b[1;32mreturn\u001b[0m \u001b[0mout\u001b[0m\u001b[1;33m\u001b[0m\u001b[1;33m\u001b[0m\u001b[0m\n\u001b[0;32m    252\u001b[0m \u001b[1;33m\u001b[0m\u001b[0m\n",
      "\u001b[1;32m~\\anaconda3\\envs\\Top2000H\\lib\\site-packages\\graphviz\\backend.py\u001b[0m in \u001b[0;36mrun\u001b[1;34m(cmd, input, capture_output, check, encoding, quiet, **kwargs)\u001b[0m\n\u001b[0;32m    167\u001b[0m     \u001b[1;32mexcept\u001b[0m \u001b[0mOSError\u001b[0m \u001b[1;32mas\u001b[0m \u001b[0me\u001b[0m\u001b[1;33m:\u001b[0m\u001b[1;33m\u001b[0m\u001b[1;33m\u001b[0m\u001b[0m\n\u001b[0;32m    168\u001b[0m         \u001b[1;32mif\u001b[0m \u001b[0me\u001b[0m\u001b[1;33m.\u001b[0m\u001b[0merrno\u001b[0m \u001b[1;33m==\u001b[0m \u001b[0merrno\u001b[0m\u001b[1;33m.\u001b[0m\u001b[0mENOENT\u001b[0m\u001b[1;33m:\u001b[0m\u001b[1;33m\u001b[0m\u001b[1;33m\u001b[0m\u001b[0m\n\u001b[1;32m--> 169\u001b[1;33m             \u001b[1;32mraise\u001b[0m \u001b[0mExecutableNotFound\u001b[0m\u001b[1;33m(\u001b[0m\u001b[0mcmd\u001b[0m\u001b[1;33m)\u001b[0m\u001b[1;33m\u001b[0m\u001b[1;33m\u001b[0m\u001b[0m\n\u001b[0m\u001b[0;32m    170\u001b[0m         \u001b[1;32melse\u001b[0m\u001b[1;33m:\u001b[0m\u001b[1;33m\u001b[0m\u001b[1;33m\u001b[0m\u001b[0m\n\u001b[0;32m    171\u001b[0m             \u001b[1;32mraise\u001b[0m\u001b[1;33m\u001b[0m\u001b[1;33m\u001b[0m\u001b[0m\n",
      "\u001b[1;31mExecutableNotFound\u001b[0m: failed to execute ['dot.bat', '-Kdot', '-Tsvg'], make sure the Graphviz executables are on your systems' PATH"
     ]
    },
    {
     "data": {
      "text/plain": [
       "<graphviz.dot.Digraph at 0x1a7df2364c0>"
      ]
     },
     "metadata": {},
     "output_type": "display_data"
    },
    {
     "name": "stderr",
     "output_type": "stream",
     "text": [
      "Auto-assigning NUTS sampler...\n",
      "Initializing NUTS using jitter+adapt_diag...\n",
      "Multiprocess sampling (2 chains in 2 jobs)\n",
      "NUTS: [sigma, within_oeuvre_effect, sharing_effect, za_artist, is_dutch_effect, age_passing_effect, history_effect, effect_popularity, max_recency_effect, recency_effect_exponent, sigma_a, a]\n"
     ]
    },
    {
     "data": {
      "text/html": [
       "\n",
       "    <div>\n",
       "        <style>\n",
       "            /* Turns off some styling */\n",
       "            progress {\n",
       "                /* gets rid of default border in Firefox and Opera. */\n",
       "                border: none;\n",
       "                /* Needs to be in here for Safari polyfill so background images work as expected. */\n",
       "                background-size: auto;\n",
       "            }\n",
       "            .progress-bar-interrupted, .progress-bar-interrupted::-webkit-progress-bar {\n",
       "                background: #F44336;\n",
       "            }\n",
       "        </style>\n",
       "      <progress value='16000' class='' max='16000' style='width:300px; height:20px; vertical-align: middle;'></progress>\n",
       "      100.00% [16000/16000 01:58<00:00 Sampling 2 chains, 0 divergences]\n",
       "    </div>\n",
       "    "
      ],
      "text/plain": [
       "<IPython.core.display.HTML object>"
      ]
     },
     "metadata": {},
     "output_type": "display_data"
    },
    {
     "name": "stderr",
     "output_type": "stream",
     "text": [
      "Sampling 2 chains for 3_000 tune and 5_000 draw iterations (6_000 + 10_000 draws total) took 130 seconds.\n"
     ]
    },
    {
     "name": "stdout",
     "output_type": "stream",
     "text": [
      "0, dim: obs_id, 123 =? 123\n"
     ]
    },
    {
     "name": "stderr",
     "output_type": "stream",
     "text": [
      "The number of effective samples is smaller than 25% for some parameters.\n"
     ]
    }
   ],
   "source": [
    "with model_factory(X=df_train,\n",
    "                   y=y_train,\n",
    "                   ) as multilevel_noncentered_model:\n",
    "    display(pm.model_to_graphviz(multilevel_noncentered_model))\n",
    "    multilevel_noncentered_model_idata = pm.sample(5000, tune=3000, return_inferencedata=True, random_seed=RANDOM_SEED, target_accept=0.95)"
   ]
  },
  {
   "cell_type": "code",
   "execution_count": 43,
   "metadata": {},
   "outputs": [
    {
     "data": {
      "text/html": [
       "\n",
       "    <div>\n",
       "        <style>\n",
       "            /* Turns off some styling */\n",
       "            progress {\n",
       "                /* gets rid of default border in Firefox and Opera. */\n",
       "                border: none;\n",
       "                /* Needs to be in here for Safari polyfill so background images work as expected. */\n",
       "                background-size: auto;\n",
       "            }\n",
       "            .progress-bar-interrupted, .progress-bar-interrupted::-webkit-progress-bar {\n",
       "                background: #F44336;\n",
       "            }\n",
       "        </style>\n",
       "      <progress value='10000' class='' max='10000' style='width:300px; height:20px; vertical-align: middle;'></progress>\n",
       "      100.00% [10000/10000 00:56<00:00]\n",
       "    </div>\n",
       "    "
      ],
      "text/plain": [
       "<IPython.core.display.HTML object>"
      ]
     },
     "metadata": {},
     "output_type": "display_data"
    }
   ],
   "source": [
    "with model_factory(X=df_test,\n",
    "                   y=y_test,\n",
    "                   ) as test_model:\n",
    "    # For newly passed artists, we do not know what za_artist should be\n",
    "    ppc_multilevel = pm.sample_posterior_predictive(multilevel_noncentered_model_idata.posterior.drop_vars(['mu_artist', 'a_artist', 'za_artist']),\n",
    "                                        )\n"
   ]
  },
  {
   "cell_type": "code",
   "execution_count": 44,
   "metadata": {},
   "outputs": [
    {
     "name": "stderr",
     "output_type": "stream",
     "text": [
      "C:\\Users\\Gebruiker\\anaconda3\\envs\\Top2000H\\lib\\site-packages\\arviz\\data\\base.py:169: UserWarning: More chains (10000) than draws (30). Passed array should have shape (chains, draws, *shape)\n",
      "  warnings.warn(\n"
     ]
    }
   ],
   "source": [
    "az.concat(multilevel_noncentered_model_idata, az.from_dict(posterior_predictive=ppc_multilevel), inplace=True)"
   ]
  },
  {
   "cell_type": "code",
   "execution_count": 45,
   "metadata": {},
   "outputs": [
    {
     "data": {
      "text/plain": [
       "0.3849525126991395"
      ]
     },
     "execution_count": 45,
     "metadata": {},
     "output_type": "execute_result"
    }
   ],
   "source": [
    "np.abs(ppc_multilevel['y_like'].mean(axis=0) - y_test.values).mean()"
   ]
  },
  {
   "cell_type": "code",
   "execution_count": 46,
   "metadata": {},
   "outputs": [
    {
     "data": {
      "text/html": [
       "<div>\n",
       "<style scoped>\n",
       "    .dataframe tbody tr th:only-of-type {\n",
       "        vertical-align: middle;\n",
       "    }\n",
       "\n",
       "    .dataframe tbody tr th {\n",
       "        vertical-align: top;\n",
       "    }\n",
       "\n",
       "    .dataframe thead th {\n",
       "        text-align: right;\n",
       "    }\n",
       "</style>\n",
       "<table border=\"1\" class=\"dataframe\">\n",
       "  <thead>\n",
       "    <tr style=\"text-align: right;\">\n",
       "      <th></th>\n",
       "      <th>0</th>\n",
       "      <th>1</th>\n",
       "      <th>2</th>\n",
       "      <th>3</th>\n",
       "      <th>4</th>\n",
       "      <th>5</th>\n",
       "      <th>6</th>\n",
       "      <th>7</th>\n",
       "      <th>8</th>\n",
       "      <th>9</th>\n",
       "      <th>...</th>\n",
       "      <th>20</th>\n",
       "      <th>21</th>\n",
       "      <th>22</th>\n",
       "      <th>23</th>\n",
       "      <th>24</th>\n",
       "      <th>25</th>\n",
       "      <th>26</th>\n",
       "      <th>27</th>\n",
       "      <th>28</th>\n",
       "      <th>29</th>\n",
       "    </tr>\n",
       "  </thead>\n",
       "  <tbody>\n",
       "    <tr>\n",
       "      <th>count</th>\n",
       "      <td>10000.000000</td>\n",
       "      <td>10000.000000</td>\n",
       "      <td>10000.000000</td>\n",
       "      <td>10000.000000</td>\n",
       "      <td>10000.000000</td>\n",
       "      <td>10000.000000</td>\n",
       "      <td>10000.000000</td>\n",
       "      <td>10000.000000</td>\n",
       "      <td>10000.000000</td>\n",
       "      <td>10000.000000</td>\n",
       "      <td>...</td>\n",
       "      <td>10000.000000</td>\n",
       "      <td>10000.000000</td>\n",
       "      <td>10000.000000</td>\n",
       "      <td>10000.000000</td>\n",
       "      <td>10000.000000</td>\n",
       "      <td>10000.000000</td>\n",
       "      <td>10000.000000</td>\n",
       "      <td>10000.000000</td>\n",
       "      <td>10000.000000</td>\n",
       "      <td>10000.000000</td>\n",
       "    </tr>\n",
       "    <tr>\n",
       "      <th>mean</th>\n",
       "      <td>0.738621</td>\n",
       "      <td>0.738075</td>\n",
       "      <td>0.536721</td>\n",
       "      <td>0.526180</td>\n",
       "      <td>0.691582</td>\n",
       "      <td>0.413990</td>\n",
       "      <td>0.693479</td>\n",
       "      <td>0.692607</td>\n",
       "      <td>0.690888</td>\n",
       "      <td>0.688549</td>\n",
       "      <td>...</td>\n",
       "      <td>0.823722</td>\n",
       "      <td>0.531315</td>\n",
       "      <td>0.270388</td>\n",
       "      <td>0.759456</td>\n",
       "      <td>0.175304</td>\n",
       "      <td>0.147152</td>\n",
       "      <td>0.981941</td>\n",
       "      <td>0.976806</td>\n",
       "      <td>0.700962</td>\n",
       "      <td>0.981412</td>\n",
       "    </tr>\n",
       "    <tr>\n",
       "      <th>std</th>\n",
       "      <td>0.503992</td>\n",
       "      <td>0.501150</td>\n",
       "      <td>0.467926</td>\n",
       "      <td>0.464597</td>\n",
       "      <td>0.469804</td>\n",
       "      <td>0.484305</td>\n",
       "      <td>0.465141</td>\n",
       "      <td>0.474002</td>\n",
       "      <td>0.467757</td>\n",
       "      <td>0.464712</td>\n",
       "      <td>...</td>\n",
       "      <td>0.475986</td>\n",
       "      <td>0.483317</td>\n",
       "      <td>0.462896</td>\n",
       "      <td>0.485971</td>\n",
       "      <td>0.468303</td>\n",
       "      <td>0.467800</td>\n",
       "      <td>0.495500</td>\n",
       "      <td>0.492966</td>\n",
       "      <td>0.508726</td>\n",
       "      <td>0.498884</td>\n",
       "    </tr>\n",
       "    <tr>\n",
       "      <th>min</th>\n",
       "      <td>-1.313374</td>\n",
       "      <td>-1.205216</td>\n",
       "      <td>-1.163036</td>\n",
       "      <td>-1.192103</td>\n",
       "      <td>-0.964179</td>\n",
       "      <td>-1.436090</td>\n",
       "      <td>-1.087546</td>\n",
       "      <td>-1.149214</td>\n",
       "      <td>-1.226663</td>\n",
       "      <td>-1.160701</td>\n",
       "      <td>...</td>\n",
       "      <td>-0.945018</td>\n",
       "      <td>-1.256891</td>\n",
       "      <td>-1.726694</td>\n",
       "      <td>-1.084681</td>\n",
       "      <td>-1.669123</td>\n",
       "      <td>-1.574411</td>\n",
       "      <td>-0.834448</td>\n",
       "      <td>-0.879441</td>\n",
       "      <td>-1.034938</td>\n",
       "      <td>-0.819648</td>\n",
       "    </tr>\n",
       "    <tr>\n",
       "      <th>25%</th>\n",
       "      <td>0.402915</td>\n",
       "      <td>0.399713</td>\n",
       "      <td>0.223944</td>\n",
       "      <td>0.214754</td>\n",
       "      <td>0.385273</td>\n",
       "      <td>0.091926</td>\n",
       "      <td>0.385896</td>\n",
       "      <td>0.376186</td>\n",
       "      <td>0.381111</td>\n",
       "      <td>0.380366</td>\n",
       "      <td>...</td>\n",
       "      <td>0.501730</td>\n",
       "      <td>0.204521</td>\n",
       "      <td>-0.042645</td>\n",
       "      <td>0.429908</td>\n",
       "      <td>-0.142434</td>\n",
       "      <td>-0.169326</td>\n",
       "      <td>0.648472</td>\n",
       "      <td>0.645026</td>\n",
       "      <td>0.353942</td>\n",
       "      <td>0.643121</td>\n",
       "    </tr>\n",
       "    <tr>\n",
       "      <th>50%</th>\n",
       "      <td>0.736949</td>\n",
       "      <td>0.734484</td>\n",
       "      <td>0.538486</td>\n",
       "      <td>0.526408</td>\n",
       "      <td>0.693961</td>\n",
       "      <td>0.414509</td>\n",
       "      <td>0.682014</td>\n",
       "      <td>0.695145</td>\n",
       "      <td>0.695137</td>\n",
       "      <td>0.693772</td>\n",
       "      <td>...</td>\n",
       "      <td>0.827557</td>\n",
       "      <td>0.523353</td>\n",
       "      <td>0.268066</td>\n",
       "      <td>0.768223</td>\n",
       "      <td>0.171761</td>\n",
       "      <td>0.148745</td>\n",
       "      <td>0.987655</td>\n",
       "      <td>0.976024</td>\n",
       "      <td>0.703722</td>\n",
       "      <td>0.976412</td>\n",
       "    </tr>\n",
       "    <tr>\n",
       "      <th>75%</th>\n",
       "      <td>1.075742</td>\n",
       "      <td>1.076594</td>\n",
       "      <td>0.846440</td>\n",
       "      <td>0.835581</td>\n",
       "      <td>1.003181</td>\n",
       "      <td>0.732684</td>\n",
       "      <td>1.002364</td>\n",
       "      <td>1.008041</td>\n",
       "      <td>1.002789</td>\n",
       "      <td>1.000403</td>\n",
       "      <td>...</td>\n",
       "      <td>1.147160</td>\n",
       "      <td>0.860457</td>\n",
       "      <td>0.585025</td>\n",
       "      <td>1.082361</td>\n",
       "      <td>0.490621</td>\n",
       "      <td>0.461210</td>\n",
       "      <td>1.309992</td>\n",
       "      <td>1.313891</td>\n",
       "      <td>1.043668</td>\n",
       "      <td>1.311321</td>\n",
       "    </tr>\n",
       "    <tr>\n",
       "      <th>max</th>\n",
       "      <td>3.065274</td>\n",
       "      <td>2.752201</td>\n",
       "      <td>2.213161</td>\n",
       "      <td>2.226504</td>\n",
       "      <td>2.784989</td>\n",
       "      <td>2.412201</td>\n",
       "      <td>2.830495</td>\n",
       "      <td>2.638455</td>\n",
       "      <td>2.444957</td>\n",
       "      <td>2.512138</td>\n",
       "      <td>...</td>\n",
       "      <td>2.600195</td>\n",
       "      <td>2.404328</td>\n",
       "      <td>2.657128</td>\n",
       "      <td>2.751508</td>\n",
       "      <td>1.965873</td>\n",
       "      <td>2.088943</td>\n",
       "      <td>2.978923</td>\n",
       "      <td>2.877209</td>\n",
       "      <td>3.220163</td>\n",
       "      <td>2.813467</td>\n",
       "    </tr>\n",
       "  </tbody>\n",
       "</table>\n",
       "<p>8 rows × 30 columns</p>\n",
       "</div>"
      ],
      "text/plain": [
       "                 0             1             2             3             4   \\\n",
       "count  10000.000000  10000.000000  10000.000000  10000.000000  10000.000000   \n",
       "mean       0.738621      0.738075      0.536721      0.526180      0.691582   \n",
       "std        0.503992      0.501150      0.467926      0.464597      0.469804   \n",
       "min       -1.313374     -1.205216     -1.163036     -1.192103     -0.964179   \n",
       "25%        0.402915      0.399713      0.223944      0.214754      0.385273   \n",
       "50%        0.736949      0.734484      0.538486      0.526408      0.693961   \n",
       "75%        1.075742      1.076594      0.846440      0.835581      1.003181   \n",
       "max        3.065274      2.752201      2.213161      2.226504      2.784989   \n",
       "\n",
       "                 5             6             7             8             9   \\\n",
       "count  10000.000000  10000.000000  10000.000000  10000.000000  10000.000000   \n",
       "mean       0.413990      0.693479      0.692607      0.690888      0.688549   \n",
       "std        0.484305      0.465141      0.474002      0.467757      0.464712   \n",
       "min       -1.436090     -1.087546     -1.149214     -1.226663     -1.160701   \n",
       "25%        0.091926      0.385896      0.376186      0.381111      0.380366   \n",
       "50%        0.414509      0.682014      0.695145      0.695137      0.693772   \n",
       "75%        0.732684      1.002364      1.008041      1.002789      1.000403   \n",
       "max        2.412201      2.830495      2.638455      2.444957      2.512138   \n",
       "\n",
       "       ...            20            21            22            23  \\\n",
       "count  ...  10000.000000  10000.000000  10000.000000  10000.000000   \n",
       "mean   ...      0.823722      0.531315      0.270388      0.759456   \n",
       "std    ...      0.475986      0.483317      0.462896      0.485971   \n",
       "min    ...     -0.945018     -1.256891     -1.726694     -1.084681   \n",
       "25%    ...      0.501730      0.204521     -0.042645      0.429908   \n",
       "50%    ...      0.827557      0.523353      0.268066      0.768223   \n",
       "75%    ...      1.147160      0.860457      0.585025      1.082361   \n",
       "max    ...      2.600195      2.404328      2.657128      2.751508   \n",
       "\n",
       "                 24            25            26            27            28  \\\n",
       "count  10000.000000  10000.000000  10000.000000  10000.000000  10000.000000   \n",
       "mean       0.175304      0.147152      0.981941      0.976806      0.700962   \n",
       "std        0.468303      0.467800      0.495500      0.492966      0.508726   \n",
       "min       -1.669123     -1.574411     -0.834448     -0.879441     -1.034938   \n",
       "25%       -0.142434     -0.169326      0.648472      0.645026      0.353942   \n",
       "50%        0.171761      0.148745      0.987655      0.976024      0.703722   \n",
       "75%        0.490621      0.461210      1.309992      1.313891      1.043668   \n",
       "max        1.965873      2.088943      2.978923      2.877209      3.220163   \n",
       "\n",
       "                 29  \n",
       "count  10000.000000  \n",
       "mean       0.981412  \n",
       "std        0.498884  \n",
       "min       -0.819648  \n",
       "25%        0.643121  \n",
       "50%        0.976412  \n",
       "75%        1.311321  \n",
       "max        2.813467  \n",
       "\n",
       "[8 rows x 30 columns]"
      ]
     },
     "execution_count": 46,
     "metadata": {},
     "output_type": "execute_result"
    }
   ],
   "source": [
    "pd.DataFrame(ppc_multilevel['y_like']).describe()"
   ]
  },
  {
   "cell_type": "code",
   "execution_count": 47,
   "metadata": {},
   "outputs": [
    {
     "data": {
      "text/plain": [
       "0.38513578789949793"
      ]
     },
     "execution_count": 47,
     "metadata": {},
     "output_type": "execute_result"
    }
   ],
   "source": [
    "y_pred_multilevel = np.median(ppc_multilevel['y_like'], axis=0)\n",
    "sklearn.metrics.mean_absolute_error(y_test, y_pred_multilevel)"
   ]
  },
  {
   "cell_type": "code",
   "execution_count": 48,
   "metadata": {},
   "outputs": [],
   "source": [
    "model_results['Partially pooled'] = sklearn.metrics.mean_absolute_error(y_test, y_pred_multilevel)"
   ]
  },
  {
   "cell_type": "markdown",
   "metadata": {},
   "source": [
    "# Visualization"
   ]
  },
  {
   "cell_type": "code",
   "execution_count": 80,
   "metadata": {},
   "outputs": [
    {
     "data": {
      "text/plain": [
       "{'TPOT': 0.43006184357753285,\n",
       " 'RandomForest': 0.4636560830957434,\n",
       " 'Unpooled': 0.3773713435519229,\n",
       " 'Partially pooled': 0.38513578789949793}"
      ]
     },
     "execution_count": 80,
     "metadata": {},
     "output_type": "execute_result"
    }
   ],
   "source": [
    "model_results"
   ]
  },
  {
   "cell_type": "code",
   "execution_count": 81,
   "metadata": {},
   "outputs": [
    {
     "data": {
      "image/png": "[encoded data removed]",
      "text/plain": [
       "<Figure size 432x288 with 1 Axes>"
      ]
     },
     "metadata": {
      "needs_background": "light"
     },
     "output_type": "display_data"
    }
   ],
   "source": [
    "y_pos = range(len(model_results), 0, -1)\n",
    "plt.barh(y_pos, list(model_results.values()))\n",
    "plt.gca().set_yticks(y_pos)\n",
    "plt.gca().set_yticklabels(labels=list(model_results.keys()))\n",
    "plt.gca().axvline(DUMMY_SCORE, c='k', ls='--', label='Random')\n",
    "plt.xlabel('Mean absolute error\\n(lower is better)')\n",
    "plt.legend()\n",
    "plt.show()"
   ]
  },
  {
   "cell_type": "code",
   "execution_count": null,
   "metadata": {},
   "outputs": [],
   "source": []
  }
 ],
 "metadata": {
  "kernelspec": {
   "display_name": "Top2000H",
   "language": "python",
   "name": "top2000h"
  },
  "language_info": {
   "codemirror_mode": {
    "name": "ipython",
    "version": 3
   },
   "file_extension": ".py",
   "mimetype": "text/x-python",
   "name": "python",
   "nbconvert_exporter": "python",
   "pygments_lexer": "ipython3",
   "version": "3.8.8"
  }
 },
 "nbformat": 4,
 "nbformat_minor": 4
}
