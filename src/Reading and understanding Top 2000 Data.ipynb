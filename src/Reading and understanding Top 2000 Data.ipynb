{
 "cells": [
  {
   "cell_type": "code",
   "execution_count": 1,
   "metadata": {},
   "outputs": [],
   "source": [
    "import os \n",
    "\n",
    "import pandas as pd\n",
    "import numpy as np\n",
    "import scipy.stats\n",
    "from sklearn.linear_model import LinearRegression\n",
    "import sklearn.preprocessing\n",
    "import sklearn.metrics\n",
    "\n",
    "import matplotlib.pyplot as plt\n",
    "import matplotlib.ticker as mtick\n",
    "import matplotlib.dates as mdates\n",
    "import seaborn as sns\n",
    "\n",
    "import top2000analysis"
   ]
  },
  {
   "cell_type": "code",
   "execution_count": 2,
   "metadata": {},
   "outputs": [],
   "source": [
    "FOLDER_OUTPUT = os.path.join('..', 'Output')\n",
    "FOLDER_DATA = os.path.join('..', 'Data')"
   ]
  },
  {
   "cell_type": "markdown",
   "metadata": {},
   "source": [
    "Recently, I published a [blog](https://sjoerdcornelissen.com/2021/03/02/the-effect-of-passing-away-on-top-2000-ranking/.) on the effect of passing away on rakings in the Top 2000. In this blog series, I will show how I built all the steps.\n",
    "\n",
    "I will do so in three parts:\n",
    "1. Part 1: Reading and understanding the data\n",
    "1. Part 2: Building and checking a hierarchical Bayesian regresson model\n",
    "1. Part 3: Using the model for inference and prediction"
   ]
  },
  {
   "cell_type": "markdown",
   "metadata": {},
   "source": [
    "THIS NOTEBOOK IS STILL UNDER CONSTRUCTION AND WILL BE UPDATED"
   ]
  },
  {
   "cell_type": "markdown",
   "metadata": {},
   "source": [
    "# Read and inspect the Top 2000 data \n",
    "## Scraping the data\n",
    "First, we scrape all the data from wikipedia. This is done in the `readtop2000` module. It does so in 4 steps:\n",
    "1. Scrape the full list from https://nl.wikipedia.org/wiki/Lijst_van_Radio_2-Top_2000%27s\n",
    "1. Split into a data model, which contains 4 tables:\n",
    "\n",
    "    a. All unique songs\n",
    "    \n",
    "    b. All unique artists\n",
    "    \n",
    "    c. The ranking of each song in each year\n",
    "    \n",
    "    d. The artist(s) who performed each song\n",
    "1. For each artist, visit their personal wikipedia page and download all data from the infobox\n",
    "\n",
    "1. Finally, save all the data in the Data folder\n",
    "\n",
    "Since we only need to do this once, the lines below are commented out"
   ]
  },
  {
   "cell_type": "code",
   "execution_count": 3,
   "metadata": {},
   "outputs": [],
   "source": [
    "# import readtop2000\n",
    "# readtop2000.Top2000Downloader().download_and_write()"
   ]
  },
  {
   "cell_type": "markdown",
   "metadata": {},
   "source": [
    "## Recombining and selecting the data\n",
    "Now, we wish to get a table on which we can perform the analysis. For this, we combine all data, with one row for each artist for each song, so a song which is a duet occurs twice. "
   ]
  },
  {
   "cell_type": "code",
   "execution_count": 4,
   "metadata": {},
   "outputs": [
    {
     "name": "stdout",
     "output_type": "stream",
     "text": [
      "In its history, the Top 2000 has seen 4573 unique songs and 1969 unique artists\n"
     ]
    }
   ],
   "source": [
    "a = top2000analysis.AnalysisSetCreator()\n",
    "\n",
    "df_full = a._combine_data(FOLDER_DATA)\n",
    "print(f\"In its history, the Top 2000 has seen {df_full['SongID'].nunique()} unique songs and {df_full['ArtistID'].nunique()} unique artists\")"
   ]
  },
  {
   "cell_type": "markdown",
   "metadata": {},
   "source": [
    "For our analysis, we only select the rows of the years in which the artist passed away, and add the information of the year before, so we can compare the number of votes.\n",
    "\n",
    "We also calculate the percentage of the vote each song received every year based on a model from [Peter Meindertsma](https://www.petermeindertsma.nl/blog/benadering-aantal-stemmen-per-liedje-in-de-top-2000-van-2014/). We end up with the dataframe as shown below, which contains all the information we need to perform the analysis."
   ]
  },
  {
   "cell_type": "code",
   "execution_count": 5,
   "metadata": {},
   "outputs": [],
   "source": [
    "df_artist = a.create_artist_set(FOLDER_DATA)\n",
    "df = a.create_full_feature_set(FOLDER_DATA)"
   ]
  },
  {
   "cell_type": "code",
   "execution_count": 6,
   "metadata": {},
   "outputs": [
    {
     "data": {
      "text/html": [
       "<div>\n",
       "<style scoped>\n",
       "    .dataframe tbody tr th:only-of-type {\n",
       "        vertical-align: middle;\n",
       "    }\n",
       "\n",
       "    .dataframe tbody tr th {\n",
       "        vertical-align: top;\n",
       "    }\n",
       "\n",
       "    .dataframe thead th {\n",
       "        text-align: right;\n",
       "    }\n",
       "</style>\n",
       "<table border=\"1\" class=\"dataframe\">\n",
       "  <thead>\n",
       "    <tr style=\"text-align: right;\">\n",
       "      <th></th>\n",
       "      <th>SongID</th>\n",
       "      <th>Year</th>\n",
       "      <th>Rank</th>\n",
       "      <th>Title</th>\n",
       "      <th>YearMade</th>\n",
       "      <th>LinkSong</th>\n",
       "      <th>ArtistID</th>\n",
       "      <th>LinkArtist</th>\n",
       "      <th>Act(s)</th>\n",
       "      <th>Afleveringen</th>\n",
       "      <th>Alias</th>\n",
       "      <th>Bedenker</th>\n",
       "      <th>Bekend van</th>\n",
       "      <th>Bekendste werk</th>\n",
       "      <th>Beroep</th>\n",
       "      <th>Beroep(en)</th>\n",
       "      <th>Bijnaam</th>\n",
       "      <th>Boek</th>\n",
       "      <th>Budget</th>\n",
       "      <th>Choreografie</th>\n",
       "      <th>Cinematografie</th>\n",
       "      <th>Distributie</th>\n",
       "      <th>Einde</th>\n",
       "      <th>Ensemble(s)</th>\n",
       "      <th>Gebaseerd op</th>\n",
       "      <th>Geboorteland</th>\n",
       "      <th>Geboortenaam</th>\n",
       "      <th>Geboorteplaats</th>\n",
       "      <th>Geboren</th>\n",
       "      <th>Genre</th>\n",
       "      <th>Genre(s)</th>\n",
       "      <th>Hoofdrollen</th>\n",
       "      <th>Instrument(en)</th>\n",
       "      <th>Intromuziek</th>\n",
       "      <th>Invloed(en)</th>\n",
       "      <th>Jaren actief</th>\n",
       "      <th>Jaren actief</th>\n",
       "      <th>Laatste voorstelling</th>\n",
       "      <th>Label(s)</th>\n",
       "      <th>Land</th>\n",
       "      <th>Land van oorsprong</th>\n",
       "      <th>Manager</th>\n",
       "      <th>Medium</th>\n",
       "      <th>Montage</th>\n",
       "      <th>Muziek</th>\n",
       "      <th>Nationaliteit</th>\n",
       "      <th>Netwerk of omroep</th>\n",
       "      <th>Ook bekend als</th>\n",
       "      <th>Oorsprong</th>\n",
       "      <th>Opbrengst</th>\n",
       "      <th>Opgegroeid te</th>\n",
       "      <th>Overige nominaties</th>\n",
       "      <th>Overleden</th>\n",
       "      <th>Overlijdensplaats</th>\n",
       "      <th>Première</th>\n",
       "      <th>Producent</th>\n",
       "      <th>Pseudoniem</th>\n",
       "      <th>Pseudoniem(en)</th>\n",
       "      <th>Regie</th>\n",
       "      <th>Regisseur</th>\n",
       "      <th>Scenario</th>\n",
       "      <th>Speelduur</th>\n",
       "      <th>Start</th>\n",
       "      <th>Stijl</th>\n",
       "      <th>Taal</th>\n",
       "      <th>Teksten</th>\n",
       "      <th>Verwante artiesten</th>\n",
       "      <th>Verwante acts</th>\n",
       "      <th>Volledige naam</th>\n",
       "      <th>Volledige naam</th>\n",
       "      <th>Zangstem</th>\n",
       "      <th>Zender</th>\n",
       "      <th>Geboortedatum</th>\n",
       "      <th>IsOverleden</th>\n",
       "      <th>PassingTooEarly</th>\n",
       "      <th>PctVotesAfterDeathSong</th>\n",
       "      <th>NrArtists</th>\n",
       "      <th>YearsSinceOverlijden</th>\n",
       "      <th>PctVotesBeforeDeathSong</th>\n",
       "      <th>BoostSong</th>\n",
       "      <th>LogBoostSong</th>\n",
       "      <th>PopularityWithinArtist</th>\n",
       "      <th>LogSongPopularityWithinArtist</th>\n",
       "      <th>RecencyWithinArtist</th>\n",
       "      <th>YearsBeforeDeath</th>\n",
       "      <th>JarenGeleden</th>\n",
       "      <th>MultiplePerformers</th>\n",
       "      <th>PctVotesAfterDeathArtist</th>\n",
       "      <th>PctVotesBeforeDeathArtist</th>\n",
       "      <th>LastYearInTop2000</th>\n",
       "      <th>NrsBeforeDeath</th>\n",
       "      <th>Name</th>\n",
       "      <th>IsDutch</th>\n",
       "      <th>AgePassing</th>\n",
       "      <th>JaarTop2000</th>\n",
       "      <th>Overlijdensdatum</th>\n",
       "      <th>EindeStemperiode</th>\n",
       "      <th>DaysToStemperiode</th>\n",
       "      <th>YearsSinceLastHit</th>\n",
       "      <th>LogPopularity</th>\n",
       "      <th>LogPopularityNorm</th>\n",
       "      <th>BoostArtist</th>\n",
       "      <th>LogBoostArtist</th>\n",
       "      <th>SongRelativeBoost</th>\n",
       "      <th>LogRelativeBoost</th>\n",
       "      <th>LogBoost</th>\n",
       "    </tr>\n",
       "  </thead>\n",
       "  <tbody>\n",
       "    <tr>\n",
       "      <th>7222</th>\n",
       "      <td>3076356286897061780</td>\n",
       "      <td>2009</td>\n",
       "      <td>178.0</td>\n",
       "      <td>Shaffy cantate</td>\n",
       "      <td>1965</td>\n",
       "      <td>https://nl.wikipedia.org/wiki/Shaffy_cantate</td>\n",
       "      <td>7551594412476633019</td>\n",
       "      <td>https://nl.wikipedia.org/wiki/Ramses_Shaffy</td>\n",
       "      <td>None</td>\n",
       "      <td>None</td>\n",
       "      <td>None</td>\n",
       "      <td>None</td>\n",
       "      <td>None</td>\n",
       "      <td>None</td>\n",
       "      <td>Zanger, muzikant, acteur</td>\n",
       "      <td>None</td>\n",
       "      <td>None</td>\n",
       "      <td>None</td>\n",
       "      <td>None</td>\n",
       "      <td>None</td>\n",
       "      <td>None</td>\n",
       "      <td>None</td>\n",
       "      <td>None</td>\n",
       "      <td>None</td>\n",
       "      <td>None</td>\n",
       "      <td>None</td>\n",
       "      <td>None</td>\n",
       "      <td>None</td>\n",
       "      <td>Neuilly-sur-Seine, 29 augustus 1933</td>\n",
       "      <td>None</td>\n",
       "      <td>Chanson</td>\n",
       "      <td>None</td>\n",
       "      <td>Piano</td>\n",
       "      <td>None</td>\n",
       "      <td>None</td>\n",
       "      <td>1960-2009</td>\n",
       "      <td>None</td>\n",
       "      <td>None</td>\n",
       "      <td>PolyGram</td>\n",
       "      <td>Nederland</td>\n",
       "      <td>None</td>\n",
       "      <td>None</td>\n",
       "      <td>None</td>\n",
       "      <td>None</td>\n",
       "      <td>None</td>\n",
       "      <td>None</td>\n",
       "      <td>None</td>\n",
       "      <td>None</td>\n",
       "      <td>None</td>\n",
       "      <td>None</td>\n",
       "      <td>None</td>\n",
       "      <td>None</td>\n",
       "      <td>Amsterdam, 1 december 2009</td>\n",
       "      <td>None</td>\n",
       "      <td>None</td>\n",
       "      <td>None</td>\n",
       "      <td>None</td>\n",
       "      <td>None</td>\n",
       "      <td>None</td>\n",
       "      <td>None</td>\n",
       "      <td>None</td>\n",
       "      <td>None</td>\n",
       "      <td>None</td>\n",
       "      <td>None</td>\n",
       "      <td>None</td>\n",
       "      <td>None</td>\n",
       "      <td>None</td>\n",
       "      <td>None</td>\n",
       "      <td>None</td>\n",
       "      <td>None</td>\n",
       "      <td>None</td>\n",
       "      <td>None</td>\n",
       "      <td>1933-08-29</td>\n",
       "      <td>True</td>\n",
       "      <td>3.742642</td>\n",
       "      <td>0.001043</td>\n",
       "      <td>1</td>\n",
       "      <td>0.0</td>\n",
       "      <td>0.000160</td>\n",
       "      <td>6.526570</td>\n",
       "      <td>1.875882</td>\n",
       "      <td>0.179035</td>\n",
       "      <td>-0.747062</td>\n",
       "      <td>0.000000</td>\n",
       "      <td>-44.0</td>\n",
       "      <td>-11.0</td>\n",
       "      <td>0</td>\n",
       "      <td>0.023311</td>\n",
       "      <td>0.006249</td>\n",
       "      <td>2005</td>\n",
       "      <td>7</td>\n",
       "      <td>Ramses Shaffy</td>\n",
       "      <td>1</td>\n",
       "      <td>76.257358</td>\n",
       "      <td>2009.0</td>\n",
       "      <td>2009-12-01</td>\n",
       "      <td>2009-12-04</td>\n",
       "      <td>-3</td>\n",
       "      <td>4.0</td>\n",
       "      <td>-2.204206</td>\n",
       "      <td>1.337537</td>\n",
       "      <td>3.730535</td>\n",
       "      <td>1.316552</td>\n",
       "      <td>1.749500</td>\n",
       "      <td>0.806943</td>\n",
       "      <td>1.875882</td>\n",
       "    </tr>\n",
       "    <tr>\n",
       "      <th>31121</th>\n",
       "      <td>-4804184633593686765</td>\n",
       "      <td>2006</td>\n",
       "      <td>1203.0</td>\n",
       "      <td>Marmor, Stein Und Eisen Bricht</td>\n",
       "      <td>1965</td>\n",
       "      <td>https://nl.wikipedia.org/w/index.php?title=Mar...</td>\n",
       "      <td>3182384667423573829</td>\n",
       "      <td>https://nl.wikipedia.org/wiki/Drafi_Deutscher</td>\n",
       "      <td>Mr. Walkie Talkie, Jack Goldbird, Wir, Masquer...</td>\n",
       "      <td>None</td>\n",
       "      <td>None</td>\n",
       "      <td>None</td>\n",
       "      <td>None</td>\n",
       "      <td>None</td>\n",
       "      <td>Singer-songwriter, Muziekproducent</td>\n",
       "      <td>None</td>\n",
       "      <td>None</td>\n",
       "      <td>None</td>\n",
       "      <td>None</td>\n",
       "      <td>None</td>\n",
       "      <td>None</td>\n",
       "      <td>None</td>\n",
       "      <td>None</td>\n",
       "      <td>None</td>\n",
       "      <td>None</td>\n",
       "      <td>None</td>\n",
       "      <td>None</td>\n",
       "      <td>None</td>\n",
       "      <td>Berlin-Charlottenburg: 9 mei 1946</td>\n",
       "      <td>None</td>\n",
       "      <td>Schlager, Rock, Popmuziek</td>\n",
       "      <td>None</td>\n",
       "      <td>None</td>\n",
       "      <td>None</td>\n",
       "      <td>None</td>\n",
       "      <td>1963 - 2006</td>\n",
       "      <td>None</td>\n",
       "      <td>None</td>\n",
       "      <td>Decca Records, Metronome, Jupiter Records, Han...</td>\n",
       "      <td>Duitsland</td>\n",
       "      <td>None</td>\n",
       "      <td>None</td>\n",
       "      <td>None</td>\n",
       "      <td>None</td>\n",
       "      <td>None</td>\n",
       "      <td>None</td>\n",
       "      <td>None</td>\n",
       "      <td>None</td>\n",
       "      <td>None</td>\n",
       "      <td>None</td>\n",
       "      <td>None</td>\n",
       "      <td>None</td>\n",
       "      <td>Frankfurt am Main: 9 juni 2006</td>\n",
       "      <td>None</td>\n",
       "      <td>None</td>\n",
       "      <td>None</td>\n",
       "      <td>None</td>\n",
       "      <td>None</td>\n",
       "      <td>None</td>\n",
       "      <td>None</td>\n",
       "      <td>None</td>\n",
       "      <td>None</td>\n",
       "      <td>None</td>\n",
       "      <td>None</td>\n",
       "      <td>None</td>\n",
       "      <td>None</td>\n",
       "      <td>Oliver Simon</td>\n",
       "      <td>None</td>\n",
       "      <td>None</td>\n",
       "      <td>Drafi Richard Franz Deutscher</td>\n",
       "      <td>None</td>\n",
       "      <td>None</td>\n",
       "      <td>1946-05-09</td>\n",
       "      <td>True</td>\n",
       "      <td>19.915127</td>\n",
       "      <td>0.000175</td>\n",
       "      <td>1</td>\n",
       "      <td>0.0</td>\n",
       "      <td>0.000173</td>\n",
       "      <td>1.011364</td>\n",
       "      <td>0.011300</td>\n",
       "      <td>1.000000</td>\n",
       "      <td>0.000000</td>\n",
       "      <td>NaN</td>\n",
       "      <td>-41.0</td>\n",
       "      <td>-14.0</td>\n",
       "      <td>0</td>\n",
       "      <td>0.000175</td>\n",
       "      <td>0.000173</td>\n",
       "      <td>1965</td>\n",
       "      <td>1</td>\n",
       "      <td>Drafi Deutscher</td>\n",
       "      <td>0</td>\n",
       "      <td>60.084873</td>\n",
       "      <td>2006.0</td>\n",
       "      <td>2006-06-09</td>\n",
       "      <td>2006-12-01</td>\n",
       "      <td>-175</td>\n",
       "      <td>41.0</td>\n",
       "      <td>-3.761229</td>\n",
       "      <td>-0.219485</td>\n",
       "      <td>1.011364</td>\n",
       "      <td>0.011300</td>\n",
       "      <td>1.000000</td>\n",
       "      <td>0.000000</td>\n",
       "      <td>0.011300</td>\n",
       "    </tr>\n",
       "    <tr>\n",
       "      <th>25826</th>\n",
       "      <td>7200327424351326240</td>\n",
       "      <td>2001</td>\n",
       "      <td>581.0</td>\n",
       "      <td>My Sweet Lord</td>\n",
       "      <td>1970</td>\n",
       "      <td>https://nl.wikipedia.org/wiki/My_Sweet_Lord</td>\n",
       "      <td>4097139530644969278</td>\n",
       "      <td>https://nl.wikipedia.org/wiki/George_Harrison</td>\n",
       "      <td>The Quarrymen, Silver Beetles, The Beat Brothe...</td>\n",
       "      <td>None</td>\n",
       "      <td>Carl Harrison, L'Angelo Misterioso, Hari Georg...</td>\n",
       "      <td>None</td>\n",
       "      <td>None</td>\n",
       "      <td>None</td>\n",
       "      <td>Muzikant, Singer-songwriter, Acteur, Muziekpro...</td>\n",
       "      <td>None</td>\n",
       "      <td>None</td>\n",
       "      <td>None</td>\n",
       "      <td>None</td>\n",
       "      <td>None</td>\n",
       "      <td>None</td>\n",
       "      <td>None</td>\n",
       "      <td>None</td>\n",
       "      <td>None</td>\n",
       "      <td>None</td>\n",
       "      <td>None</td>\n",
       "      <td>None</td>\n",
       "      <td>Liverpool</td>\n",
       "      <td>24 februari 1943</td>\n",
       "      <td>None</td>\n",
       "      <td>Rock, Popmuziek, Psychedelische rock, Experime...</td>\n",
       "      <td>None</td>\n",
       "      <td>Gitaar, Ukelele, Mondharmonica, Mandoline, Tan...</td>\n",
       "      <td>None</td>\n",
       "      <td>None</td>\n",
       "      <td>1957-2001</td>\n",
       "      <td>None</td>\n",
       "      <td>None</td>\n",
       "      <td>Parlophone, Capitol Records, Apple Records, Ve...</td>\n",
       "      <td>Verenigd Koninkrijk</td>\n",
       "      <td>None</td>\n",
       "      <td>None</td>\n",
       "      <td>None</td>\n",
       "      <td>None</td>\n",
       "      <td>None</td>\n",
       "      <td>None</td>\n",
       "      <td>None</td>\n",
       "      <td>None</td>\n",
       "      <td>None</td>\n",
       "      <td>None</td>\n",
       "      <td>None</td>\n",
       "      <td>None</td>\n",
       "      <td>29 november 2001</td>\n",
       "      <td>Los Angeles</td>\n",
       "      <td>None</td>\n",
       "      <td>None</td>\n",
       "      <td>None</td>\n",
       "      <td>None</td>\n",
       "      <td>None</td>\n",
       "      <td>None</td>\n",
       "      <td>None</td>\n",
       "      <td>None</td>\n",
       "      <td>None</td>\n",
       "      <td>None</td>\n",
       "      <td>None</td>\n",
       "      <td>None</td>\n",
       "      <td>None</td>\n",
       "      <td>None</td>\n",
       "      <td>None</td>\n",
       "      <td>None</td>\n",
       "      <td>None</td>\n",
       "      <td>None</td>\n",
       "      <td>1943-02-24</td>\n",
       "      <td>True</td>\n",
       "      <td>21.237509</td>\n",
       "      <td>0.000354</td>\n",
       "      <td>1</td>\n",
       "      <td>0.0</td>\n",
       "      <td>0.000146</td>\n",
       "      <td>2.427869</td>\n",
       "      <td>0.887014</td>\n",
       "      <td>1.060875</td>\n",
       "      <td>0.025664</td>\n",
       "      <td>0.000000</td>\n",
       "      <td>-31.0</td>\n",
       "      <td>-19.0</td>\n",
       "      <td>0</td>\n",
       "      <td>0.000571</td>\n",
       "      <td>0.000275</td>\n",
       "      <td>1971</td>\n",
       "      <td>2</td>\n",
       "      <td>George Harrison</td>\n",
       "      <td>0</td>\n",
       "      <td>58.762491</td>\n",
       "      <td>2001.0</td>\n",
       "      <td>2001-11-29</td>\n",
       "      <td>2001-12-01</td>\n",
       "      <td>-2</td>\n",
       "      <td>30.0</td>\n",
       "      <td>-3.560900</td>\n",
       "      <td>-0.019157</td>\n",
       "      <td>2.077358</td>\n",
       "      <td>0.731097</td>\n",
       "      <td>1.168729</td>\n",
       "      <td>0.224940</td>\n",
       "      <td>0.887014</td>\n",
       "    </tr>\n",
       "    <tr>\n",
       "      <th>8765</th>\n",
       "      <td>7447190188863400391</td>\n",
       "      <td>2009</td>\n",
       "      <td>186.0</td>\n",
       "      <td>Ben</td>\n",
       "      <td>1972</td>\n",
       "      <td>https://nl.wikipedia.org/wiki/Ben_(single)</td>\n",
       "      <td>8605080640113568462</td>\n",
       "      <td>https://nl.wikipedia.org/wiki/Michael_Jackson_...</td>\n",
       "      <td>None</td>\n",
       "      <td>None</td>\n",
       "      <td>None</td>\n",
       "      <td>None</td>\n",
       "      <td>None</td>\n",
       "      <td>None</td>\n",
       "      <td>None</td>\n",
       "      <td>None</td>\n",
       "      <td>King of Pop, Wacko Jacko (negatief gebruikt)</td>\n",
       "      <td>None</td>\n",
       "      <td>None</td>\n",
       "      <td>None</td>\n",
       "      <td>None</td>\n",
       "      <td>None</td>\n",
       "      <td>None</td>\n",
       "      <td>None</td>\n",
       "      <td>None</td>\n",
       "      <td>None</td>\n",
       "      <td>None</td>\n",
       "      <td>Gary, Indiana</td>\n",
       "      <td>29 augustus 1958</td>\n",
       "      <td>None</td>\n",
       "      <td>Pop, Soul, R&amp;b, Rock, Dance, Disco, New jack s...</td>\n",
       "      <td>None</td>\n",
       "      <td>None</td>\n",
       "      <td>None</td>\n",
       "      <td>None</td>\n",
       "      <td>1963 – 2009</td>\n",
       "      <td>None</td>\n",
       "      <td>None</td>\n",
       "      <td>Motown, Epic</td>\n",
       "      <td>Verenigde Staten</td>\n",
       "      <td>None</td>\n",
       "      <td>None</td>\n",
       "      <td>None</td>\n",
       "      <td>None</td>\n",
       "      <td>None</td>\n",
       "      <td>None</td>\n",
       "      <td>None</td>\n",
       "      <td>None</td>\n",
       "      <td>None</td>\n",
       "      <td>None</td>\n",
       "      <td>None</td>\n",
       "      <td>None</td>\n",
       "      <td>Los Angeles, 25 juni 2009</td>\n",
       "      <td>None</td>\n",
       "      <td>None</td>\n",
       "      <td>None</td>\n",
       "      <td>None</td>\n",
       "      <td>None</td>\n",
       "      <td>None</td>\n",
       "      <td>None</td>\n",
       "      <td>None</td>\n",
       "      <td>None</td>\n",
       "      <td>None</td>\n",
       "      <td>None</td>\n",
       "      <td>None</td>\n",
       "      <td>None</td>\n",
       "      <td>None</td>\n",
       "      <td>None</td>\n",
       "      <td>None</td>\n",
       "      <td>Michael Joseph Jackson</td>\n",
       "      <td>Tenor</td>\n",
       "      <td>None</td>\n",
       "      <td>1958-08-29</td>\n",
       "      <td>True</td>\n",
       "      <td>29.177276</td>\n",
       "      <td>0.001004</td>\n",
       "      <td>1</td>\n",
       "      <td>0.0</td>\n",
       "      <td>0.000284</td>\n",
       "      <td>3.539535</td>\n",
       "      <td>1.263995</td>\n",
       "      <td>0.917428</td>\n",
       "      <td>-0.037428</td>\n",
       "      <td>0.000000</td>\n",
       "      <td>-37.0</td>\n",
       "      <td>-11.0</td>\n",
       "      <td>0</td>\n",
       "      <td>0.013287</td>\n",
       "      <td>0.002783</td>\n",
       "      <td>1983</td>\n",
       "      <td>9</td>\n",
       "      <td>Michael Jackson</td>\n",
       "      <td>0</td>\n",
       "      <td>50.822724</td>\n",
       "      <td>2009.0</td>\n",
       "      <td>2009-06-25</td>\n",
       "      <td>2009-12-04</td>\n",
       "      <td>-162</td>\n",
       "      <td>26.0</td>\n",
       "      <td>-2.555425</td>\n",
       "      <td>0.986318</td>\n",
       "      <td>4.773570</td>\n",
       "      <td>1.563094</td>\n",
       "      <td>0.741486</td>\n",
       "      <td>-0.431509</td>\n",
       "      <td>1.263995</td>\n",
       "    </tr>\n",
       "    <tr>\n",
       "      <th>1622</th>\n",
       "      <td>-5081104677611092934</td>\n",
       "      <td>2016</td>\n",
       "      <td>961.0</td>\n",
       "      <td>Fame</td>\n",
       "      <td>1975</td>\n",
       "      <td>https://nl.wikipedia.org/wiki/Fame_(David_Bowie)</td>\n",
       "      <td>-7323419768838579697</td>\n",
       "      <td>https://nl.wikipedia.org/wiki/David_Bowie</td>\n",
       "      <td>Tin Machine</td>\n",
       "      <td>None</td>\n",
       "      <td>Ziggy Stardust, The Thin White Duke</td>\n",
       "      <td>None</td>\n",
       "      <td>None</td>\n",
       "      <td>None</td>\n",
       "      <td>Zanger, songwriter, muzikant, kunstenaar, acteur</td>\n",
       "      <td>None</td>\n",
       "      <td>Halloween Jack</td>\n",
       "      <td>None</td>\n",
       "      <td>None</td>\n",
       "      <td>None</td>\n",
       "      <td>None</td>\n",
       "      <td>None</td>\n",
       "      <td>None</td>\n",
       "      <td>None</td>\n",
       "      <td>None</td>\n",
       "      <td>None</td>\n",
       "      <td>None</td>\n",
       "      <td>Londen,, Verenigd Koninkrijk</td>\n",
       "      <td>8 januari 1947</td>\n",
       "      <td>None</td>\n",
       "      <td>Rock, glamrock, artrock, poprock</td>\n",
       "      <td>None</td>\n",
       "      <td>Zang, Gitaar, Saxofoon, Keyboard</td>\n",
       "      <td>None</td>\n",
       "      <td>None</td>\n",
       "      <td>1964–2016</td>\n",
       "      <td>None</td>\n",
       "      <td>None</td>\n",
       "      <td>ISO, RCA, Virgin, EMI, Columbia, Deram, BMG, P...</td>\n",
       "      <td>Verenigd Koninkrijk</td>\n",
       "      <td>None</td>\n",
       "      <td>None</td>\n",
       "      <td>None</td>\n",
       "      <td>None</td>\n",
       "      <td>None</td>\n",
       "      <td>None</td>\n",
       "      <td>None</td>\n",
       "      <td>None</td>\n",
       "      <td>None</td>\n",
       "      <td>None</td>\n",
       "      <td>None</td>\n",
       "      <td>None</td>\n",
       "      <td>10 januari 2016</td>\n",
       "      <td>New York,, Verenigde Staten</td>\n",
       "      <td>None</td>\n",
       "      <td>None</td>\n",
       "      <td>None</td>\n",
       "      <td>None</td>\n",
       "      <td>None</td>\n",
       "      <td>None</td>\n",
       "      <td>None</td>\n",
       "      <td>None</td>\n",
       "      <td>None</td>\n",
       "      <td>None</td>\n",
       "      <td>None</td>\n",
       "      <td>None</td>\n",
       "      <td>Mick Jagger, John Lennon, Lulu, Pat Metheny Gr...</td>\n",
       "      <td>None</td>\n",
       "      <td>None</td>\n",
       "      <td>David Robert Jones</td>\n",
       "      <td>None</td>\n",
       "      <td>None</td>\n",
       "      <td>1947-01-08</td>\n",
       "      <td>True</td>\n",
       "      <td>10.995209</td>\n",
       "      <td>0.000218</td>\n",
       "      <td>1</td>\n",
       "      <td>0.0</td>\n",
       "      <td>0.000118</td>\n",
       "      <td>1.850505</td>\n",
       "      <td>0.615459</td>\n",
       "      <td>0.272219</td>\n",
       "      <td>-0.565081</td>\n",
       "      <td>0.315789</td>\n",
       "      <td>-41.0</td>\n",
       "      <td>-4.0</td>\n",
       "      <td>0</td>\n",
       "      <td>0.018799</td>\n",
       "      <td>0.007793</td>\n",
       "      <td>1971</td>\n",
       "      <td>18</td>\n",
       "      <td>David Bowie</td>\n",
       "      <td>0</td>\n",
       "      <td>69.004791</td>\n",
       "      <td>2016.0</td>\n",
       "      <td>2016-01-10</td>\n",
       "      <td>2016-12-02</td>\n",
       "      <td>-327</td>\n",
       "      <td>45.0</td>\n",
       "      <td>-2.108283</td>\n",
       "      <td>1.433461</td>\n",
       "      <td>2.412196</td>\n",
       "      <td>0.880538</td>\n",
       "      <td>0.767145</td>\n",
       "      <td>-0.382428</td>\n",
       "      <td>0.615459</td>\n",
       "    </tr>\n",
       "  </tbody>\n",
       "</table>\n",
       "</div>"
      ],
      "text/plain": [
       "                    SongID  Year    Rank                           Title  \\\n",
       "7222   3076356286897061780  2009   178.0                  Shaffy cantate   \n",
       "31121 -4804184633593686765  2006  1203.0  Marmor, Stein Und Eisen Bricht   \n",
       "25826  7200327424351326240  2001   581.0                   My Sweet Lord   \n",
       "8765   7447190188863400391  2009   186.0                             Ben   \n",
       "1622  -5081104677611092934  2016   961.0                            Fame   \n",
       "\n",
       "       YearMade                                           LinkSong  \\\n",
       "7222       1965       https://nl.wikipedia.org/wiki/Shaffy_cantate   \n",
       "31121      1965  https://nl.wikipedia.org/w/index.php?title=Mar...   \n",
       "25826      1970        https://nl.wikipedia.org/wiki/My_Sweet_Lord   \n",
       "8765       1972         https://nl.wikipedia.org/wiki/Ben_(single)   \n",
       "1622       1975   https://nl.wikipedia.org/wiki/Fame_(David_Bowie)   \n",
       "\n",
       "                  ArtistID                                         LinkArtist  \\\n",
       "7222   7551594412476633019        https://nl.wikipedia.org/wiki/Ramses_Shaffy   \n",
       "31121  3182384667423573829      https://nl.wikipedia.org/wiki/Drafi_Deutscher   \n",
       "25826  4097139530644969278      https://nl.wikipedia.org/wiki/George_Harrison   \n",
       "8765   8605080640113568462  https://nl.wikipedia.org/wiki/Michael_Jackson_...   \n",
       "1622  -7323419768838579697          https://nl.wikipedia.org/wiki/David_Bowie   \n",
       "\n",
       "                                                  Act(s) Afleveringen  \\\n",
       "7222                                                None         None   \n",
       "31121  Mr. Walkie Talkie, Jack Goldbird, Wir, Masquer...         None   \n",
       "25826  The Quarrymen, Silver Beetles, The Beat Brothe...         None   \n",
       "8765                                                None         None   \n",
       "1622                                         Tin Machine         None   \n",
       "\n",
       "                                                   Alias Bedenker Bekend van  \\\n",
       "7222                                                None     None       None   \n",
       "31121                                               None     None       None   \n",
       "25826  Carl Harrison, L'Angelo Misterioso, Hari Georg...     None       None   \n",
       "8765                                                None     None       None   \n",
       "1622                 Ziggy Stardust, The Thin White Duke     None       None   \n",
       "\n",
       "      Bekendste werk                                             Beroep  \\\n",
       "7222            None                           Zanger, muzikant, acteur   \n",
       "31121           None                 Singer-songwriter, Muziekproducent   \n",
       "25826           None  Muzikant, Singer-songwriter, Acteur, Muziekpro...   \n",
       "8765            None                                               None   \n",
       "1622            None   Zanger, songwriter, muzikant, kunstenaar, acteur   \n",
       "\n",
       "      Beroep(en)                                       Bijnaam  Boek Budget  \\\n",
       "7222        None                                          None  None   None   \n",
       "31121       None                                          None  None   None   \n",
       "25826       None                                          None  None   None   \n",
       "8765        None  King of Pop, Wacko Jacko (negatief gebruikt)  None   None   \n",
       "1622        None                                Halloween Jack  None   None   \n",
       "\n",
       "      Choreografie Cinematografie Distributie Einde Ensemble(s) Gebaseerd op  \\\n",
       "7222          None           None        None  None        None         None   \n",
       "31121         None           None        None  None        None         None   \n",
       "25826         None           None        None  None        None         None   \n",
       "8765          None           None        None  None        None         None   \n",
       "1622          None           None        None  None        None         None   \n",
       "\n",
       "      Geboorteland Geboortenaam                Geboorteplaats  \\\n",
       "7222          None         None                          None   \n",
       "31121         None         None                          None   \n",
       "25826         None         None                     Liverpool   \n",
       "8765          None         None                 Gary, Indiana   \n",
       "1622          None         None  Londen,, Verenigd Koninkrijk   \n",
       "\n",
       "                                   Geboren Genre  \\\n",
       "7222   Neuilly-sur-Seine, 29 augustus 1933  None   \n",
       "31121    Berlin-Charlottenburg: 9 mei 1946  None   \n",
       "25826                     24 februari 1943  None   \n",
       "8765                      29 augustus 1958  None   \n",
       "1622                        8 januari 1947  None   \n",
       "\n",
       "                                                Genre(s) Hoofdrollen  \\\n",
       "7222                                             Chanson        None   \n",
       "31121                          Schlager, Rock, Popmuziek        None   \n",
       "25826  Rock, Popmuziek, Psychedelische rock, Experime...        None   \n",
       "8765   Pop, Soul, R&b, Rock, Dance, Disco, New jack s...        None   \n",
       "1622                    Rock, glamrock, artrock, poprock        None   \n",
       "\n",
       "                                          Instrument(en) Intromuziek  \\\n",
       "7222                                               Piano        None   \n",
       "31121                                               None        None   \n",
       "25826  Gitaar, Ukelele, Mondharmonica, Mandoline, Tan...        None   \n",
       "8765                                                None        None   \n",
       "1622                    Zang, Gitaar, Saxofoon, Keyboard        None   \n",
       "\n",
       "      Invloed(en) Jaren actief Jaren actief Laatste voorstelling  \\\n",
       "7222         None    1960-2009         None                 None   \n",
       "31121        None  1963 - 2006         None                 None   \n",
       "25826        None    1957-2001         None                 None   \n",
       "8765         None  1963 – 2009         None                 None   \n",
       "1622         None    1964–2016         None                 None   \n",
       "\n",
       "                                                Label(s)                 Land  \\\n",
       "7222                                            PolyGram            Nederland   \n",
       "31121  Decca Records, Metronome, Jupiter Records, Han...            Duitsland   \n",
       "25826  Parlophone, Capitol Records, Apple Records, Ve...  Verenigd Koninkrijk   \n",
       "8765                                        Motown, Epic     Verenigde Staten   \n",
       "1622   ISO, RCA, Virgin, EMI, Columbia, Deram, BMG, P...  Verenigd Koninkrijk   \n",
       "\n",
       "      Land van oorsprong Manager Medium Montage Muziek Nationaliteit  \\\n",
       "7222                None    None   None    None   None          None   \n",
       "31121               None    None   None    None   None          None   \n",
       "25826               None    None   None    None   None          None   \n",
       "8765                None    None   None    None   None          None   \n",
       "1622                None    None   None    None   None          None   \n",
       "\n",
       "      Netwerk of omroep Ook bekend als Oorsprong Opbrengst Opgegroeid te  \\\n",
       "7222               None           None      None      None          None   \n",
       "31121              None           None      None      None          None   \n",
       "25826              None           None      None      None          None   \n",
       "8765               None           None      None      None          None   \n",
       "1622               None           None      None      None          None   \n",
       "\n",
       "      Overige nominaties                       Overleden  \\\n",
       "7222                None      Amsterdam, 1 december 2009   \n",
       "31121               None  Frankfurt am Main: 9 juni 2006   \n",
       "25826               None                29 november 2001   \n",
       "8765                None       Los Angeles, 25 juni 2009   \n",
       "1622                None                 10 januari 2016   \n",
       "\n",
       "                 Overlijdensplaats Première Producent Pseudoniem  \\\n",
       "7222                          None     None      None       None   \n",
       "31121                         None     None      None       None   \n",
       "25826                  Los Angeles     None      None       None   \n",
       "8765                          None     None      None       None   \n",
       "1622   New York,, Verenigde Staten     None      None       None   \n",
       "\n",
       "      Pseudoniem(en) Regie Regisseur Scenario Speelduur Start Stijl  Taal  \\\n",
       "7222            None  None      None     None      None  None  None  None   \n",
       "31121           None  None      None     None      None  None  None  None   \n",
       "25826           None  None      None     None      None  None  None  None   \n",
       "8765            None  None      None     None      None  None  None  None   \n",
       "1622            None  None      None     None      None  None  None  None   \n",
       "\n",
       "      Teksten                                 Verwante artiesten  \\\n",
       "7222     None                                               None   \n",
       "31121    None                                       Oliver Simon   \n",
       "25826    None                                               None   \n",
       "8765     None                                               None   \n",
       "1622     None  Mick Jagger, John Lennon, Lulu, Pat Metheny Gr...   \n",
       "\n",
       "      Verwante acts Volledige naam                 Volledige naam Zangstem  \\\n",
       "7222           None           None                           None     None   \n",
       "31121          None           None  Drafi Richard Franz Deutscher     None   \n",
       "25826          None           None                           None     None   \n",
       "8765           None           None         Michael Joseph Jackson    Tenor   \n",
       "1622           None           None             David Robert Jones     None   \n",
       "\n",
       "      Zender Geboortedatum  IsOverleden  PassingTooEarly  \\\n",
       "7222    None    1933-08-29         True         3.742642   \n",
       "31121   None    1946-05-09         True        19.915127   \n",
       "25826   None    1943-02-24         True        21.237509   \n",
       "8765    None    1958-08-29         True        29.177276   \n",
       "1622    None    1947-01-08         True        10.995209   \n",
       "\n",
       "       PctVotesAfterDeathSong  NrArtists  YearsSinceOverlijden  \\\n",
       "7222                 0.001043          1                   0.0   \n",
       "31121                0.000175          1                   0.0   \n",
       "25826                0.000354          1                   0.0   \n",
       "8765                 0.001004          1                   0.0   \n",
       "1622                 0.000218          1                   0.0   \n",
       "\n",
       "       PctVotesBeforeDeathSong  BoostSong  LogBoostSong  \\\n",
       "7222                  0.000160   6.526570      1.875882   \n",
       "31121                 0.000173   1.011364      0.011300   \n",
       "25826                 0.000146   2.427869      0.887014   \n",
       "8765                  0.000284   3.539535      1.263995   \n",
       "1622                  0.000118   1.850505      0.615459   \n",
       "\n",
       "       PopularityWithinArtist  LogSongPopularityWithinArtist  \\\n",
       "7222                 0.179035                      -0.747062   \n",
       "31121                1.000000                       0.000000   \n",
       "25826                1.060875                       0.025664   \n",
       "8765                 0.917428                      -0.037428   \n",
       "1622                 0.272219                      -0.565081   \n",
       "\n",
       "       RecencyWithinArtist  YearsBeforeDeath  JarenGeleden  \\\n",
       "7222              0.000000             -44.0         -11.0   \n",
       "31121                  NaN             -41.0         -14.0   \n",
       "25826             0.000000             -31.0         -19.0   \n",
       "8765              0.000000             -37.0         -11.0   \n",
       "1622              0.315789             -41.0          -4.0   \n",
       "\n",
       "       MultiplePerformers  PctVotesAfterDeathArtist  \\\n",
       "7222                    0                  0.023311   \n",
       "31121                   0                  0.000175   \n",
       "25826                   0                  0.000571   \n",
       "8765                    0                  0.013287   \n",
       "1622                    0                  0.018799   \n",
       "\n",
       "       PctVotesBeforeDeathArtist  LastYearInTop2000  NrsBeforeDeath  \\\n",
       "7222                    0.006249               2005               7   \n",
       "31121                   0.000173               1965               1   \n",
       "25826                   0.000275               1971               2   \n",
       "8765                    0.002783               1983               9   \n",
       "1622                    0.007793               1971              18   \n",
       "\n",
       "                  Name  IsDutch  AgePassing  JaarTop2000 Overlijdensdatum  \\\n",
       "7222     Ramses Shaffy        1   76.257358       2009.0       2009-12-01   \n",
       "31121  Drafi Deutscher        0   60.084873       2006.0       2006-06-09   \n",
       "25826  George Harrison        0   58.762491       2001.0       2001-11-29   \n",
       "8765   Michael Jackson        0   50.822724       2009.0       2009-06-25   \n",
       "1622       David Bowie        0   69.004791       2016.0       2016-01-10   \n",
       "\n",
       "      EindeStemperiode  DaysToStemperiode  YearsSinceLastHit  LogPopularity  \\\n",
       "7222        2009-12-04                 -3                4.0      -2.204206   \n",
       "31121       2006-12-01               -175               41.0      -3.761229   \n",
       "25826       2001-12-01                 -2               30.0      -3.560900   \n",
       "8765        2009-12-04               -162               26.0      -2.555425   \n",
       "1622        2016-12-02               -327               45.0      -2.108283   \n",
       "\n",
       "       LogPopularityNorm  BoostArtist  LogBoostArtist  SongRelativeBoost  \\\n",
       "7222            1.337537     3.730535        1.316552           1.749500   \n",
       "31121          -0.219485     1.011364        0.011300           1.000000   \n",
       "25826          -0.019157     2.077358        0.731097           1.168729   \n",
       "8765            0.986318     4.773570        1.563094           0.741486   \n",
       "1622            1.433461     2.412196        0.880538           0.767145   \n",
       "\n",
       "       LogRelativeBoost  LogBoost  \n",
       "7222           0.806943  1.875882  \n",
       "31121          0.000000  0.011300  \n",
       "25826          0.224940  0.887014  \n",
       "8765          -0.431509  1.263995  \n",
       "1622          -0.382428  0.615459  "
      ]
     },
     "metadata": {},
     "output_type": "display_data"
    }
   ],
   "source": [
    "with pd.option_context('display.max_columns', None):\n",
    "    display(df.sample(5))"
   ]
  },
  {
   "cell_type": "code",
   "execution_count": 7,
   "metadata": {},
   "outputs": [
    {
     "name": "stdout",
     "output_type": "stream",
     "text": [
      "The final data contains 153 rows, which means there are 153 songs which were in the Top 2000 the year before the artist passed away.\n",
      "They come from 63 unique artists\n"
     ]
    }
   ],
   "source": [
    "print(f'The final data contains {len(df)} rows, which means there are {len(df)} songs which were in the Top 2000 the year before the artist passed away.')\n",
    "print(f'They come from {df[\"ArtistID\"].nunique()} unique artists')"
   ]
  },
  {
   "cell_type": "markdown",
   "metadata": {},
   "source": [
    "## Basic data inspection"
   ]
  },
  {
   "cell_type": "code",
   "execution_count": 8,
   "metadata": {},
   "outputs": [
    {
     "data": {
      "image/png": "[encoded data removed]",
      "text/plain": [
       "<Figure size 432x288 with 1 Axes>"
      ]
     },
     "metadata": {
      "needs_background": "light"
     },
     "output_type": "display_data"
    }
   ],
   "source": [
    "ax = df['Year'].value_counts().sort_index().plot(ylim=(0, None), xlabel='Year', ylabel='Nr of artists\\nwho passed away')\n",
    "ax.xaxis.set_major_locator(mtick.MaxNLocator(integer=True))\n",
    "plt.show()"
   ]
  },
  {
   "cell_type": "markdown",
   "metadata": {},
   "source": [
    "We see a number of artists passing awayt each year, with a spike in 2016.\n",
    "\n",
    "Next, let's see what happened to the ranking of each song."
   ]
  },
  {
   "cell_type": "code",
   "execution_count": 42,
   "metadata": {},
   "outputs": [],
   "source": [
    "ranks = (df_full\n",
    "         .pipe(a._rank_features) # Necessary for _song_features\n",
    "         .pipe(a._song_features) # Calculates the years since overlijden; to find the year before and year of passing away\n",
    "         .query('-1 <= YearsSinceOverlijden <= 0')\n",
    "         .loc[lambda df: df.groupby('SongID')['YearsSinceOverlijden'].transform('count') == 2]\n",
    "         .set_index(['SongID', 'YearsSinceOverlijden'])['Rank']\n",
    "         .unstack()\n",
    "        )"
   ]
  },
  {
   "cell_type": "code",
   "execution_count": 46,
   "metadata": {},
   "outputs": [
    {
     "data": {
      "image/png": "[encoded data removed]",
      "text/plain": [
       "<Figure size 432x288 with 1 Axes>"
      ]
     },
     "metadata": {
      "needs_background": "light"
     },
     "output_type": "display_data"
    }
   ],
   "source": [
    "ax = df.merge(ranklastyear.reset_index()).plot(kind='scatter', x='RankLastYear', y='Rank', label='Song of artist who passed away')\n",
    "ax.plot([0, 2000], [0, 2000], 'k--', label='Position last year')\n",
    "ax.set_xlabel('Ranking before passing away')\n",
    "ax.set_ylabel('Ranking in year of passing away')\n",
    "plt.legend()\n",
    "plt.show()"
   ]
  },
  {
   "cell_type": "code",
   "execution_count": 43,
   "metadata": {},
   "outputs": [
    {
     "data": {
      "image/png": "[encoded data removed]",
      "text/plain": [
       "<Figure size 432x288 with 1 Axes>"
      ]
     },
     "metadata": {
      "needs_background": "light"
     },
     "output_type": "display_data"
    }
   ],
   "source": [
    "ax = ranks.plot(kind='scatter', x=0, y=-1, label='Song of artist who passed away')\n",
    "ax.plot([0, 2000], [0, 2000], 'k--', label='Position last year')\n",
    "ax.set_xlabel('Ranking before passing away')\n",
    "ax.set_ylabel('Ranking in year of passing away')\n",
    "plt.legend()\n",
    "plt.show()"
   ]
  },
  {
   "cell_type": "markdown",
   "metadata": {},
   "source": [
    "Since most dots are below the dashed line, indeed almost all songs (but notably not all) receive some sort of boost in the year the artist passed away. We also see there are huge differences in the size of the effect: with some songs ranking below 1500 entering the Top 250 a year later, while some Top 500 songs stay right where they are."
   ]
  },
  {
   "cell_type": "markdown",
   "metadata": {},
   "source": [
    "For the analysis, the discrete nature of rankings is a problem; the difference between songs ranked 2000 and 1980 is very different from the songs ranked 21st and first. Therefore, we estimate the number of votes through a model developed by [Peter Meindertsma](https://www.petermeindertsma.nl/blog/benadering-aantal-stemmen-per-liedje-in-de-top-2000-van-2014/).\n",
    "Furthermore, we define a _Boost_  as the ratio between the percentage of votes of the song in the year of the artist passing away and the percentage of the vote of that song in the year before."
   ]
  },
  {
   "cell_type": "code",
   "execution_count": null,
   "metadata": {},
   "outputs": [],
   "source": [
    "def plot_distribution(series, dist='norm', **kwargs):\n",
    "    fig, axes = plt.subplots(1, 2, figsize=(8, 4))\n",
    "    series.plot(kind='kde', ax=axes[0], **kwargs)\n",
    "    scipy.stats.probplot(series, dist=dist, plot=axes[1])\n",
    "    plt.show()\n",
    "    display(series.describe())"
   ]
  },
  {
   "cell_type": "code",
   "execution_count": null,
   "metadata": {},
   "outputs": [],
   "source": [
    "plot_distribution(df['BoostSong'], xlim=(0, None))"
   ]
  },
  {
   "cell_type": "markdown",
   "metadata": {},
   "source": [
    "We see the average song gets a boost of 2.3x as many votes as the year before, and the median is 1.75x as many votes. Notably, the Boost distrution is not Normal. Therefore, we also inspect the logarithm of the boost:"
   ]
  },
  {
   "cell_type": "code",
   "execution_count": null,
   "metadata": {},
   "outputs": [],
   "source": [
    "plot_distribution(df['LogBoost'])"
   ]
  },
  {
   "cell_type": "markdown",
   "metadata": {},
   "source": [
    "Still not perfectly normal, but much better. In our further estimation, we will often work with the logarithm, because the regular boost is dominated by a few outliers.\n",
    "\n",
    "Next, we will also investigate the _artist boost_, defined as the the total number of votes for an artist in the year of his death divided by the total number of votes in the year before, instead of each song individually"
   ]
  },
  {
   "cell_type": "code",
   "execution_count": null,
   "metadata": {},
   "outputs": [],
   "source": [
    "plot_distribution(df_artist['Boost'], xlim=(0, None))"
   ]
  },
  {
   "cell_type": "markdown",
   "metadata": {},
   "source": [
    "Again, we see the same distribution. Notably, the average _artist_ boost is lower than the average _song_ boost. This can be explained if artists with multiple songs on average see a larger boost. We make the same plot, but now binned for easier interpretation, to show in the blog. "
   ]
  },
  {
   "cell_type": "code",
   "execution_count": null,
   "metadata": {
    "tags": []
   },
   "outputs": [],
   "source": [
    "def plot_waterfall(data, color=None, buildup=False, **kwargs):\n",
    "    '''\n",
    "    Plot a buildup or builddown waterfall chart from data\n",
    "    This function was adapted from https://pbpython.com/waterfall-chart.html\n",
    "\n",
    "    Parameters\n",
    "    ----------\n",
    "    data: pd.Series to be shown as waterfall\n",
    "    color: optionally give color as a list for each bar (to highlight some bars)\n",
    "    buildup: False (default) for builddown, True for buildup\n",
    "\n",
    "    Returns\n",
    "    -------\n",
    "    ax: Axis object\n",
    "    data: the data, including a \"total\"-row\n",
    "    blank: the size of the blank space before each bar\n",
    "    '''\n",
    "    if color is None:\n",
    "        color = ['lightgray'] * len(data)\n",
    "\n",
    "    blank = data.cumsum().shift(1).fillna(0)\n",
    "    total = data.sum()\n",
    "    data.loc['Total'] = total\n",
    "    blank.loc['Total'] = 0\n",
    "    color = color + ['gray']\n",
    "    \n",
    "    step = blank.reset_index(drop=True).repeat(3).shift(-1)\n",
    "    step[1::3] = np.nan\n",
    "    \n",
    "    if buildup:\n",
    "        data = data[::-1]\n",
    "        blank = blank[::-1]\n",
    "        color = color[::-1]\n",
    "\n",
    "    ax = data.plot(kind='barh', stacked=True, left=blank, color=color, **kwargs)\n",
    "    return ax, data, blank\n",
    "\n",
    "data = pd.cut(df_artist['Boost'], [0, 1, 1.25, 1.5, 2.5, np.inf],\n",
    "               labels=['No boost',\n",
    "                       'Up to 25% more votes',\n",
    "                       'Up to 50% more votes',\n",
    "                       '1.5 - 2.5 x\\nas many votes',\n",
    "                       'More than 2.5\\nx as many votes']).value_counts(normalize=True).sort_index(ascending=False)\n",
    "data.index = data.index.astype(str)\n",
    "ax, _, _ = plot_waterfall(data, color=['purple', 'purple', 'purple', 'purple', 'lightgray', 'gray'])\n",
    "ax.set_ylabel('Effect size')\n",
    "ax.xaxis.set_major_formatter(mtick.PercentFormatter(xmax=1))\n",
    "ax.set_frame_on(False)\n",
    "plt.tight_layout()\n",
    "plt.gcf().savefig(os.path.join(FOLDER_OUTPUT,'BoostDistribution.png'))"
   ]
  },
  {
   "cell_type": "markdown",
   "metadata": {},
   "source": [
    "Now, let's check who got the smallest and largest boosts"
   ]
  },
  {
   "cell_type": "code",
   "execution_count": null,
   "metadata": {},
   "outputs": [],
   "source": [
    "display(df_artist.query('Boost < 1')[['Name', 'Boost', 'LogPopularityNorm']].sort_values('Boost'))\n",
    "display(df_artist.nlargest(10, 'Boost')[['Name', 'Boost', 'LogPopularityNorm']])"
   ]
  },
  {
   "cell_type": "markdown",
   "metadata": {},
   "source": [
    "# Univariate analysis\n",
    "\n",
    "To get a first feeling for the data, formulate hypotheses on what affects the size of the boost on three levels:\n",
    "1. A __base__ effect for every artist\n",
    "1. An __artist specific__ effect, based on the characteristics of the artist and his/her death - aspects that have to do with how prominent the artist will be in the news after his/her death\n",
    "1. A __song specific__ effect, for which songs channel the newfound votes.\n",
    "\n",
    "For each step, the hypotheses are shown in the table below:\n",
    "\n",
    "<img src=\"../blogfigures/Hypothesis.png\" alt=\"Hypotheses are formulated for each level, to predict the boost of a song\" width=\"750\"/>\n",
    "\n",
    "In this section, we want to get a first look into the univariate "
   ]
  },
  {
   "cell_type": "markdown",
   "metadata": {},
   "source": [
    "Before we dive in, lets check the relative importance of the levels. For this, we look into artist who have multiple songs, and compare the explained variance score for the song boost as explained by the _artist_ boost on the one hand, and the _Relative Song_ boost (the boost of the song divided by the artist boost) on the other hand:"
   ]
  },
  {
   "cell_type": "code",
   "execution_count": null,
   "metadata": {},
   "outputs": [],
   "source": [
    "df_multiple_songs = df.query('NrsBeforeDeath >= 2')\n",
    "print(f'There are {len(df_multiple_songs)} songs by artists with at least two songs')\n",
    "artist_variance = sklearn.metrics.explained_variance_score(df_multiple_songs['LogBoost'], np.log(df_multiple_songs['BoostArtist']))\n",
    "song_variance = sklearn.metrics.explained_variance_score(df_multiple_songs['LogBoost'], df_multiple_songs['LogRelativeBoost'])\n",
    "print(f'The explained variance of the artist is {artist_variance: .1%}')\n",
    "print(f'The explained variance of the relative song boost is {song_variance: .1%}')"
   ]
  },
  {
   "cell_type": "code",
   "execution_count": null,
   "metadata": {},
   "outputs": [],
   "source": [
    "ax = sns.violinplot(x='NrsBeforeDeath', y='SongRelativeBoost', data=df)\n",
    "ax.set_ylim(0,2)"
   ]
  },
  {
   "cell_type": "markdown",
   "metadata": {},
   "source": [
    "The artist is most important, but we also see there is definetly still a lot of variance within the songs of an artist, which we should try to model."
   ]
  },
  {
   "cell_type": "code",
   "execution_count": null,
   "metadata": {},
   "outputs": [],
   "source": [
    "def plot_with_trend(df, column, logy=False):\n",
    "    ycolname = 'LogBoost' if logy else 'Boost'\n",
    "    preds = LinearRegression().fit(df[[column]], df[ycolname]).predict(df[[column]])\n",
    "    ax = df.plot(x=column, y=ycolname, kind='scatter', label='Passed away artists', c='grey')\n",
    "    ax.plot(df[column], preds, 'k', label='Trend')\n",
    "    return ax"
   ]
  },
  {
   "cell_type": "markdown",
   "metadata": {},
   "source": [
    "## Artist level\n",
    "\n",
    "### Artist age\n",
    "Newsworthiness of the death of an artist depends on the circumstances. Specifically, artists dying young is something that attracts a lot of media attention. This happens a lot in our sample:"
   ]
  },
  {
   "cell_type": "code",
   "execution_count": null,
   "metadata": {},
   "outputs": [],
   "source": [
    "pct_dying_before_80 = df_artist['AgePassing'].lt(80).mean()\n",
    "print(f'{pct_dying_before_80:.1%} of the artists who passed away were younger than 80')"
   ]
  },
  {
   "cell_type": "code",
   "execution_count": null,
   "metadata": {},
   "outputs": [],
   "source": [
    "ax = plot_with_trend(df_artist, 'AgePassing', logy=True)"
   ]
  },
  {
   "cell_type": "markdown",
   "metadata": {},
   "source": [
    "We do not see a strong _univariate_ effect, but this may be because of collinearity with other effects"
   ]
  },
  {
   "cell_type": "markdown",
   "metadata": {},
   "source": [
    "### Jaar\n",
    "We hypothesize the boost has grown stronger over the years, because of more prevalent news."
   ]
  },
  {
   "cell_type": "code",
   "execution_count": null,
   "metadata": {},
   "outputs": [],
   "source": [
    "ax = plot_with_trend(df_artist, 'JaarTop2000', logy=True)\n",
    "ax.xaxis.set_major_locator(mtick.MaxNLocator(integer=True))\n",
    "plt.legend()\n",
    "plt.tight_layout()\n",
    "ax.set_frame_on(False)"
   ]
  },
  {
   "cell_type": "markdown",
   "metadata": {},
   "source": [
    "### Nationality\n",
    "We hypothesize Dutch voters care more about Dutch artists, out of chauvinism. The effect is hard to detect, since only a small number of Dutch artists passed away"
   ]
  },
  {
   "cell_type": "code",
   "execution_count": null,
   "metadata": {},
   "outputs": [],
   "source": [
    "print(f'{df_artist[\"IsDutch\"].sum()} Dutch artists passed away')"
   ]
  },
  {
   "cell_type": "code",
   "execution_count": null,
   "metadata": {},
   "outputs": [],
   "source": [
    "_ = sns.catplot(x='IsDutch', y='LogBoost', data=df_artist)"
   ]
  },
  {
   "cell_type": "markdown",
   "metadata": {},
   "source": [
    "### Popularity\n",
    "When more popular artists die, they get much more news coverage: a relatively unknown artist may get a small article on page 15, while superstars may get entire TV shows devoted to hem. This in turn would result in much more prominent boosts for more popular artists"
   ]
  },
  {
   "cell_type": "code",
   "execution_count": null,
   "metadata": {},
   "outputs": [],
   "source": [
    "ax = plot_with_trend(df_artist, 'PctVotes', logy=True)"
   ]
  },
  {
   "cell_type": "markdown",
   "metadata": {},
   "source": [
    "This seems to be the case, but the effect between the _logarithm_  of the boost and the percentage of the votes is clearly non-linear, and the trendline is dominated by a few superstars. Let's look into the logarith of the percentage of votes"
   ]
  },
  {
   "cell_type": "code",
   "execution_count": null,
   "metadata": {},
   "outputs": [],
   "source": [
    "plot_with_trend(df_artist, 'LogPopularity', logy=True)"
   ]
  },
  {
   "cell_type": "markdown",
   "metadata": {},
   "source": [
    "This looks much better: there is a strong, mostly linear relation between the logarith of the boost and the logarithm of the popularity."
   ]
  },
  {
   "cell_type": "markdown",
   "metadata": {},
   "source": [
    "### Recency\n",
    "We hypothesize that the more top of mind a death is, the more of a boost an artist can expect - so more recent deaths during the time of voting should get a larger boost"
   ]
  },
  {
   "cell_type": "code",
   "execution_count": null,
   "metadata": {},
   "outputs": [],
   "source": [
    "ax = plot_with_trend(df_artist.query('DaysToStemperiode > -365'), 'DaysToStemperiode', logy=True)"
   ]
  },
  {
   "cell_type": "markdown",
   "metadata": {},
   "source": [
    "Indeed, this is the case; however, it is not entirely clear if this is a linear relationship. Lets bucket the observations to see that clearer"
   ]
  },
  {
   "cell_type": "code",
   "execution_count": null,
   "metadata": {},
   "outputs": [],
   "source": [
    "recency_buckets = (pd.cut(df_artist['DaysToStemperiode'].clip(lower=-365), 6, labels=False, retbins=False, right=False)\n",
    "                  .map({i: v for i, v in enumerate(range(-333, 0, 60))}))"
   ]
  },
  {
   "cell_type": "code",
   "execution_count": null,
   "metadata": {},
   "outputs": [],
   "source": [
    "df_artist.groupby(recency_buckets)['LogBoost'].agg(['mean', 'sem', 'std', 'count'])"
   ]
  },
  {
   "cell_type": "code",
   "execution_count": null,
   "metadata": {},
   "outputs": [],
   "source": [
    "ax = df_artist.groupby(recency_buckets)['LogBoost'].agg(['mean', 'sem', 'std', 'count']).plot(y='mean', yerr='sem')\n",
    "plt.xlim(-365, 0)\n",
    "plt.show()"
   ]
  },
  {
   "cell_type": "markdown",
   "metadata": {},
   "source": [
    "There appears to be little difference out to ~ 150 days, and then the boost grows much stronger."
   ]
  },
  {
   "cell_type": "markdown",
   "metadata": {},
   "source": [
    "### Recency of last hit"
   ]
  },
  {
   "cell_type": "markdown",
   "metadata": {},
   "source": [
    "Finally, there might be an effect whether artists were recently popular"
   ]
  },
  {
   "cell_type": "code",
   "execution_count": null,
   "metadata": {},
   "outputs": [],
   "source": [
    "ax = plot_with_trend(df_artist, 'YearsSinceLastHit', logy=True)"
   ]
  },
  {
   "cell_type": "markdown",
   "metadata": {},
   "source": [
    "### Correlations"
   ]
  },
  {
   "cell_type": "markdown",
   "metadata": {},
   "source": [
    "We find that, probably mostly by coincidence, in recent years artists in the Top 2000 have tended to pass away at later ages, which may partly explain why we do not see a strong age effect in a univariate distribution. Furthermore, we see that in recent years more popular artists have tended to pass away, which may spuri"
   ]
  },
  {
   "cell_type": "code",
   "execution_count": null,
   "metadata": {},
   "outputs": [],
   "source": [
    "def plot_correlations(df, figsize=(12, 12)):\n",
    "    fig, ax = plt.subplots(figsize=figsize)\n",
    "    ax = sns.heatmap(df.corr(), cmap='RdBu_r', vmin=-0.8, vmax=0.8, annot=True, fmt='.1%', ax=ax, cbar=False)\n",
    "    return ax\n",
    "\n",
    "plot_correlations(df_artist[['AgePassing', 'JaarTop2000', 'DaysToStemperiode', 'LogPopularity', 'IsDutch']], figsize=(6, 6))"
   ]
  },
  {
   "cell_type": "markdown",
   "metadata": {},
   "source": [
    "## Song"
   ]
  },
  {
   "cell_type": "markdown",
   "metadata": {},
   "source": [
    "### Solo song\n",
    "We hypothesize that solo songs get more of a boost than duets"
   ]
  },
  {
   "cell_type": "code",
   "execution_count": null,
   "metadata": {},
   "outputs": [],
   "source": [
    "df.groupby(['NrArtists'])['LogBoost'].agg(['mean', 'std', 'sem', 'count'])"
   ]
  },
  {
   "cell_type": "markdown",
   "metadata": {},
   "source": [
    "There is only one song that has more than 2 performers (namely, _Laat me/Vivre_ by Alderliefste, Liesbeth List and Ramses Shaffy; the latter two have passed away during the Top 2000), so let's group that together, since the errors are huge."
   ]
  },
  {
   "cell_type": "code",
   "execution_count": null,
   "metadata": {},
   "outputs": [],
   "source": [
    "display(df.groupby(['MultiplePerformers'])['LogBoost'].agg(['mean', 'std', 'sem', 'count']))\n",
    "(df.groupby(['MultiplePerformers'])\n",
    " ['LogBoost'].agg(['mean', 'std', 'sem', 'count'])\n",
    " .plot(y='mean', yerr='sem',\n",
    "       xlim=(-0.5, 1.5), kind='bar')\n",
    ")"
   ]
  },
  {
   "cell_type": "markdown",
   "metadata": {},
   "source": [
    "There are not a lot of duets, but there is a hint they may indeed have a smaller boost"
   ]
  },
  {
   "cell_type": "markdown",
   "metadata": {},
   "source": [
    "### Popularity within artist oeuvre"
   ]
  },
  {
   "cell_type": "markdown",
   "metadata": {},
   "source": [
    "In the [literature](https://link.springer.com/article/10.1007/s11002-014-9322-1) there is some work that shows more popular albums get larger boosts."
   ]
  },
  {
   "cell_type": "code",
   "execution_count": null,
   "metadata": {},
   "outputs": [],
   "source": [
    "ax = plot_with_trend(df, 'PopularityWithinArtist', logy=True)"
   ]
  },
  {
   "cell_type": "markdown",
   "metadata": {},
   "source": [
    "We do not see that effect very strongly, but again, we are dominated by a few outliers"
   ]
  },
  {
   "cell_type": "code",
   "execution_count": null,
   "metadata": {},
   "outputs": [],
   "source": [
    "ax = plot_with_trend(df, 'LogSongPopularityWithinArtist', logy=True)"
   ]
  },
  {
   "cell_type": "markdown",
   "metadata": {},
   "source": [
    "In fact, there appears to be a contrary effect. This may be explained, however, by a) our assumptions of the voting distribution and/or b) collinearity with other effects"
   ]
  },
  {
   "cell_type": "markdown",
   "metadata": {},
   "source": [
    "### Recency within artist"
   ]
  },
  {
   "cell_type": "markdown",
   "metadata": {},
   "source": [
    "I hypothesize the more recent work may receive more of a boost, since the older work may be somewhat forgotten by now"
   ]
  },
  {
   "cell_type": "code",
   "execution_count": null,
   "metadata": {},
   "outputs": [],
   "source": [
    "ax = plot_with_trend(df.query('NrsBeforeDeath > 2'), 'RecencyWithinArtist', logy=True)"
   ]
  },
  {
   "cell_type": "markdown",
   "metadata": {},
   "source": [
    "We do not see that effect."
   ]
  }
 ],
 "metadata": {
  "kernelspec": {
   "display_name": "Top2000H",
   "language": "python",
   "name": "top2000h"
  },
  "language_info": {
   "codemirror_mode": {
    "name": "ipython",
    "version": 3
   },
   "file_extension": ".py",
   "mimetype": "text/x-python",
   "name": "python",
   "nbconvert_exporter": "python",
   "pygments_lexer": "ipython3",
   "version": "3.8.8"
  },
  "toc-autonumbering": true,
  "toc-showcode": false,
  "toc-showmarkdowntxt": false,
  "toc-showtags": true
 },
 "nbformat": 4,
 "nbformat_minor": 4
}
