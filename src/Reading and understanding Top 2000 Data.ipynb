{
 "cells": [
  {
   "cell_type": "code",
   "execution_count": 1,
   "metadata": {},
   "outputs": [],
   "source": [
    "import os \n",
    "\n",
    "import pandas as pd\n",
    "import numpy as np\n",
    "import scipy.stats\n",
    "from sklearn.linear_model import LinearRegression\n",
    "import sklearn.metrics\n",
    "\n",
    "import matplotlib.pyplot as plt\n",
    "import matplotlib.ticker as mtick\n",
    "import seaborn as sns\n",
    "\n",
    "import micplot\n",
    "import readtop2000\n",
    "import top2000analysis"
   ]
  },
  {
   "cell_type": "code",
   "execution_count": 2,
   "metadata": {},
   "outputs": [],
   "source": [
    "FOLDER_OUTPUT = os.path.join('..', 'Output')\n",
    "FOLDER_DATA = os.path.join('..', 'Data')"
   ]
  },
  {
   "cell_type": "markdown",
   "metadata": {},
   "source": [
    "Recently, I published a [blog](https://sjoerdcornelissen.com/2021/03/02/the-effect-of-passing-away-on-top-2000-ranking/.) on the effect of passing away on rakings in the Top 2000. There, I dived deep into the outcomes of the model. Additionally, I also want to show how to build such a model and do the analysis, which I will do in this blog series.\n",
    "\n",
    "I will do so in three parts:\n",
    "1. *Part 1: Reading and understanding the data*  \n",
    "  In this part, I will acquire the data and get a first feel for it.\n",
    "1. *Part 2: Building and checking a hierarchical Bayesian regresson model*  \n",
    "In this part, I will use the data and knowledge about it we acquired in the first part to actually build a hierachical, Bayesian model. Part of building a Bayesian model is also checking whether it works as expected.\n",
    "1. *Part 3: Using the model for inference and prediction*  \n",
    "  In the final part, I will show how to use the model to get the insights we want."
   ]
  },
  {
   "cell_type": "markdown",
   "metadata": {},
   "source": [
    "# Reading and understanding the Top 2000 data \n",
    "\n",
    "No data science without data. While it is often the least sexy part, acquiring, structuring and importantly understanding the data well will set a project up for success, while skimping this might look good in the short term, but always turns out to hit you hard much quicker than expected, when weird results keep popping up and find out whether this is a problem with the data, the code or there is actually something interesting going up turns into an almost impossible task.\n",
    "\n",
    "In this part, we will do three things:\n",
    "1. _Acquiring the data_  \n",
    "We scrape wikipedia for everything about the Top 2000\n",
    "1. _Structuring the data_  \n",
    "By putting the data into tables that are structured through a data model, we keep all the flexibility for future analyses.\n",
    "1. _Understanding the data_  \n",
    "By looking into the univariate relations, we get a feeling for what influences what, which will help us when building a model.\n",
    "\n",
    "In terms of the business case, we learn that \n",
    "* The boost, or increase in ranking, of a song after the passing of an artist is almost always there, but the size of the boost is highly variable\n",
    "* It makes sense to look at the _logarithm_ of the boost, and it can be explained by hypotheses on three levels: the Base Level, the Artist level (which is the most important) and the Song level\n",
    "* Popularity-related measures should be transformed to a logarithm, while the recency component should be modeled as an exponential.\n",
    "\n",
    "## Acquiring the data: scraping wikipedia with a custom `wikipediareader`\n",
    "First, we scrape the rankings from for each Top 2000 in history from [Wikipedia](https://nl.wikipedia.org/wiki/Lijst_van_Radio_2-Top_2000%27s). While NPO Radio 2, the organizer, also publishes the list in Excel form on the [Top 2000 website](https://www.nporadio2.nl/top2000), I did not use that for two reasons:\n",
    "* It uses an inconsistent format through the years, both in column names and band names.\n",
    "* For the more detailed artist information I need, such as date of birth and date of death, I would have to use an external source anyway, so it is easier to immediately use Wikipedia. We can use the links in the full list to immediately go to the right artist and song.\n",
    "\n",
    "While there are libraries that access Wikipedia in python, such as [`wikipedia`](https://pypi.org/project/wikipedia/) and [`Wikipedia-API`](https://pypi.org/project/Wikipedia-API/), I did not use those:\n",
    "* They are generally oriented towards a user-oriented way of looking through Wikipidia, with a user searching and reading the main text. I, on the other hand, am focused on extracting the Tables and Infoboxes, and there was no good support for that. \n",
    "* The link(s) that are in the cells are important, since we will want to browse those for more detailed information. This generally does not come out of the box.\n",
    "\n",
    "Therefore, I decided to write a very quick module that reads Tables and Infoboxes from Wikipedia. It can be found on my Github as [`wikipediareader`](https://github.com/SjoerdCor/Top2000/blob/main/src/wikipediareader.py).\n",
    "\n",
    "This module is used by the `readtop2000` module, which reads and then writes the information we need about the Top2000\n",
    "1. Scrapes the full list (https://nl.wikipedia.org/wiki/Lijst_van_Radio_2-Top_2000%27s)\n",
    "1. Goes to all artist pages it finds on the full list and adds the information from the Infobox on that page to the table\n",
    "1. Cleans the column names and types and validates the reading worked\n",
    "1. Writes the information to a structured data model.\n",
    "\n",
    "We store all the tables as _.parquet_-files, a commonly used format that also store data types and is memory and time efficient."
   ]
  },
  {
   "cell_type": "markdown",
   "metadata": {},
   "source": [
    "## Structuring the data\n",
    "### Splitting data into a data model\n",
    "By thinking about how we should structure and save the data, we save ourselves from a lot of pain down the road. I decided to save the information according to the following data model:\n",
    "\n",
    "<img src=\"../blogfigures/Reading and understanding Top 2000 data/datamodel.PNG\" title=\"The data model consists of ranking table with a many-to-one relationship to song, which has a one to many relationship to songartist, which has a many-to-one relationship with artist\"/>\n",
    "We have the following entities:\n",
    "\n",
    "* A **ranking** for each song for each year in the Top 2000\n",
    "* A **song** which is performed by one or more artists\n",
    "* An **artist** who performs one or more songs.\n",
    "\n",
    "The most notable as aspect is that **song** and **artist** have a [many-to-many relationship](https://en.wikipedia.org/wiki/Many-to-many_(data_model)), so we add a junction table between those. The artist table contains a column for every label that is used on at least one artist on Wikipedia, so it has a lot columns and a lot of `NaN`s.\n",
    "\n",
    "\n",
    "Finally, we have to add one bit of information: the **VotingPeriod**. The recency of the death is important, I hypothesize, so I need to know how long before the voting period somebody passed away. Unfortunately, I could not find a comprehensive source for this, so I collected this data manually by googling a lot and looking for old news itmes covering the Top 2000.\n",
    "\n",
    "Now that we have read and structured all the data, we can finally get the data. It takes 10 to 15 minutes on my computer to scrape Wikipedia."
   ]
  },
  {
   "cell_type": "code",
   "execution_count": 3,
   "metadata": {},
   "outputs": [],
   "source": [
    "# This takes a bit of time and only needs to be done once, so I commented it out. Comment to download the newest files\n",
    "# downloader = readtop2000.Top2000Downloader()\n",
    "# downloader.download_and_write(FOLDER_OUTPUT)"
   ]
  },
  {
   "cell_type": "markdown",
   "metadata": {},
   "source": [
    "### Recombining and selecting the data\n",
    "Now, we wish to get a table on which we can perform the analysis. For this, we combine all data, with one row for each artist for each song, so a song which is a duet occurs twice. "
   ]
  },
  {
   "cell_type": "code",
   "execution_count": 4,
   "metadata": {},
   "outputs": [
    {
     "name": "stdout",
     "output_type": "stream",
     "text": [
      "In its history, the Top 2000 has seen 4573 unique songs and 1979 unique artists\n"
     ]
    }
   ],
   "source": [
    "a = top2000analysis.AnalysisSetCreator(FOLDER_DATA)\n",
    "\n",
    "df_full = a.combine_data()\n",
    "print(f\"In its history, the Top 2000 has seen {df_full['SongID'].nunique()} unique songs and {df_full['ArtistID'].nunique()} unique artists\")"
   ]
  },
  {
   "cell_type": "markdown",
   "metadata": {},
   "source": [
    "For this analysis, I only select the rows of the years in which the artist passed away, and add the information of the year before, so I can compare the number of votes.\n",
    "\n",
    "I also calculate the percentage of the vote each song received every year based on a model from [Peter Meindertsma](https://www.petermeindertsma.nl/blog/benadering-aantal-stemmen-per-liedje-in-de-top-2000-van-2014/). We end up with the dataframe as shown below, which contains all the information we need to perform the analysis."
   ]
  },
  {
   "cell_type": "code",
   "execution_count": 5,
   "metadata": {},
   "outputs": [],
   "source": [
    "df_artist = a.create_artist_set()"
   ]
  },
  {
   "cell_type": "code",
   "execution_count": 6,
   "metadata": {},
   "outputs": [],
   "source": [
    "df = a.create_full_feature_set()"
   ]
  },
  {
   "cell_type": "code",
   "execution_count": 7,
   "metadata": {},
   "outputs": [
    {
     "data": {
      "text/html": [
       "<div>\n",
       "<style scoped>\n",
       "    .dataframe tbody tr th:only-of-type {\n",
       "        vertical-align: middle;\n",
       "    }\n",
       "\n",
       "    .dataframe tbody tr th {\n",
       "        vertical-align: top;\n",
       "    }\n",
       "\n",
       "    .dataframe thead th {\n",
       "        text-align: right;\n",
       "    }\n",
       "</style>\n",
       "<table border=\"1\" class=\"dataframe\">\n",
       "  <thead>\n",
       "    <tr style=\"text-align: right;\">\n",
       "      <th></th>\n",
       "      <th>SongID</th>\n",
       "      <th>Year</th>\n",
       "      <th>Rank</th>\n",
       "      <th>Title</th>\n",
       "      <th>YearMade</th>\n",
       "      <th>LinkSong</th>\n",
       "      <th>ArtistID</th>\n",
       "      <th>LinkArtist</th>\n",
       "      <th>Act(s)</th>\n",
       "      <th>Afleveringen</th>\n",
       "      <th>Alias</th>\n",
       "      <th>Bedenker</th>\n",
       "      <th>Bekend van</th>\n",
       "      <th>Bekendste werk</th>\n",
       "      <th>Belangrijkste werken</th>\n",
       "      <th>Beroep</th>\n",
       "      <th>Beroep(en)</th>\n",
       "      <th>Bezetting</th>\n",
       "      <th>Bijnaam</th>\n",
       "      <th>Boek</th>\n",
       "      <th>Budget</th>\n",
       "      <th>Choreografie</th>\n",
       "      <th>Cinematografie</th>\n",
       "      <th>Distributie</th>\n",
       "      <th>Einde</th>\n",
       "      <th>Ensemble(s)</th>\n",
       "      <th>Gebaseerd op</th>\n",
       "      <th>Geboorteland</th>\n",
       "      <th>Geboortenaam</th>\n",
       "      <th>Geboorteplaats</th>\n",
       "      <th>Geboren</th>\n",
       "      <th>Genre</th>\n",
       "      <th>Genre(s)</th>\n",
       "      <th>Handtekening</th>\n",
       "      <th>Hoofdrollen</th>\n",
       "      <th>Instrument</th>\n",
       "      <th>Instrument(en)</th>\n",
       "      <th>Intromuziek</th>\n",
       "      <th>Invloed(en)</th>\n",
       "      <th>Jaren actief</th>\n",
       "      <th>Jaren actief</th>\n",
       "      <th>Laatste voorstelling</th>\n",
       "      <th>Label(s)</th>\n",
       "      <th>Land</th>\n",
       "      <th>Manager</th>\n",
       "      <th>Medium</th>\n",
       "      <th>Montage</th>\n",
       "      <th>Muziek</th>\n",
       "      <th>Nationaliteit</th>\n",
       "      <th>Netwerk of omroep</th>\n",
       "      <th>Nevenberoep</th>\n",
       "      <th>Ook bekend als</th>\n",
       "      <th>Oorsprong</th>\n",
       "      <th>Opbrengst</th>\n",
       "      <th>Opgegroeid te</th>\n",
       "      <th>Overige nominaties</th>\n",
       "      <th>Overleden</th>\n",
       "      <th>Overlijdensplaats</th>\n",
       "      <th>Platenlabel</th>\n",
       "      <th>Première</th>\n",
       "      <th>Producent</th>\n",
       "      <th>Pseudoniem</th>\n",
       "      <th>Pseudoniem(en)</th>\n",
       "      <th>Regie</th>\n",
       "      <th>Regisseur</th>\n",
       "      <th>Scenario</th>\n",
       "      <th>Speelduur</th>\n",
       "      <th>Start</th>\n",
       "      <th>Stijl</th>\n",
       "      <th>Taal</th>\n",
       "      <th>Teksten</th>\n",
       "      <th>Verwante artiesten</th>\n",
       "      <th>Verwante acts</th>\n",
       "      <th>Volledige naam</th>\n",
       "      <th>Volledige naam</th>\n",
       "      <th>Zangstem</th>\n",
       "      <th>Zender</th>\n",
       "      <th>DateOfBirth</th>\n",
       "      <th>HasPassed</th>\n",
       "      <th>DateEndOfVoting</th>\n",
       "      <th>PassingTooEarly</th>\n",
       "      <th>PctVotesAfterDeathSong</th>\n",
       "      <th>NrArtists</th>\n",
       "      <th>MultiplePerformers</th>\n",
       "      <th>YearsSinceOverlijden</th>\n",
       "      <th>PopularityWithinArtist</th>\n",
       "      <th>LogSongPopularityWithinArtist</th>\n",
       "      <th>RecencyWithinArtist</th>\n",
       "      <th>RankLastYear</th>\n",
       "      <th>PctVotesBeforeDeathSong</th>\n",
       "      <th>BoostSong</th>\n",
       "      <th>LogBoostSong</th>\n",
       "      <th>YearsBeforeDeath</th>\n",
       "      <th>JarenGeleden</th>\n",
       "      <th>PctVotesAfterDeathArtist</th>\n",
       "      <th>PctVotesBeforeDeathArtist</th>\n",
       "      <th>LastSongYearInTop2000</th>\n",
       "      <th>NSongsBeforeDeath</th>\n",
       "      <th>Name</th>\n",
       "      <th>IsDutch</th>\n",
       "      <th>AgePassing</th>\n",
       "      <th>Top2000YearOfDeath</th>\n",
       "      <th>DateOfDeath</th>\n",
       "      <th>DaysToEndOfVoting</th>\n",
       "      <th>LogPopularity</th>\n",
       "      <th>LogPopularityNorm</th>\n",
       "      <th>BoostArtist</th>\n",
       "      <th>LogBoostArtist</th>\n",
       "      <th>YearsSinceLastHit</th>\n",
       "      <th>SongRelativeBoost</th>\n",
       "      <th>LogRelativeBoost</th>\n",
       "      <th>LogBoost</th>\n",
       "    </tr>\n",
       "  </thead>\n",
       "  <tbody>\n",
       "    <tr>\n",
       "      <th>1629</th>\n",
       "      <td>5043495918341841575</td>\n",
       "      <td>2001</td>\n",
       "      <td>161.0</td>\n",
       "      <td>Saturday night</td>\n",
       "      <td>1978</td>\n",
       "      <td>https://nl.wikipedia.org/wiki/Saturday_night_(...</td>\n",
       "      <td>8228541565564833236</td>\n",
       "      <td>https://nl.wikipedia.org/wiki/Herman_Brood</td>\n",
       "      <td>The Moans, Cuby and the Blizzards, Wild Romanc...</td>\n",
       "      <td>None</td>\n",
       "      <td>None</td>\n",
       "      <td>None</td>\n",
       "      <td>None</td>\n",
       "      <td>None</td>\n",
       "      <td>None</td>\n",
       "      <td>Musicus, kunstschilder, acteur en dichter</td>\n",
       "      <td>None</td>\n",
       "      <td>None</td>\n",
       "      <td>Rock 'n' roll junkie</td>\n",
       "      <td>None</td>\n",
       "      <td>None</td>\n",
       "      <td>None</td>\n",
       "      <td>None</td>\n",
       "      <td>None</td>\n",
       "      <td>None</td>\n",
       "      <td>None</td>\n",
       "      <td>None</td>\n",
       "      <td>None</td>\n",
       "      <td>None</td>\n",
       "      <td>Zwolle</td>\n",
       "      <td>5 november 1946</td>\n",
       "      <td>None</td>\n",
       "      <td>Rock-'n-roll, jazz, blues</td>\n",
       "      <td>None</td>\n",
       "      <td>None</td>\n",
       "      <td>None</td>\n",
       "      <td>Piano, vocals</td>\n",
       "      <td>None</td>\n",
       "      <td>None</td>\n",
       "      <td>1964-2001</td>\n",
       "      <td>None</td>\n",
       "      <td>None</td>\n",
       "      <td>None</td>\n",
       "      <td>Nederland</td>\n",
       "      <td>None</td>\n",
       "      <td>None</td>\n",
       "      <td>None</td>\n",
       "      <td>None</td>\n",
       "      <td>None</td>\n",
       "      <td>None</td>\n",
       "      <td>None</td>\n",
       "      <td>None</td>\n",
       "      <td>None</td>\n",
       "      <td>None</td>\n",
       "      <td>None</td>\n",
       "      <td>None</td>\n",
       "      <td>11 juli 2001 te Amsterdam</td>\n",
       "      <td>None</td>\n",
       "      <td>None</td>\n",
       "      <td>None</td>\n",
       "      <td>None</td>\n",
       "      <td>None</td>\n",
       "      <td>None</td>\n",
       "      <td>None</td>\n",
       "      <td>None</td>\n",
       "      <td>None</td>\n",
       "      <td>None</td>\n",
       "      <td>None</td>\n",
       "      <td>None</td>\n",
       "      <td>None</td>\n",
       "      <td>None</td>\n",
       "      <td>Long Tall Ernie and the Shakers, Stud, Jan Akk...</td>\n",
       "      <td>None</td>\n",
       "      <td>None</td>\n",
       "      <td>Hermanus Brood</td>\n",
       "      <td>None</td>\n",
       "      <td>None</td>\n",
       "      <td>1946-11-05</td>\n",
       "      <td>True</td>\n",
       "      <td>2001-12-01</td>\n",
       "      <td>25.319644</td>\n",
       "      <td>0.001136</td>\n",
       "      <td>2</td>\n",
       "      <td>1</td>\n",
       "      <td>0.0</td>\n",
       "      <td>1.571590</td>\n",
       "      <td>0.196339</td>\n",
       "      <td>0.000000</td>\n",
       "      <td>419.0</td>\n",
       "      <td>0.000482</td>\n",
       "      <td>2.357895</td>\n",
       "      <td>0.857769</td>\n",
       "      <td>-23.0</td>\n",
       "      <td>-19.0</td>\n",
       "      <td>0.001446</td>\n",
       "      <td>0.000684</td>\n",
       "      <td>1979</td>\n",
       "      <td>2</td>\n",
       "      <td>Herman Brood</td>\n",
       "      <td>1</td>\n",
       "      <td>54.680356</td>\n",
       "      <td>2001.0</td>\n",
       "      <td>2001-07-11</td>\n",
       "      <td>-143.0</td>\n",
       "      <td>-3.164861</td>\n",
       "      <td>0.376883</td>\n",
       "      <td>2.113914</td>\n",
       "      <td>0.748541</td>\n",
       "      <td>22.0</td>\n",
       "      <td>1.115417</td>\n",
       "      <td>0.109228</td>\n",
       "      <td>0.857769</td>\n",
       "    </tr>\n",
       "    <tr>\n",
       "      <th>6806</th>\n",
       "      <td>-7574359214856386571</td>\n",
       "      <td>2003</td>\n",
       "      <td>782.0</td>\n",
       "      <td>Ain't Got No, I Got Life</td>\n",
       "      <td>1968</td>\n",
       "      <td>https://nl.wikipedia.org/wiki/Ain%27t_Got_No,_...</td>\n",
       "      <td>5666325769293300336</td>\n",
       "      <td>https://nl.wikipedia.org/wiki/Nina_Simone</td>\n",
       "      <td>None</td>\n",
       "      <td>None</td>\n",
       "      <td>None</td>\n",
       "      <td>None</td>\n",
       "      <td>None</td>\n",
       "      <td>None</td>\n",
       "      <td>None</td>\n",
       "      <td>None</td>\n",
       "      <td>None</td>\n",
       "      <td>None</td>\n",
       "      <td>None</td>\n",
       "      <td>None</td>\n",
       "      <td>None</td>\n",
       "      <td>None</td>\n",
       "      <td>None</td>\n",
       "      <td>None</td>\n",
       "      <td>None</td>\n",
       "      <td>None</td>\n",
       "      <td>None</td>\n",
       "      <td>None</td>\n",
       "      <td>None</td>\n",
       "      <td>None</td>\n",
       "      <td>21 februari 1933</td>\n",
       "      <td>None</td>\n",
       "      <td>Blues, Folk, Gospel, Jazz, Rhythm-and-blues, Soul</td>\n",
       "      <td>None</td>\n",
       "      <td>None</td>\n",
       "      <td>None</td>\n",
       "      <td>None</td>\n",
       "      <td>None</td>\n",
       "      <td>None</td>\n",
       "      <td>1954-2003</td>\n",
       "      <td>None</td>\n",
       "      <td>None</td>\n",
       "      <td>Bethlehem Records, Colpix Records, Legacy Reco...</td>\n",
       "      <td>Verenigde Staten</td>\n",
       "      <td>None</td>\n",
       "      <td>None</td>\n",
       "      <td>None</td>\n",
       "      <td>None</td>\n",
       "      <td>None</td>\n",
       "      <td>None</td>\n",
       "      <td>None</td>\n",
       "      <td>None</td>\n",
       "      <td>None</td>\n",
       "      <td>None</td>\n",
       "      <td>None</td>\n",
       "      <td>None</td>\n",
       "      <td>21 april 2003</td>\n",
       "      <td>None</td>\n",
       "      <td>None</td>\n",
       "      <td>None</td>\n",
       "      <td>None</td>\n",
       "      <td>None</td>\n",
       "      <td>None</td>\n",
       "      <td>None</td>\n",
       "      <td>None</td>\n",
       "      <td>None</td>\n",
       "      <td>None</td>\n",
       "      <td>None</td>\n",
       "      <td>None</td>\n",
       "      <td>None</td>\n",
       "      <td>None</td>\n",
       "      <td>None</td>\n",
       "      <td>None</td>\n",
       "      <td>None</td>\n",
       "      <td>Eunice Kathleen Waymon</td>\n",
       "      <td>None</td>\n",
       "      <td>None</td>\n",
       "      <td>1933-02-21</td>\n",
       "      <td>True</td>\n",
       "      <td>2003-12-15</td>\n",
       "      <td>9.839836</td>\n",
       "      <td>0.000266</td>\n",
       "      <td>1</td>\n",
       "      <td>0</td>\n",
       "      <td>0.0</td>\n",
       "      <td>1.468431</td>\n",
       "      <td>0.166854</td>\n",
       "      <td>0.173913</td>\n",
       "      <td>988.0</td>\n",
       "      <td>0.000212</td>\n",
       "      <td>1.254007</td>\n",
       "      <td>0.226344</td>\n",
       "      <td>-35.0</td>\n",
       "      <td>-17.0</td>\n",
       "      <td>0.000431</td>\n",
       "      <td>0.000343</td>\n",
       "      <td>1987</td>\n",
       "      <td>2</td>\n",
       "      <td>Nina Simone</td>\n",
       "      <td>0</td>\n",
       "      <td>70.160164</td>\n",
       "      <td>2003.0</td>\n",
       "      <td>2003-04-21</td>\n",
       "      <td>-238.0</td>\n",
       "      <td>-3.464090</td>\n",
       "      <td>0.077653</td>\n",
       "      <td>1.254589</td>\n",
       "      <td>0.226808</td>\n",
       "      <td>16.0</td>\n",
       "      <td>0.999536</td>\n",
       "      <td>-0.000464</td>\n",
       "      <td>0.226344</td>\n",
       "    </tr>\n",
       "    <tr>\n",
       "      <th>20070</th>\n",
       "      <td>-3904354950974530796</td>\n",
       "      <td>2006</td>\n",
       "      <td>1598.0</td>\n",
       "      <td>Twenty Four Hours from Tulsa</td>\n",
       "      <td>1964</td>\n",
       "      <td>https://nl.wikipedia.org/wiki/Twenty_Four_Hour...</td>\n",
       "      <td>-1086948975686417956</td>\n",
       "      <td>https://nl.wikipedia.org/wiki/Gene_Pitney</td>\n",
       "      <td>None</td>\n",
       "      <td>None</td>\n",
       "      <td>None</td>\n",
       "      <td>None</td>\n",
       "      <td>None</td>\n",
       "      <td>None</td>\n",
       "      <td>None</td>\n",
       "      <td>None</td>\n",
       "      <td>None</td>\n",
       "      <td>None</td>\n",
       "      <td>None</td>\n",
       "      <td>None</td>\n",
       "      <td>None</td>\n",
       "      <td>None</td>\n",
       "      <td>None</td>\n",
       "      <td>None</td>\n",
       "      <td>None</td>\n",
       "      <td>None</td>\n",
       "      <td>None</td>\n",
       "      <td>None</td>\n",
       "      <td>None</td>\n",
       "      <td>None</td>\n",
       "      <td>17 februari 1941</td>\n",
       "      <td>None</td>\n",
       "      <td>None</td>\n",
       "      <td>None</td>\n",
       "      <td>None</td>\n",
       "      <td>None</td>\n",
       "      <td>None</td>\n",
       "      <td>None</td>\n",
       "      <td>None</td>\n",
       "      <td>None</td>\n",
       "      <td>None</td>\n",
       "      <td>None</td>\n",
       "      <td>None</td>\n",
       "      <td>Verenigde Staten</td>\n",
       "      <td>None</td>\n",
       "      <td>None</td>\n",
       "      <td>None</td>\n",
       "      <td>None</td>\n",
       "      <td>None</td>\n",
       "      <td>None</td>\n",
       "      <td>None</td>\n",
       "      <td>None</td>\n",
       "      <td>None</td>\n",
       "      <td>None</td>\n",
       "      <td>None</td>\n",
       "      <td>None</td>\n",
       "      <td>5 april 2006</td>\n",
       "      <td>None</td>\n",
       "      <td>None</td>\n",
       "      <td>None</td>\n",
       "      <td>None</td>\n",
       "      <td>None</td>\n",
       "      <td>None</td>\n",
       "      <td>None</td>\n",
       "      <td>None</td>\n",
       "      <td>None</td>\n",
       "      <td>None</td>\n",
       "      <td>None</td>\n",
       "      <td>None</td>\n",
       "      <td>None</td>\n",
       "      <td>None</td>\n",
       "      <td>None</td>\n",
       "      <td>None</td>\n",
       "      <td>None</td>\n",
       "      <td>None</td>\n",
       "      <td>None</td>\n",
       "      <td>None</td>\n",
       "      <td>1941-02-17</td>\n",
       "      <td>True</td>\n",
       "      <td>2006-12-01</td>\n",
       "      <td>14.872005</td>\n",
       "      <td>0.000133</td>\n",
       "      <td>1</td>\n",
       "      <td>0</td>\n",
       "      <td>0.0</td>\n",
       "      <td>0.953698</td>\n",
       "      <td>-0.020589</td>\n",
       "      <td>0.000000</td>\n",
       "      <td>1849.0</td>\n",
       "      <td>0.000115</td>\n",
       "      <td>1.154272</td>\n",
       "      <td>0.143470</td>\n",
       "      <td>-42.0</td>\n",
       "      <td>-14.0</td>\n",
       "      <td>0.000278</td>\n",
       "      <td>0.000234</td>\n",
       "      <td>1964</td>\n",
       "      <td>2</td>\n",
       "      <td>Gene Pitney</td>\n",
       "      <td>0</td>\n",
       "      <td>65.127995</td>\n",
       "      <td>2006.0</td>\n",
       "      <td>2006-04-05</td>\n",
       "      <td>-240.0</td>\n",
       "      <td>-3.631147</td>\n",
       "      <td>-0.089403</td>\n",
       "      <td>1.190331</td>\n",
       "      <td>0.174231</td>\n",
       "      <td>42.0</td>\n",
       "      <td>0.969706</td>\n",
       "      <td>-0.030762</td>\n",
       "      <td>0.143470</td>\n",
       "    </tr>\n",
       "    <tr>\n",
       "      <th>811</th>\n",
       "      <td>-637233112127530031</td>\n",
       "      <td>2009</td>\n",
       "      <td>6.0</td>\n",
       "      <td>Pastorale</td>\n",
       "      <td>1969</td>\n",
       "      <td>https://nl.wikipedia.org/wiki/Pastorale_(Ramse...</td>\n",
       "      <td>3031493981499438401</td>\n",
       "      <td>https://nl.wikipedia.org/wiki/Ramses_Shaffy</td>\n",
       "      <td>None</td>\n",
       "      <td>None</td>\n",
       "      <td>None</td>\n",
       "      <td>None</td>\n",
       "      <td>None</td>\n",
       "      <td>None</td>\n",
       "      <td>None</td>\n",
       "      <td>Zanger, muzikant, acteur</td>\n",
       "      <td>None</td>\n",
       "      <td>None</td>\n",
       "      <td>None</td>\n",
       "      <td>None</td>\n",
       "      <td>None</td>\n",
       "      <td>None</td>\n",
       "      <td>None</td>\n",
       "      <td>None</td>\n",
       "      <td>None</td>\n",
       "      <td>None</td>\n",
       "      <td>None</td>\n",
       "      <td>None</td>\n",
       "      <td>None</td>\n",
       "      <td>None</td>\n",
       "      <td>Neuilly-sur-Seine, 29 augustus 1933</td>\n",
       "      <td>None</td>\n",
       "      <td>Chanson</td>\n",
       "      <td>None</td>\n",
       "      <td>None</td>\n",
       "      <td>None</td>\n",
       "      <td>Piano</td>\n",
       "      <td>None</td>\n",
       "      <td>None</td>\n",
       "      <td>1960-2009</td>\n",
       "      <td>None</td>\n",
       "      <td>None</td>\n",
       "      <td>PolyGram</td>\n",
       "      <td>Nederland</td>\n",
       "      <td>None</td>\n",
       "      <td>None</td>\n",
       "      <td>None</td>\n",
       "      <td>None</td>\n",
       "      <td>None</td>\n",
       "      <td>None</td>\n",
       "      <td>None</td>\n",
       "      <td>None</td>\n",
       "      <td>None</td>\n",
       "      <td>None</td>\n",
       "      <td>None</td>\n",
       "      <td>None</td>\n",
       "      <td>Amsterdam, 1 december 2009</td>\n",
       "      <td>None</td>\n",
       "      <td>None</td>\n",
       "      <td>None</td>\n",
       "      <td>None</td>\n",
       "      <td>None</td>\n",
       "      <td>None</td>\n",
       "      <td>None</td>\n",
       "      <td>None</td>\n",
       "      <td>None</td>\n",
       "      <td>None</td>\n",
       "      <td>None</td>\n",
       "      <td>None</td>\n",
       "      <td>None</td>\n",
       "      <td>None</td>\n",
       "      <td>None</td>\n",
       "      <td>None</td>\n",
       "      <td>None</td>\n",
       "      <td>None</td>\n",
       "      <td>None</td>\n",
       "      <td>None</td>\n",
       "      <td>1933-08-29</td>\n",
       "      <td>True</td>\n",
       "      <td>2009-12-04</td>\n",
       "      <td>3.742642</td>\n",
       "      <td>0.006169</td>\n",
       "      <td>2</td>\n",
       "      <td>1</td>\n",
       "      <td>0.0</td>\n",
       "      <td>2.076463</td>\n",
       "      <td>0.317324</td>\n",
       "      <td>0.100000</td>\n",
       "      <td>40.0</td>\n",
       "      <td>0.003129</td>\n",
       "      <td>1.971429</td>\n",
       "      <td>0.678758</td>\n",
       "      <td>-40.0</td>\n",
       "      <td>-11.0</td>\n",
       "      <td>0.023311</td>\n",
       "      <td>0.006249</td>\n",
       "      <td>2005</td>\n",
       "      <td>7</td>\n",
       "      <td>Ramses Shaffy</td>\n",
       "      <td>1</td>\n",
       "      <td>76.257358</td>\n",
       "      <td>2009.0</td>\n",
       "      <td>2009-12-01</td>\n",
       "      <td>-3.0</td>\n",
       "      <td>-2.204206</td>\n",
       "      <td>1.337537</td>\n",
       "      <td>3.730535</td>\n",
       "      <td>1.316552</td>\n",
       "      <td>4.0</td>\n",
       "      <td>0.528457</td>\n",
       "      <td>-0.637793</td>\n",
       "      <td>0.678758</td>\n",
       "    </tr>\n",
       "    <tr>\n",
       "      <th>13649</th>\n",
       "      <td>-1293878854365594958</td>\n",
       "      <td>2017</td>\n",
       "      <td>643.0</td>\n",
       "      <td>Blueberry Hill</td>\n",
       "      <td>1957</td>\n",
       "      <td>https://nl.wikipedia.org/wiki/Blueberry_Hill_(...</td>\n",
       "      <td>-6234687322086706572</td>\n",
       "      <td>https://nl.wikipedia.org/wiki/Fats_Domino</td>\n",
       "      <td>None</td>\n",
       "      <td>None</td>\n",
       "      <td>None</td>\n",
       "      <td>None</td>\n",
       "      <td>None</td>\n",
       "      <td>None</td>\n",
       "      <td>None</td>\n",
       "      <td>zanger en muzikant</td>\n",
       "      <td>None</td>\n",
       "      <td>None</td>\n",
       "      <td>Fats Domino</td>\n",
       "      <td>None</td>\n",
       "      <td>None</td>\n",
       "      <td>None</td>\n",
       "      <td>None</td>\n",
       "      <td>None</td>\n",
       "      <td>None</td>\n",
       "      <td>None</td>\n",
       "      <td>None</td>\n",
       "      <td>None</td>\n",
       "      <td>None</td>\n",
       "      <td>None</td>\n",
       "      <td>26 februari 1928</td>\n",
       "      <td>None</td>\n",
       "      <td>r&amp;b, rock-'n-roll, blues en boogiewoogie</td>\n",
       "      <td>None</td>\n",
       "      <td>None</td>\n",
       "      <td>None</td>\n",
       "      <td>piano</td>\n",
       "      <td>None</td>\n",
       "      <td>None</td>\n",
       "      <td>1949-2017</td>\n",
       "      <td>None</td>\n",
       "      <td>None</td>\n",
       "      <td>Imperial, London, ABC, Mercury, Broadmoor, Rep...</td>\n",
       "      <td>Verenigde Staten</td>\n",
       "      <td>None</td>\n",
       "      <td>None</td>\n",
       "      <td>None</td>\n",
       "      <td>None</td>\n",
       "      <td>None</td>\n",
       "      <td>None</td>\n",
       "      <td>None</td>\n",
       "      <td>None</td>\n",
       "      <td>None</td>\n",
       "      <td>None</td>\n",
       "      <td>None</td>\n",
       "      <td>None</td>\n",
       "      <td>24 oktober 2017</td>\n",
       "      <td>None</td>\n",
       "      <td>None</td>\n",
       "      <td>None</td>\n",
       "      <td>None</td>\n",
       "      <td>None</td>\n",
       "      <td>None</td>\n",
       "      <td>None</td>\n",
       "      <td>None</td>\n",
       "      <td>None</td>\n",
       "      <td>None</td>\n",
       "      <td>None</td>\n",
       "      <td>None</td>\n",
       "      <td>None</td>\n",
       "      <td>None</td>\n",
       "      <td>None</td>\n",
       "      <td>None</td>\n",
       "      <td>None</td>\n",
       "      <td>Antoine Dominique Domino, Jr.</td>\n",
       "      <td>None</td>\n",
       "      <td>None</td>\n",
       "      <td>1928-02-26</td>\n",
       "      <td>True</td>\n",
       "      <td>2017-12-08</td>\n",
       "      <td>0.000000</td>\n",
       "      <td>0.000321</td>\n",
       "      <td>1</td>\n",
       "      <td>0</td>\n",
       "      <td>0.0</td>\n",
       "      <td>1.000000</td>\n",
       "      <td>0.000000</td>\n",
       "      <td>0.500000</td>\n",
       "      <td>1045.0</td>\n",
       "      <td>0.000201</td>\n",
       "      <td>1.598214</td>\n",
       "      <td>0.468887</td>\n",
       "      <td>-60.0</td>\n",
       "      <td>-3.0</td>\n",
       "      <td>0.000321</td>\n",
       "      <td>0.000201</td>\n",
       "      <td>1957</td>\n",
       "      <td>1</td>\n",
       "      <td>Fats Domino</td>\n",
       "      <td>0</td>\n",
       "      <td>89.659138</td>\n",
       "      <td>2017.0</td>\n",
       "      <td>2017-10-24</td>\n",
       "      <td>-45.0</td>\n",
       "      <td>-3.696715</td>\n",
       "      <td>-0.154972</td>\n",
       "      <td>1.598214</td>\n",
       "      <td>0.468887</td>\n",
       "      <td>60.0</td>\n",
       "      <td>1.000000</td>\n",
       "      <td>0.000000</td>\n",
       "      <td>0.468887</td>\n",
       "    </tr>\n",
       "  </tbody>\n",
       "</table>\n",
       "</div>"
      ],
      "text/plain": [
       "                    SongID  Year    Rank                         Title  \\\n",
       "1629   5043495918341841575  2001   161.0                Saturday night   \n",
       "6806  -7574359214856386571  2003   782.0      Ain't Got No, I Got Life   \n",
       "20070 -3904354950974530796  2006  1598.0  Twenty Four Hours from Tulsa   \n",
       "811    -637233112127530031  2009     6.0                     Pastorale   \n",
       "13649 -1293878854365594958  2017   643.0                Blueberry Hill   \n",
       "\n",
       "       YearMade                                           LinkSong  \\\n",
       "1629       1978  https://nl.wikipedia.org/wiki/Saturday_night_(...   \n",
       "6806       1968  https://nl.wikipedia.org/wiki/Ain%27t_Got_No,_...   \n",
       "20070      1964  https://nl.wikipedia.org/wiki/Twenty_Four_Hour...   \n",
       "811        1969  https://nl.wikipedia.org/wiki/Pastorale_(Ramse...   \n",
       "13649      1957  https://nl.wikipedia.org/wiki/Blueberry_Hill_(...   \n",
       "\n",
       "                  ArtistID                                   LinkArtist  \\\n",
       "1629   8228541565564833236   https://nl.wikipedia.org/wiki/Herman_Brood   \n",
       "6806   5666325769293300336    https://nl.wikipedia.org/wiki/Nina_Simone   \n",
       "20070 -1086948975686417956    https://nl.wikipedia.org/wiki/Gene_Pitney   \n",
       "811    3031493981499438401  https://nl.wikipedia.org/wiki/Ramses_Shaffy   \n",
       "13649 -6234687322086706572    https://nl.wikipedia.org/wiki/Fats_Domino   \n",
       "\n",
       "                                                  Act(s) Afleveringen Alias  \\\n",
       "1629   The Moans, Cuby and the Blizzards, Wild Romanc...         None  None   \n",
       "6806                                                None         None  None   \n",
       "20070                                               None         None  None   \n",
       "811                                                 None         None  None   \n",
       "13649                                               None         None  None   \n",
       "\n",
       "      Bedenker Bekend van Bekendste werk Belangrijkste werken  \\\n",
       "1629      None       None           None                 None   \n",
       "6806      None       None           None                 None   \n",
       "20070     None       None           None                 None   \n",
       "811       None       None           None                 None   \n",
       "13649     None       None           None                 None   \n",
       "\n",
       "                                          Beroep Beroep(en) Bezetting  \\\n",
       "1629   Musicus, kunstschilder, acteur en dichter       None      None   \n",
       "6806                                        None       None      None   \n",
       "20070                                       None       None      None   \n",
       "811                     Zanger, muzikant, acteur       None      None   \n",
       "13649                         zanger en muzikant       None      None   \n",
       "\n",
       "                    Bijnaam  Boek Budget Choreografie Cinematografie  \\\n",
       "1629   Rock 'n' roll junkie  None   None         None           None   \n",
       "6806                   None  None   None         None           None   \n",
       "20070                  None  None   None         None           None   \n",
       "811                    None  None   None         None           None   \n",
       "13649           Fats Domino  None   None         None           None   \n",
       "\n",
       "      Distributie Einde Ensemble(s) Gebaseerd op Geboorteland Geboortenaam  \\\n",
       "1629         None  None        None         None         None         None   \n",
       "6806         None  None        None         None         None         None   \n",
       "20070        None  None        None         None         None         None   \n",
       "811          None  None        None         None         None         None   \n",
       "13649        None  None        None         None         None         None   \n",
       "\n",
       "      Geboorteplaats                              Geboren Genre  \\\n",
       "1629          Zwolle                      5 november 1946  None   \n",
       "6806            None                     21 februari 1933  None   \n",
       "20070           None                     17 februari 1941  None   \n",
       "811             None  Neuilly-sur-Seine, 29 augustus 1933  None   \n",
       "13649           None                     26 februari 1928  None   \n",
       "\n",
       "                                                Genre(s) Handtekening  \\\n",
       "1629                           Rock-'n-roll, jazz, blues         None   \n",
       "6806   Blues, Folk, Gospel, Jazz, Rhythm-and-blues, Soul         None   \n",
       "20070                                               None         None   \n",
       "811                                              Chanson         None   \n",
       "13649           r&b, rock-'n-roll, blues en boogiewoogie         None   \n",
       "\n",
       "      Hoofdrollen Instrument Instrument(en) Intromuziek Invloed(en)  \\\n",
       "1629         None       None  Piano, vocals        None        None   \n",
       "6806         None       None           None        None        None   \n",
       "20070        None       None           None        None        None   \n",
       "811          None       None          Piano        None        None   \n",
       "13649        None       None          piano        None        None   \n",
       "\n",
       "      Jaren actief Jaren actief Laatste voorstelling  \\\n",
       "1629     1964-2001         None                 None   \n",
       "6806     1954-2003         None                 None   \n",
       "20070         None         None                 None   \n",
       "811      1960-2009         None                 None   \n",
       "13649    1949-2017         None                 None   \n",
       "\n",
       "                                                Label(s)              Land  \\\n",
       "1629                                                None         Nederland   \n",
       "6806   Bethlehem Records, Colpix Records, Legacy Reco...  Verenigde Staten   \n",
       "20070                                               None  Verenigde Staten   \n",
       "811                                             PolyGram         Nederland   \n",
       "13649  Imperial, London, ABC, Mercury, Broadmoor, Rep...  Verenigde Staten   \n",
       "\n",
       "      Manager Medium Montage Muziek Nationaliteit Netwerk of omroep  \\\n",
       "1629     None   None    None   None          None              None   \n",
       "6806     None   None    None   None          None              None   \n",
       "20070    None   None    None   None          None              None   \n",
       "811      None   None    None   None          None              None   \n",
       "13649    None   None    None   None          None              None   \n",
       "\n",
       "      Nevenberoep Ook bekend als Oorsprong Opbrengst Opgegroeid te  \\\n",
       "1629         None           None      None      None          None   \n",
       "6806         None           None      None      None          None   \n",
       "20070        None           None      None      None          None   \n",
       "811          None           None      None      None          None   \n",
       "13649        None           None      None      None          None   \n",
       "\n",
       "      Overige nominaties                   Overleden Overlijdensplaats  \\\n",
       "1629                None   11 juli 2001 te Amsterdam              None   \n",
       "6806                None               21 april 2003              None   \n",
       "20070               None                5 april 2006              None   \n",
       "811                 None  Amsterdam, 1 december 2009              None   \n",
       "13649               None             24 oktober 2017              None   \n",
       "\n",
       "      Platenlabel Première Producent Pseudoniem Pseudoniem(en) Regie  \\\n",
       "1629         None     None      None       None           None  None   \n",
       "6806         None     None      None       None           None  None   \n",
       "20070        None     None      None       None           None  None   \n",
       "811          None     None      None       None           None  None   \n",
       "13649        None     None      None       None           None  None   \n",
       "\n",
       "      Regisseur Scenario Speelduur Start Stijl  Taal Teksten  \\\n",
       "1629       None     None      None  None  None  None    None   \n",
       "6806       None     None      None  None  None  None    None   \n",
       "20070      None     None      None  None  None  None    None   \n",
       "811        None     None      None  None  None  None    None   \n",
       "13649      None     None      None  None  None  None    None   \n",
       "\n",
       "                                      Verwante artiesten Verwante acts  \\\n",
       "1629   Long Tall Ernie and the Shakers, Stud, Jan Akk...          None   \n",
       "6806                                                None          None   \n",
       "20070                                               None          None   \n",
       "811                                                 None          None   \n",
       "13649                                               None          None   \n",
       "\n",
       "      Volledige naam                 Volledige naam Zangstem Zender  \\\n",
       "1629            None                 Hermanus Brood     None   None   \n",
       "6806            None         Eunice Kathleen Waymon     None   None   \n",
       "20070           None                           None     None   None   \n",
       "811             None                           None     None   None   \n",
       "13649           None  Antoine Dominique Domino, Jr.     None   None   \n",
       "\n",
       "      DateOfBirth  HasPassed DateEndOfVoting  PassingTooEarly  \\\n",
       "1629   1946-11-05       True      2001-12-01        25.319644   \n",
       "6806   1933-02-21       True      2003-12-15         9.839836   \n",
       "20070  1941-02-17       True      2006-12-01        14.872005   \n",
       "811    1933-08-29       True      2009-12-04         3.742642   \n",
       "13649  1928-02-26       True      2017-12-08         0.000000   \n",
       "\n",
       "       PctVotesAfterDeathSong  NrArtists  MultiplePerformers  \\\n",
       "1629                 0.001136          2                   1   \n",
       "6806                 0.000266          1                   0   \n",
       "20070                0.000133          1                   0   \n",
       "811                  0.006169          2                   1   \n",
       "13649                0.000321          1                   0   \n",
       "\n",
       "       YearsSinceOverlijden  PopularityWithinArtist  \\\n",
       "1629                    0.0                1.571590   \n",
       "6806                    0.0                1.468431   \n",
       "20070                   0.0                0.953698   \n",
       "811                     0.0                2.076463   \n",
       "13649                   0.0                1.000000   \n",
       "\n",
       "       LogSongPopularityWithinArtist  RecencyWithinArtist  RankLastYear  \\\n",
       "1629                        0.196339             0.000000         419.0   \n",
       "6806                        0.166854             0.173913         988.0   \n",
       "20070                      -0.020589             0.000000        1849.0   \n",
       "811                         0.317324             0.100000          40.0   \n",
       "13649                       0.000000             0.500000        1045.0   \n",
       "\n",
       "       PctVotesBeforeDeathSong  BoostSong  LogBoostSong  YearsBeforeDeath  \\\n",
       "1629                  0.000482   2.357895      0.857769             -23.0   \n",
       "6806                  0.000212   1.254007      0.226344             -35.0   \n",
       "20070                 0.000115   1.154272      0.143470             -42.0   \n",
       "811                   0.003129   1.971429      0.678758             -40.0   \n",
       "13649                 0.000201   1.598214      0.468887             -60.0   \n",
       "\n",
       "       JarenGeleden  PctVotesAfterDeathArtist  PctVotesBeforeDeathArtist  \\\n",
       "1629          -19.0                  0.001446                   0.000684   \n",
       "6806          -17.0                  0.000431                   0.000343   \n",
       "20070         -14.0                  0.000278                   0.000234   \n",
       "811           -11.0                  0.023311                   0.006249   \n",
       "13649          -3.0                  0.000321                   0.000201   \n",
       "\n",
       "       LastSongYearInTop2000  NSongsBeforeDeath           Name  IsDutch  \\\n",
       "1629                    1979                  2   Herman Brood        1   \n",
       "6806                    1987                  2    Nina Simone        0   \n",
       "20070                   1964                  2    Gene Pitney        0   \n",
       "811                     2005                  7  Ramses Shaffy        1   \n",
       "13649                   1957                  1    Fats Domino        0   \n",
       "\n",
       "       AgePassing  Top2000YearOfDeath DateOfDeath  DaysToEndOfVoting  \\\n",
       "1629    54.680356              2001.0  2001-07-11             -143.0   \n",
       "6806    70.160164              2003.0  2003-04-21             -238.0   \n",
       "20070   65.127995              2006.0  2006-04-05             -240.0   \n",
       "811     76.257358              2009.0  2009-12-01               -3.0   \n",
       "13649   89.659138              2017.0  2017-10-24              -45.0   \n",
       "\n",
       "       LogPopularity  LogPopularityNorm  BoostArtist  LogBoostArtist  \\\n",
       "1629       -3.164861           0.376883     2.113914        0.748541   \n",
       "6806       -3.464090           0.077653     1.254589        0.226808   \n",
       "20070      -3.631147          -0.089403     1.190331        0.174231   \n",
       "811        -2.204206           1.337537     3.730535        1.316552   \n",
       "13649      -3.696715          -0.154972     1.598214        0.468887   \n",
       "\n",
       "       YearsSinceLastHit  SongRelativeBoost  LogRelativeBoost  LogBoost  \n",
       "1629                22.0           1.115417          0.109228  0.857769  \n",
       "6806                16.0           0.999536         -0.000464  0.226344  \n",
       "20070               42.0           0.969706         -0.030762  0.143470  \n",
       "811                  4.0           0.528457         -0.637793  0.678758  \n",
       "13649               60.0           1.000000          0.000000  0.468887  "
      ]
     },
     "metadata": {},
     "output_type": "display_data"
    }
   ],
   "source": [
    "with pd.option_context('display.max_columns', None):\n",
    "    display(df.sample(5, random_state=123))"
   ]
  },
  {
   "cell_type": "code",
   "execution_count": 8,
   "metadata": {},
   "outputs": [
    {
     "name": "stdout",
     "output_type": "stream",
     "text": [
      "The final data contains 154 rows, which means there are 154 songs which were in the Top 2000 the year before the artist passed away.\n",
      "They come from 63 unique artists\n"
     ]
    }
   ],
   "source": [
    "print(f'The final data contains {len(df)} rows, which means there are {len(df)} songs which were in the Top 2000 the year before the artist passed away.')\n",
    "print(f'They come from {df[\"ArtistID\"].nunique()} unique artists')"
   ]
  },
  {
   "cell_type": "markdown",
   "metadata": {},
   "source": [
    "## Basic data inspection\n",
    "With the data in hand, it is always tempting to immediately go to the _cool_ stuff, but it is paramount to stay in control, by first making the quick graphs to understand what's happening on a basic level."
   ]
  },
  {
   "cell_type": "code",
   "execution_count": 9,
   "metadata": {},
   "outputs": [
    {
     "data": {
      "image/png": "[encoded data removed]",
      "text/plain": [
       "<Figure size 432x288 with 1 Axes>"
      ]
     },
     "metadata": {
      "needs_background": "light"
     },
     "output_type": "display_data"
    }
   ],
   "source": [
    "ax = df['Year'].value_counts().sort_index().plot(ylim=(0, None), xlabel='Year', ylabel='Nr of artists\\nwho passed away')\n",
    "ax.xaxis.set_major_locator(mtick.MaxNLocator(integer=True))\n",
    "plt.show()"
   ]
  },
  {
   "cell_type": "markdown",
   "metadata": {},
   "source": [
    "We see a number of artists passing awayt each year, with a spike in 2016.\n",
    "\n",
    "Next, let's see what happened to the ranking of each song."
   ]
  },
  {
   "cell_type": "code",
   "execution_count": 10,
   "metadata": {},
   "outputs": [
    {
     "data": {
      "image/png": "[encoded data removed]",
      "text/plain": [
       "<Figure size 432x288 with 1 Axes>"
      ]
     },
     "metadata": {
      "needs_background": "light"
     },
     "output_type": "display_data"
    }
   ],
   "source": [
    "ax = df.plot(kind='scatter', x='RankLastYear', y='Rank', label='Song of artist who passed away', title='There is a lot of variance in the increase of a song in the ranking')\n",
    "ax.plot([0, 2000], [0, 2000], 'k--', label='Position last year')\n",
    "ax.set_xlabel('Ranking before passing away')\n",
    "ax.set_ylabel('Ranking in year of passing away')\n",
    "plt.legend()\n",
    "plt.show()"
   ]
  },
  {
   "cell_type": "markdown",
   "metadata": {},
   "source": [
    "Since most dots are below the dashed line, indeed almost all songs (but notably not all) receive some sort of boost in the year the artist passed away. We also see there are huge differences in the size of the effect: with some songs ranking below 1500 entering the Top 250 a year later, while some Top 500 songs stay right where they are. This learns us that we really need a model that has access to relevant attributes to make an accurate inference about what drives the boost."
   ]
  },
  {
   "cell_type": "markdown",
   "metadata": {},
   "source": [
    "For the analysis, the discrete nature of rankings is a problem; the difference between songs ranked 2000 and 1980 is very different from the songs ranked 21st and first. Therefore, we estimate the number of votes through a model developed by [Peter Meindertsma](https://www.petermeindertsma.nl/blog/benadering-aantal-stemmen-per-liedje-in-de-top-2000-van-2014/).\n",
    "\n",
    "Furthermore, we define a _Boost_  as the ratio between the percentage of votes of the song in the year of the artist passing away and the percentage of the vote of that song in the year before."
   ]
  },
  {
   "cell_type": "markdown",
   "metadata": {},
   "source": [
    "### Inspection of the boost distribution"
   ]
  },
  {
   "cell_type": "code",
   "execution_count": 11,
   "metadata": {},
   "outputs": [],
   "source": [
    "def plot_distribution(series, dist='norm', **kwargs):\n",
    "    fig, axes = plt.subplots(1, 2, figsize=(8, 4))\n",
    "    series.plot(kind='kde', ax=axes[0], **kwargs)\n",
    "    scipy.stats.probplot(series, dist=dist, plot=axes[1])\n",
    "    plt.tight_layout()\n",
    "    plt.show()\n",
    "    display(series.describe())"
   ]
  },
  {
   "cell_type": "code",
   "execution_count": 12,
   "metadata": {},
   "outputs": [
    {
     "data": {
      "image/png": "[encoded data removed]",
      "text/plain": [
       "<Figure size 576x288 with 2 Axes>"
      ]
     },
     "metadata": {
      "needs_background": "light"
     },
     "output_type": "display_data"
    },
    {
     "data": {
      "text/plain": [
       "count    154.000000\n",
       "mean       2.329310\n",
       "std        2.032922\n",
       "min        0.723932\n",
       "25%        1.225985\n",
       "50%        1.746682\n",
       "75%        2.573768\n",
       "max       18.101695\n",
       "Name: BoostSong, dtype: float64"
      ]
     },
     "metadata": {},
     "output_type": "display_data"
    }
   ],
   "source": [
    "plot_distribution(df['BoostSong'], xlim=(0, None))"
   ]
  },
  {
   "cell_type": "markdown",
   "metadata": {},
   "source": [
    "We see the average song gets a boost of 2.3x as many votes as the year before, and the median is 1.75x as many votes. Notably, the Boost distrution is not Normal. Therefore, we also inspect the logarithm of the boost:"
   ]
  },
  {
   "cell_type": "code",
   "execution_count": 13,
   "metadata": {},
   "outputs": [
    {
     "data": {
      "image/png": "[encoded data removed]",
      "text/plain": [
       "<Figure size 576x288 with 2 Axes>"
      ]
     },
     "metadata": {
      "needs_background": "light"
     },
     "output_type": "display_data"
    },
    {
     "data": {
      "text/plain": [
       "count    154.000000\n",
       "mean       0.639072\n",
       "std        0.587884\n",
       "min       -0.323057\n",
       "25%        0.203744\n",
       "50%        0.557716\n",
       "75%        0.945259\n",
       "max        2.896006\n",
       "Name: LogBoost, dtype: float64"
      ]
     },
     "metadata": {},
     "output_type": "display_data"
    }
   ],
   "source": [
    "plot_distribution(df['LogBoost'])"
   ]
  },
  {
   "cell_type": "markdown",
   "metadata": {},
   "source": [
    "Still not perfectly normal, but at least it's closer. In our further estimation, we will often work with the logarithm, because the regular boost is dominated by a few outliers.\n",
    "\n",
    "Next, we will also investigate the _artist boost_, defined as the the total number of votes for an artist in the year of his death divided by the total number of votes in the year before, instead of each song individually"
   ]
  },
  {
   "cell_type": "code",
   "execution_count": 14,
   "metadata": {},
   "outputs": [
    {
     "data": {
      "image/png": "[encoded data removed]",
      "text/plain": [
       "<Figure size 576x288 with 2 Axes>"
      ]
     },
     "metadata": {
      "needs_background": "light"
     },
     "output_type": "display_data"
    },
    {
     "data": {
      "text/plain": [
       "count    63.000000\n",
       "mean      1.772027\n",
       "std       1.437898\n",
       "min       0.723932\n",
       "25%       1.053936\n",
       "50%       1.268907\n",
       "75%       2.038679\n",
       "max      10.991597\n",
       "Name: Boost, dtype: float64"
      ]
     },
     "metadata": {},
     "output_type": "display_data"
    }
   ],
   "source": [
    "plot_distribution(df_artist['Boost'], xlim=(0, None))"
   ]
  },
  {
   "cell_type": "markdown",
   "metadata": {},
   "source": [
    "Again, we see the same distribution. Notably, the average _artist_ boost is lower than the average _song_ boost. This can be explained if artists with multiple songs on average see a larger boost. We make the same plot, but now binned for easier interpretation, to show in the blog. \n",
    "\n",
    "Indeed, most artists get a boost, and it is often between 50% and 150%."
   ]
  },
  {
   "cell_type": "code",
   "execution_count": 15,
   "metadata": {},
   "outputs": [
    {
     "data": {
      "image/png": "[encoded data removed]",
      "text/plain": [
       "<Figure size 432x288 with 1 Axes>"
      ]
     },
     "metadata": {
      "needs_background": "light"
     },
     "output_type": "display_data"
    }
   ],
   "source": [
    "data = pd.cut(df_artist['Boost'], [0, 1, 1.25, 1.5, 2.5, np.inf],\n",
    "               labels=['No boost',\n",
    "                       'Up to 25% more votes',\n",
    "                       'Up to 50% more votes',\n",
    "                       '1.5 - 2.5 x\\nas many votes',\n",
    "                       'More than 2.5\\nx as many votes']).value_counts(normalize=True).sort_index(ascending=False)\n",
    "data.index = data.index.astype(str) # Otherwise, can not add row for Total\n",
    "micplot.visualize(data, highlight=range(4), sorting='original')\n",
    "plt.show()"
   ]
  },
  {
   "cell_type": "markdown",
   "metadata": {},
   "source": [
    "Now, let's check who got the smallest and largest boosts."
   ]
  },
  {
   "cell_type": "code",
   "execution_count": 16,
   "metadata": {},
   "outputs": [
    {
     "data": {
      "text/html": [
       "<style  type=\"text/css\" >\n",
       "</style><table id=\"T_3d0bf_\" style='display:inline'><caption>Artist with smallest boosts</caption><thead>    <tr>        <th class=\"blank level0\" ></th>        <th class=\"col_heading level0 col0\" >Boost</th>        <th class=\"col_heading level0 col1\" >LogPopularityNorm</th>        <th class=\"col_heading level0 col2\" >NSongsBeforeDeath</th>        <th class=\"col_heading level0 col3\" >DateOfDeath</th>    </tr>    <tr>        <th class=\"index_name level0\" >Name</th>        <th class=\"blank\" ></th>        <th class=\"blank\" ></th>        <th class=\"blank\" ></th>        <th class=\"blank\" ></th>    </tr></thead><tbody>\n",
       "                <tr>\n",
       "                        <th id=\"T_3d0bf_level0_row0\" class=\"row_heading level0 row0\" >Tol Hansse</th>\n",
       "                        <td id=\"T_3d0bf_row0_col0\" class=\"data row0 col0\" >0.723932</td>\n",
       "                        <td id=\"T_3d0bf_row0_col1\" class=\"data row0 col1\" >-0.287725</td>\n",
       "                        <td id=\"T_3d0bf_row0_col2\" class=\"data row0 col2\" >1</td>\n",
       "                        <td id=\"T_3d0bf_row0_col3\" class=\"data row0 col3\" >2002-Apr-29</td>\n",
       "            </tr>\n",
       "            <tr>\n",
       "                        <th id=\"T_3d0bf_level0_row1\" class=\"row_heading level0 row1\" >Timi Yuro</th>\n",
       "                        <td id=\"T_3d0bf_row1_col0\" class=\"data row1 col0\" >0.735862</td>\n",
       "                        <td id=\"T_3d0bf_row1_col1\" class=\"data row1 col1\" >-0.167722</td>\n",
       "                        <td id=\"T_3d0bf_row1_col2\" class=\"data row1 col2\" >1</td>\n",
       "                        <td id=\"T_3d0bf_row1_col3\" class=\"data row1 col3\" >2004-Mar-30</td>\n",
       "            </tr>\n",
       "            <tr>\n",
       "                        <th id=\"T_3d0bf_level0_row2\" class=\"row_heading level0 row2\" >Conny Vandenbos</th>\n",
       "                        <td id=\"T_3d0bf_row2_col0\" class=\"data row2 col0\" >0.759279</td>\n",
       "                        <td id=\"T_3d0bf_row2_col1\" class=\"data row2 col1\" >-0.267294</td>\n",
       "                        <td id=\"T_3d0bf_row2_col2\" class=\"data row2 col2\" >1</td>\n",
       "                        <td id=\"T_3d0bf_row2_col3\" class=\"data row2 col3\" >2002-Apr-07</td>\n",
       "            </tr>\n",
       "            <tr>\n",
       "                        <th id=\"T_3d0bf_level0_row3\" class=\"row_heading level0 row3\" >David McWilliams</th>\n",
       "                        <td id=\"T_3d0bf_row3_col0\" class=\"data row3 col0\" >0.771998</td>\n",
       "                        <td id=\"T_3d0bf_row3_col1\" class=\"data row3 col1\" >-0.268541</td>\n",
       "                        <td id=\"T_3d0bf_row3_col2\" class=\"data row3 col2\" >1</td>\n",
       "                        <td id=\"T_3d0bf_row3_col3\" class=\"data row3 col3\" >2002-Jan-08</td>\n",
       "            </tr>\n",
       "            <tr>\n",
       "                        <th id=\"T_3d0bf_level0_row4\" class=\"row_heading level0 row4\" >Long John Baldry</th>\n",
       "                        <td id=\"T_3d0bf_row4_col0\" class=\"data row4 col0\" >0.822581</td>\n",
       "                        <td id=\"T_3d0bf_row4_col1\" class=\"data row4 col1\" >-0.153757</td>\n",
       "                        <td id=\"T_3d0bf_row4_col2\" class=\"data row4 col2\" >1</td>\n",
       "                        <td id=\"T_3d0bf_row4_col3\" class=\"data row4 col3\" >2005-Jul-21</td>\n",
       "            </tr>\n",
       "            <tr>\n",
       "                        <th id=\"T_3d0bf_level0_row5\" class=\"row_heading level0 row5\" >Charles & Eddie</th>\n",
       "                        <td id=\"T_3d0bf_row5_col0\" class=\"data row5 col0\" >0.828880</td>\n",
       "                        <td id=\"T_3d0bf_row5_col1\" class=\"data row5 col1\" >-0.331602</td>\n",
       "                        <td id=\"T_3d0bf_row5_col2\" class=\"data row5 col2\" >1</td>\n",
       "                        <td id=\"T_3d0bf_row5_col3\" class=\"data row5 col3\" >2001-Apr-06</td>\n",
       "            </tr>\n",
       "            <tr>\n",
       "                        <th id=\"T_3d0bf_level0_row6\" class=\"row_heading level0 row6\" >Syreeta</th>\n",
       "                        <td id=\"T_3d0bf_row6_col0\" class=\"data row6 col0\" >0.878519</td>\n",
       "                        <td id=\"T_3d0bf_row6_col1\" class=\"data row6 col1\" >-0.350567</td>\n",
       "                        <td id=\"T_3d0bf_row6_col2\" class=\"data row6 col2\" >1</td>\n",
       "                        <td id=\"T_3d0bf_row6_col3\" class=\"data row6 col3\" >2004-Jul-05</td>\n",
       "            </tr>\n",
       "            <tr>\n",
       "                        <th id=\"T_3d0bf_level0_row7\" class=\"row_heading level0 row7\" >Ray Charles</th>\n",
       "                        <td id=\"T_3d0bf_row7_col0\" class=\"data row7 col0\" >0.922737</td>\n",
       "                        <td id=\"T_3d0bf_row7_col1\" class=\"data row7 col1\" >0.117318</td>\n",
       "                        <td id=\"T_3d0bf_row7_col2\" class=\"data row7 col2\" >2</td>\n",
       "                        <td id=\"T_3d0bf_row7_col3\" class=\"data row7 col3\" >2004-Jun-10</td>\n",
       "            </tr>\n",
       "            <tr>\n",
       "                        <th id=\"T_3d0bf_level0_row8\" class=\"row_heading level0 row8\" >Benny Neyman</th>\n",
       "                        <td id=\"T_3d0bf_row8_col0\" class=\"data row8 col0\" >0.962199</td>\n",
       "                        <td id=\"T_3d0bf_row8_col1\" class=\"data row8 col1\" >0.127845</td>\n",
       "                        <td id=\"T_3d0bf_row8_col2\" class=\"data row8 col2\" >1</td>\n",
       "                        <td id=\"T_3d0bf_row8_col3\" class=\"data row8 col3\" >2008-Feb-07</td>\n",
       "            </tr>\n",
       "            <tr>\n",
       "                        <th id=\"T_3d0bf_level0_row9\" class=\"row_heading level0 row9\" >Liesbeth List</th>\n",
       "                        <td id=\"T_3d0bf_row9_col0\" class=\"data row9 col0\" >0.969683</td>\n",
       "                        <td id=\"T_3d0bf_row9_col1\" class=\"data row9 col1\" >0.991316</td>\n",
       "                        <td id=\"T_3d0bf_row9_col2\" class=\"data row9 col2\" >2</td>\n",
       "                        <td id=\"T_3d0bf_row9_col3\" class=\"data row9 col3\" >2020-Mar-25</td>\n",
       "            </tr>\n",
       "            <tr>\n",
       "                        <th id=\"T_3d0bf_level0_row10\" class=\"row_heading level0 row10\" >Dan Fogelberg</th>\n",
       "                        <td id=\"T_3d0bf_row10_col0\" class=\"data row10 col0\" >0.992281</td>\n",
       "                        <td id=\"T_3d0bf_row10_col1\" class=\"data row10 col1\" >-0.187301</td>\n",
       "                        <td id=\"T_3d0bf_row10_col2\" class=\"data row10 col2\" >1</td>\n",
       "                        <td id=\"T_3d0bf_row10_col3\" class=\"data row10 col3\" >2007-Dec-16</td>\n",
       "            </tr>\n",
       "    </tbody></table> <style  type=\"text/css\" >\n",
       "</style><table id=\"T_c83b3_\" style='display:inline'><caption>Artist with largest boosts</caption><thead>    <tr>        <th class=\"blank level0\" ></th>        <th class=\"col_heading level0 col0\" >Boost</th>        <th class=\"col_heading level0 col1\" >LogPopularityNorm</th>        <th class=\"col_heading level0 col2\" >NSongsBeforeDeath</th>        <th class=\"col_heading level0 col3\" >DateOfDeath</th>    </tr>    <tr>        <th class=\"index_name level0\" >Name</th>        <th class=\"blank\" ></th>        <th class=\"blank\" ></th>        <th class=\"blank\" ></th>        <th class=\"blank\" ></th>    </tr></thead><tbody>\n",
       "                <tr>\n",
       "                        <th id=\"T_c83b3_level0_row0\" class=\"row_heading level0 row0\" >Armand</th>\n",
       "                        <td id=\"T_c83b3_row0_col0\" class=\"data row0 col0\" >10.991597</td>\n",
       "                        <td id=\"T_c83b3_row0_col1\" class=\"data row0 col1\" >-0.240575</td>\n",
       "                        <td id=\"T_c83b3_row0_col2\" class=\"data row0 col2\" >1</td>\n",
       "                        <td id=\"T_c83b3_row0_col3\" class=\"data row0 col3\" >2015-Nov-19</td>\n",
       "            </tr>\n",
       "            <tr>\n",
       "                        <th id=\"T_c83b3_level0_row1\" class=\"row_heading level0 row1\" >Michael Jackson</th>\n",
       "                        <td id=\"T_c83b3_row1_col0\" class=\"data row1 col0\" >4.773570</td>\n",
       "                        <td id=\"T_c83b3_row1_col1\" class=\"data row1 col1\" >0.986318</td>\n",
       "                        <td id=\"T_c83b3_row1_col2\" class=\"data row1 col2\" >9</td>\n",
       "                        <td id=\"T_c83b3_row1_col3\" class=\"data row1 col3\" >2009-Jun-25</td>\n",
       "            </tr>\n",
       "            <tr>\n",
       "                        <th id=\"T_c83b3_level0_row2\" class=\"row_heading level0 row2\" >Ramses Shaffy</th>\n",
       "                        <td id=\"T_c83b3_row2_col0\" class=\"data row2 col0\" >3.730535</td>\n",
       "                        <td id=\"T_c83b3_row2_col1\" class=\"data row2 col1\" >1.337537</td>\n",
       "                        <td id=\"T_c83b3_row2_col2\" class=\"data row2 col2\" >7</td>\n",
       "                        <td id=\"T_c83b3_row2_col3\" class=\"data row2 col3\" >2009-Dec-01</td>\n",
       "            </tr>\n",
       "            <tr>\n",
       "                        <th id=\"T_c83b3_level0_row3\" class=\"row_heading level0 row3\" >Leonard Cohen</th>\n",
       "                        <td id=\"T_c83b3_row3_col0\" class=\"data row3 col0\" >3.572754</td>\n",
       "                        <td id=\"T_c83b3_row3_col1\" class=\"data row3 col1\" >0.789749</td>\n",
       "                        <td id=\"T_c83b3_row3_col2\" class=\"data row3 col2\" >3</td>\n",
       "                        <td id=\"T_c83b3_row3_col3\" class=\"data row3 col3\" >2016-Nov-07</td>\n",
       "            </tr>\n",
       "            <tr>\n",
       "                        <th id=\"T_c83b3_level0_row4\" class=\"row_heading level0 row4\" >George Michael</th>\n",
       "                        <td id=\"T_c83b3_row4_col0\" class=\"data row4 col0\" >3.192889</td>\n",
       "                        <td id=\"T_c83b3_row4_col1\" class=\"data row4 col1\" >0.701572</td>\n",
       "                        <td id=\"T_c83b3_row4_col2\" class=\"data row4 col2\" >8</td>\n",
       "                        <td id=\"T_c83b3_row4_col3\" class=\"data row4 col3\" >2016-Dec-25</td>\n",
       "            </tr>\n",
       "            <tr>\n",
       "                        <th id=\"T_c83b3_level0_row5\" class=\"row_heading level0 row5\" >Aretha Franklin</th>\n",
       "                        <td id=\"T_c83b3_row5_col0\" class=\"data row5 col0\" >2.964695</td>\n",
       "                        <td id=\"T_c83b3_row5_col1\" class=\"data row5 col1\" >0.562811</td>\n",
       "                        <td id=\"T_c83b3_row5_col2\" class=\"data row5 col2\" >5</td>\n",
       "                        <td id=\"T_c83b3_row5_col3\" class=\"data row5 col3\" >2018-Aug-16</td>\n",
       "            </tr>\n",
       "            <tr>\n",
       "                        <th id=\"T_c83b3_level0_row6\" class=\"row_heading level0 row6\" >Avicii</th>\n",
       "                        <td id=\"T_c83b3_row6_col0\" class=\"data row6 col0\" >2.803557</td>\n",
       "                        <td id=\"T_c83b3_row6_col1\" class=\"data row6 col1\" >0.694665</td>\n",
       "                        <td id=\"T_c83b3_row6_col2\" class=\"data row6 col2\" >4</td>\n",
       "                        <td id=\"T_c83b3_row6_col3\" class=\"data row6 col3\" >2018-Apr-20</td>\n",
       "            </tr>\n",
       "            <tr>\n",
       "                        <th id=\"T_c83b3_level0_row7\" class=\"row_heading level0 row7\" >Lou Reed</th>\n",
       "                        <td id=\"T_c83b3_row7_col0\" class=\"data row7 col0\" >2.786481</td>\n",
       "                        <td id=\"T_c83b3_row7_col1\" class=\"data row7 col1\" >0.745128</td>\n",
       "                        <td id=\"T_c83b3_row7_col2\" class=\"data row7 col2\" >3</td>\n",
       "                        <td id=\"T_c83b3_row7_col3\" class=\"data row7 col3\" >2013-Oct-27</td>\n",
       "            </tr>\n",
       "            <tr>\n",
       "                        <th id=\"T_c83b3_level0_row8\" class=\"row_heading level0 row8\" >Prince</th>\n",
       "                        <td id=\"T_c83b3_row8_col0\" class=\"data row8 col0\" >2.609990</td>\n",
       "                        <td id=\"T_c83b3_row8_col1\" class=\"data row8 col1\" >0.421181</td>\n",
       "                        <td id=\"T_c83b3_row8_col2\" class=\"data row8 col2\" >3</td>\n",
       "                        <td id=\"T_c83b3_row8_col3\" class=\"data row8 col3\" >2016-Apr-21</td>\n",
       "            </tr>\n",
       "            <tr>\n",
       "                        <th id=\"T_c83b3_level0_row9\" class=\"row_heading level0 row9\" >Bill Withers</th>\n",
       "                        <td id=\"T_c83b3_row9_col0\" class=\"data row9 col0\" >2.453892</td>\n",
       "                        <td id=\"T_c83b3_row9_col1\" class=\"data row9 col1\" >0.289127</td>\n",
       "                        <td id=\"T_c83b3_row9_col2\" class=\"data row9 col2\" >2</td>\n",
       "                        <td id=\"T_c83b3_row9_col3\" class=\"data row9 col3\" >2020-Mar-30</td>\n",
       "            </tr>\n",
       "    </tbody></table>"
      ]
     },
     "metadata": {},
     "output_type": "display_data"
    }
   ],
   "source": [
    "from IPython.display import display_html\n",
    "relevant_columns = ['Name',\n",
    "                   'Boost',\n",
    "                   'LogPopularityNorm',\n",
    "                   'NSongsBeforeDeath',\n",
    "                   'DateOfDeath']\n",
    "\n",
    "df_smallest_boosts = df_artist.query('Boost < 1')[relevant_columns].sort_values('Boost').set_index('Name')\n",
    "df_largest_boosts = df_artist.nlargest(10, 'Boost')[relevant_columns].set_index('Name')\n",
    "\n",
    "df1_styler = df_smallest_boosts.style.format({\"DateOfDeath\": '{:%Y-%b-%d}'}).set_table_attributes(\"style='display:inline'\").set_caption('Artist with smallest boosts')\n",
    "df2_styler = df_largest_boosts.style.format({\"DateOfDeath\": '{:%Y-%b-%d}'}).set_table_attributes(\"style='display:inline'\").set_caption('Artist with largest boosts')\n",
    "display_html(df1_styler._repr_html_() +  ' ' + df2_styler._repr_html_(), raw=True)  # Display side by side"
   ]
  },
  {
   "cell_type": "markdown",
   "metadata": {},
   "source": [
    "# Univariate analysis\n",
    "We understand the data set and have a basic feeling for the data, but before we dive into a complex multivariate model, it is wise to go step by by step. In our case, that means first doing a univariate analysis of the hypotheses.\n",
    "\n",
    "Therefore, we must formulate hypotheses on what affects the size of the boost on three levels:\n",
    "1. A __base__ effect for every artist\n",
    "1. An __artist specific__ effect, based on the characteristics of the artist and his/her death - aspects that have to do with how prominent the artist will be in the news after his/her death\n",
    "1. A __song specific__ effect, for which songs channel the newfound votes.\n",
    "\n",
    "For each step, the hypotheses are shown in the table below:\n",
    "\n",
    "<img src=\"../blogfigures/Reading and understanding Top 2000 data/Hypothesis.png\" alt=\"Hypotheses are formulated for each level, to predict the boost of a song\" width=\"750\"/>\n"
   ]
  },
  {
   "cell_type": "markdown",
   "metadata": {},
   "source": [
    "## The artist level is more important than the song level, but both are necessary to explain a boost\n",
    "Before we dive in, lets check the relative importance of the levels. For this, we look into songs by artists who have multiple songs ranked in the Top 2000, which is ~80%."
   ]
  },
  {
   "cell_type": "code",
   "execution_count": 17,
   "metadata": {},
   "outputs": [
    {
     "data": {
      "image/png": "[encoded data removed]",
      "text/plain": [
       "<Figure size 432x288 with 1 Axes>"
      ]
     },
     "metadata": {
      "needs_background": "light"
     },
     "output_type": "display_data"
    }
   ],
   "source": [
    "vis = (df.assign(HasMultipleSongs = lambda df: df['NSongsBeforeDeath'].ge(2))\n",
    "         .groupby('HasMultipleSongs').size()\n",
    "         .pipe(micplot.visualize, plottype='waterfall')\n",
    "        )\n",
    "vis.ax.set_title('80% of the artist have multiple songs listed in their year before death')\n",
    "plt.show()"
   ]
  },
  {
   "cell_type": "markdown",
   "metadata": {},
   "source": [
    "I look into the relative importance of the levels by calculating the explained variance of the Logarithm of the Song Boost of the Artist on the one hand, and the Relative Song effect of the song (which is the Song Boost divided by the Artist Boost) on the other hand.\n",
    "\n",
    "*SongBoost = ArtistBoost * RelativeSongBoost*\n",
    "\n",
    "Taking the logarithms of both sides, we see they add up to the Log of the Boost, so\n",
    "\n",
    "*LogSongBoost = LogArtistBoost + LogRelativeSongBoost*\n",
    "\n",
    "Now, I calculate the ExplainedVariance of each of the two components. I find the Artist effect is 1.5x more important than the Relative Song effect. This ties in with the idea that people want to honour an artist who passed away, not a song they wrote. On the other hand, it does show both levels are important and we should definitely try to model both\n",
    "\n",
    "The explained variance doesn't exactly add up to 100% because the two components are (very weakly) correlated."
   ]
  },
  {
   "cell_type": "code",
   "execution_count": 18,
   "metadata": {},
   "outputs": [],
   "source": [
    "df_multiple_songs = df.query('NSongsBeforeDeath >= 2').assign(LogBoostArtist = lambda df: np.log(df['BoostArtist']))\n",
    "\n",
    "variance_explained_artist = sklearn.metrics.explained_variance_score(df_multiple_songs['LogBoost'], df_multiple_songs['LogBoostArtist'])\n",
    "variance_explained_song = sklearn.metrics.explained_variance_score(df_multiple_songs['LogBoost'], df_multiple_songs['LogRelativeBoost'])\n",
    "explained_variance = {'Artist': variance_explained_artist, \n",
    "                      'Song': variance_explained_song,\n",
    "                      'Correlation': 1 - variance_explained_artist - variance_explained_song\n",
    "                     }"
   ]
  },
  {
   "cell_type": "code",
   "execution_count": 19,
   "metadata": {},
   "outputs": [
    {
     "data": {
      "image/png": "[encoded data removed]",
      "text/plain": [
       "<Figure size 432x288 with 1 Axes>"
      ]
     },
     "metadata": {
      "needs_background": "light"
     },
     "output_type": "display_data"
    }
   ],
   "source": [
    "vis = (pd.Series(explained_variance, name='Explained Variance').pipe(micplot.visualize))\n",
    "vis.ax.set_title('Most variance is explained by the Artist level')\n",
    "plt.show()"
   ]
  },
  {
   "cell_type": "markdown",
   "metadata": {},
   "source": [
    "The artist is most important, but we also see there is definetly still a lot of variance within the songs of an artist, which we should try to model."
   ]
  },
  {
   "cell_type": "code",
   "execution_count": 20,
   "metadata": {},
   "outputs": [],
   "source": [
    "def plot_with_trend(df, column, logy=False):\n",
    "    ycolname = 'LogBoost' if logy else 'Boost'\n",
    "    preds = LinearRegression().fit(df[[column]], df[ycolname]).predict(df[[column]])\n",
    "    ax = df.plot(x=column, y=ycolname, kind='scatter', label='Passed away artists', c='grey')\n",
    "    ax.plot(df[column], preds, 'k', label='Trend')\n",
    "    ax.legend()\n",
    "    return ax"
   ]
  },
  {
   "cell_type": "markdown",
   "metadata": {},
   "source": [
    "## Base level\n",
    "### Year\n",
    "We hypothesize the boost has grown stronger over the years, because of more prevalent news, and indeed, we see this effect."
   ]
  },
  {
   "cell_type": "code",
   "execution_count": 21,
   "metadata": {},
   "outputs": [
    {
     "data": {
      "image/png": "[encoded data removed]",
      "text/plain": [
       "<Figure size 432x288 with 1 Axes>"
      ]
     },
     "metadata": {
      "needs_background": "light"
     },
     "output_type": "display_data"
    }
   ],
   "source": [
    "ax = plot_with_trend(df_artist, 'Top2000YearOfDeath', logy=True)\n",
    "ax.xaxis.set_major_locator(mtick.MaxNLocator(integer=True))\n",
    "plt.legend()\n",
    "plt.tight_layout()\n",
    "ax.set_frame_on(False)"
   ]
  },
  {
   "cell_type": "markdown",
   "metadata": {},
   "source": [
    "## Artist level"
   ]
  },
  {
   "cell_type": "markdown",
   "metadata": {},
   "source": [
    "### Popularity\n",
    "When more popular artists die, they get much more news coverage: a relatively unknown artist may get a small article on page 15, while superstars may get entire TV shows devoted to hem. This in turn would result in much more prominent boosts for more popular artists"
   ]
  },
  {
   "cell_type": "code",
   "execution_count": 22,
   "metadata": {},
   "outputs": [
    {
     "data": {
      "image/png": "[encoded data removed]",
      "text/plain": [
       "<Figure size 432x288 with 1 Axes>"
      ]
     },
     "metadata": {
      "needs_background": "light"
     },
     "output_type": "display_data"
    }
   ],
   "source": [
    "ax = plot_with_trend(df_artist, 'PctVotesBeforeDeath', logy=True)"
   ]
  },
  {
   "cell_type": "markdown",
   "metadata": {},
   "source": [
    "This seems to be the case, but the effect between the _logarithm_  of the boost and the percentage of the votes is clearly non-linear, and the trendline is dominated by a few superstars. Let's look into the logarith of the percentage of votes"
   ]
  },
  {
   "cell_type": "code",
   "execution_count": 23,
   "metadata": {},
   "outputs": [
    {
     "data": {
      "text/plain": [
       "<matplotlib.axes._subplots.AxesSubplot at 0x1cd16e28940>"
      ]
     },
     "execution_count": 23,
     "metadata": {},
     "output_type": "execute_result"
    },
    {
     "data": {
      "image/png": "[encoded data removed]",
      "text/plain": [
       "<Figure size 432x288 with 1 Axes>"
      ]
     },
     "metadata": {
      "needs_background": "light"
     },
     "output_type": "display_data"
    }
   ],
   "source": [
    "plot_with_trend(df_artist, 'LogPopularity', logy=True)"
   ]
  },
  {
   "cell_type": "markdown",
   "metadata": {},
   "source": [
    "This looks much better: there is a strong, mostly linear relation between the logarith of the boost and the logarithm of the popularity."
   ]
  },
  {
   "cell_type": "markdown",
   "metadata": {},
   "source": [
    "### Nationality\n",
    "We hypothesize Dutch voters care more about Dutch artists, out of chauvinism. The effect is hard to detect, since only a small number of Dutch artists passed away"
   ]
  },
  {
   "cell_type": "code",
   "execution_count": 24,
   "metadata": {},
   "outputs": [
    {
     "name": "stdout",
     "output_type": "stream",
     "text": [
      "11 Dutch artists passed away\n"
     ]
    }
   ],
   "source": [
    "print(f'{df_artist[\"IsDutch\"].sum()} Dutch artists passed away')"
   ]
  },
  {
   "cell_type": "code",
   "execution_count": 25,
   "metadata": {},
   "outputs": [
    {
     "data": {
      "image/png": "[encoded data removed]",
      "text/plain": [
       "<Figure size 360x360 with 1 Axes>"
      ]
     },
     "metadata": {
      "needs_background": "light"
     },
     "output_type": "display_data"
    }
   ],
   "source": [
    "_ = sns.catplot(x='IsDutch', y='LogBoost', data=df_artist)"
   ]
  },
  {
   "cell_type": "markdown",
   "metadata": {},
   "source": [
    "### Artist age\n",
    "Newsworthiness of the death of an artist depends on the circumstances. Specifically, artists dying young is something that attracts a lot of media attention. This happens a lot in our sample:"
   ]
  },
  {
   "cell_type": "code",
   "execution_count": 26,
   "metadata": {},
   "outputs": [
    {
     "data": {
      "image/png": "[encoded data removed]",
      "text/plain": [
       "<Figure size 432x288 with 1 Axes>"
      ]
     },
     "metadata": {
      "needs_background": "light"
     },
     "output_type": "display_data"
    }
   ],
   "source": [
    "vis = (df_artist.groupby(df_artist['AgePassing'].lt(80)).size()\n",
    "      .rename('Passed Younger Than 80')\n",
    "      .pipe(micplot.visualize, plottype='waterfall')\n",
    "    )\n",
    "vis.ax.set_title('Artists generally pass younger than age 80')\n",
    "plt.show()"
   ]
  },
  {
   "cell_type": "code",
   "execution_count": 27,
   "metadata": {},
   "outputs": [
    {
     "data": {
      "image/png": "[encoded data removed]",
      "text/plain": [
       "<Figure size 432x288 with 1 Axes>"
      ]
     },
     "metadata": {
      "needs_background": "light"
     },
     "output_type": "display_data"
    }
   ],
   "source": [
    "ax = plot_with_trend(df_artist, 'AgePassing', logy=True)"
   ]
  },
  {
   "cell_type": "markdown",
   "metadata": {},
   "source": [
    "We do not see a strong _univariate_ effect, but this may be because of collinearity with other effects"
   ]
  },
  {
   "cell_type": "markdown",
   "metadata": {},
   "source": [
    "### Recency\n",
    "We hypothesize that the more top of mind a death is, the more of a boost an artist can expect - so more recent deaths during the time of voting should get a larger boost"
   ]
  },
  {
   "cell_type": "code",
   "execution_count": 28,
   "metadata": {},
   "outputs": [
    {
     "data": {
      "image/png": "[encoded data removed]",
      "text/plain": [
       "<Figure size 432x288 with 1 Axes>"
      ]
     },
     "metadata": {
      "needs_background": "light"
     },
     "output_type": "display_data"
    }
   ],
   "source": [
    "ax = plot_with_trend(df_artist.query('DaysToEndOfVoting > -365'), 'DaysToEndOfVoting', logy=True)"
   ]
  },
  {
   "cell_type": "markdown",
   "metadata": {},
   "source": [
    "Indeed, this is the case; however, it is not entirely clear if this is a linear relationship. Lets bucket the observations to see that clearer"
   ]
  },
  {
   "cell_type": "code",
   "execution_count": 29,
   "metadata": {},
   "outputs": [],
   "source": [
    "recency_buckets = (pd.cut(df_artist['DaysToEndOfVoting'].clip(lower=-365), 6, labels=False, retbins=False, right=False)\n",
    "                  .map({i: v for i, v in enumerate(range(-333, 0, 60))}))"
   ]
  },
  {
   "cell_type": "code",
   "execution_count": 30,
   "metadata": {},
   "outputs": [
    {
     "data": {
      "text/html": [
       "<div>\n",
       "<style scoped>\n",
       "    .dataframe tbody tr th:only-of-type {\n",
       "        vertical-align: middle;\n",
       "    }\n",
       "\n",
       "    .dataframe tbody tr th {\n",
       "        vertical-align: top;\n",
       "    }\n",
       "\n",
       "    .dataframe thead th {\n",
       "        text-align: right;\n",
       "    }\n",
       "</style>\n",
       "<table border=\"1\" class=\"dataframe\">\n",
       "  <thead>\n",
       "    <tr style=\"text-align: right;\">\n",
       "      <th></th>\n",
       "      <th>mean</th>\n",
       "      <th>sem</th>\n",
       "      <th>std</th>\n",
       "      <th>count</th>\n",
       "    </tr>\n",
       "    <tr>\n",
       "      <th>DaysToEndOfVoting</th>\n",
       "      <th></th>\n",
       "      <th></th>\n",
       "      <th></th>\n",
       "      <th></th>\n",
       "    </tr>\n",
       "  </thead>\n",
       "  <tbody>\n",
       "    <tr>\n",
       "      <th>-333</th>\n",
       "      <td>0.251792</td>\n",
       "      <td>0.095406</td>\n",
       "      <td>0.369506</td>\n",
       "      <td>15</td>\n",
       "    </tr>\n",
       "    <tr>\n",
       "      <th>-273</th>\n",
       "      <td>0.371306</td>\n",
       "      <td>0.162587</td>\n",
       "      <td>0.430165</td>\n",
       "      <td>7</td>\n",
       "    </tr>\n",
       "    <tr>\n",
       "      <th>-213</th>\n",
       "      <td>0.273213</td>\n",
       "      <td>0.123117</td>\n",
       "      <td>0.443904</td>\n",
       "      <td>13</td>\n",
       "    </tr>\n",
       "    <tr>\n",
       "      <th>-153</th>\n",
       "      <td>0.360391</td>\n",
       "      <td>0.149835</td>\n",
       "      <td>0.519044</td>\n",
       "      <td>12</td>\n",
       "    </tr>\n",
       "    <tr>\n",
       "      <th>-93</th>\n",
       "      <td>0.483057</td>\n",
       "      <td>0.150656</td>\n",
       "      <td>0.398597</td>\n",
       "      <td>7</td>\n",
       "    </tr>\n",
       "    <tr>\n",
       "      <th>-33</th>\n",
       "      <td>0.923017</td>\n",
       "      <td>0.226280</td>\n",
       "      <td>0.678839</td>\n",
       "      <td>9</td>\n",
       "    </tr>\n",
       "  </tbody>\n",
       "</table>\n",
       "</div>"
      ],
      "text/plain": [
       "                       mean       sem       std  count\n",
       "DaysToEndOfVoting                                     \n",
       "-333               0.251792  0.095406  0.369506     15\n",
       "-273               0.371306  0.162587  0.430165      7\n",
       "-213               0.273213  0.123117  0.443904     13\n",
       "-153               0.360391  0.149835  0.519044     12\n",
       "-93                0.483057  0.150656  0.398597      7\n",
       "-33                0.923017  0.226280  0.678839      9"
      ]
     },
     "execution_count": 30,
     "metadata": {},
     "output_type": "execute_result"
    }
   ],
   "source": [
    "df_artist.groupby(recency_buckets)['LogBoost'].agg(['mean', 'sem', 'std', 'count'])"
   ]
  },
  {
   "cell_type": "code",
   "execution_count": 31,
   "metadata": {},
   "outputs": [
    {
     "data": {
      "image/png": "[encoded data removed]",
      "text/plain": [
       "<Figure size 432x288 with 1 Axes>"
      ]
     },
     "metadata": {
      "needs_background": "light"
     },
     "output_type": "display_data"
    }
   ],
   "source": [
    "ax = df_artist.groupby(recency_buckets)['LogBoost'].agg(['mean', 'sem', 'std', 'count']).plot(y='mean', yerr='sem')\n",
    "ax.set_ylabel('Boost')\n",
    "plt.xlim(-365, 0)\n",
    "plt.show()"
   ]
  },
  {
   "cell_type": "markdown",
   "metadata": {},
   "source": [
    "There appears to be little difference out to ~ 150 days, and then the boost grows much stronger. We conclude we should allow for an exponential effect in the model."
   ]
  },
  {
   "cell_type": "markdown",
   "metadata": {},
   "source": [
    "### Correlations\n",
    "\n",
    "To get a feeling for whether multicollinearity may be influencing our results, we quickly look at the correlations between the artist properties. We find that, probably mostly by coincidence, in recent years artists in the Top 2000 have tended to pass away at later ages, which may partly explain why we do not see a strong age effect in a univariate distribution. Furthermore, we see that in recent years more popular artists have tended to pass away."
   ]
  },
  {
   "cell_type": "code",
   "execution_count": 32,
   "metadata": {},
   "outputs": [
    {
     "data": {
      "text/plain": [
       "<matplotlib.axes._subplots.AxesSubplot at 0x1cd1711dc70>"
      ]
     },
     "execution_count": 32,
     "metadata": {},
     "output_type": "execute_result"
    },
    {
     "data": {
      "image/png": "[encoded data removed]",
      "text/plain": [
       "<Figure size 432x432 with 1 Axes>"
      ]
     },
     "metadata": {
      "needs_background": "light"
     },
     "output_type": "display_data"
    }
   ],
   "source": [
    "def plot_correlations(df, figsize=(12, 12)):\n",
    "    fig, ax = plt.subplots(figsize=figsize)\n",
    "    ax = sns.heatmap(df.corr(), cmap='RdBu_r', vmin=-0.8, vmax=0.8, annot=True, fmt='.1%', ax=ax, cbar=False)\n",
    "    return ax\n",
    "\n",
    "plot_correlations(df_artist[['AgePassing', 'Top2000YearOfDeath', 'DaysToEndOfVoting', 'LogPopularity', 'IsDutch']], figsize=(6, 6))"
   ]
  },
  {
   "cell_type": "markdown",
   "metadata": {},
   "source": [
    "## Song"
   ]
  },
  {
   "cell_type": "markdown",
   "metadata": {},
   "source": [
    "### Popularity within artist oeuvre"
   ]
  },
  {
   "cell_type": "markdown",
   "metadata": {},
   "source": [
    "In the [literature](https://link.springer.com/article/10.1007/s11002-014-9322-1) there is some work that shows more popular albums get larger boosts."
   ]
  },
  {
   "cell_type": "code",
   "execution_count": 33,
   "metadata": {},
   "outputs": [
    {
     "data": {
      "image/png": "[encoded data removed]",
      "text/plain": [
       "<Figure size 432x288 with 1 Axes>"
      ]
     },
     "metadata": {
      "needs_background": "light"
     },
     "output_type": "display_data"
    }
   ],
   "source": [
    "ax = plot_with_trend(df_multiple_songs, 'PopularityWithinArtist', logy=True)"
   ]
  },
  {
   "cell_type": "markdown",
   "metadata": {},
   "source": [
    "Again, we are dominated by a few outliers"
   ]
  },
  {
   "cell_type": "code",
   "execution_count": 34,
   "metadata": {},
   "outputs": [
    {
     "data": {
      "image/png": "[encoded data removed]",
      "text/plain": [
       "<Figure size 432x288 with 1 Axes>"
      ]
     },
     "metadata": {
      "needs_background": "light"
     },
     "output_type": "display_data"
    }
   ],
   "source": [
    "ax = plot_with_trend(df_multiple_songs, 'LogSongPopularityWithinArtist', logy=True)"
   ]
  },
  {
   "cell_type": "markdown",
   "metadata": {},
   "source": [
    "So, it appears this is true in our case as well: more popular songs get larger boosts."
   ]
  },
  {
   "cell_type": "markdown",
   "metadata": {},
   "source": [
    "### Solo song\n",
    "We hypothesize that solo songs get more of a boost than duets"
   ]
  },
  {
   "cell_type": "code",
   "execution_count": 35,
   "metadata": {},
   "outputs": [
    {
     "data": {
      "text/html": [
       "<div>\n",
       "<style scoped>\n",
       "    .dataframe tbody tr th:only-of-type {\n",
       "        vertical-align: middle;\n",
       "    }\n",
       "\n",
       "    .dataframe tbody tr th {\n",
       "        vertical-align: top;\n",
       "    }\n",
       "\n",
       "    .dataframe thead th {\n",
       "        text-align: right;\n",
       "    }\n",
       "</style>\n",
       "<table border=\"1\" class=\"dataframe\">\n",
       "  <thead>\n",
       "    <tr style=\"text-align: right;\">\n",
       "      <th></th>\n",
       "      <th>mean</th>\n",
       "      <th>std</th>\n",
       "      <th>sem</th>\n",
       "      <th>count</th>\n",
       "    </tr>\n",
       "    <tr>\n",
       "      <th>NrArtists</th>\n",
       "      <th></th>\n",
       "      <th></th>\n",
       "      <th></th>\n",
       "      <th></th>\n",
       "    </tr>\n",
       "  </thead>\n",
       "  <tbody>\n",
       "    <tr>\n",
       "      <th>1</th>\n",
       "      <td>0.653842</td>\n",
       "      <td>0.606413</td>\n",
       "      <td>0.052583</td>\n",
       "      <td>133</td>\n",
       "    </tr>\n",
       "    <tr>\n",
       "      <th>2</th>\n",
       "      <td>0.587057</td>\n",
       "      <td>0.447788</td>\n",
       "      <td>0.105545</td>\n",
       "      <td>18</td>\n",
       "    </tr>\n",
       "    <tr>\n",
       "      <th>3</th>\n",
       "      <td>0.357387</td>\n",
       "      <td>0.689679</td>\n",
       "      <td>0.487677</td>\n",
       "      <td>2</td>\n",
       "    </tr>\n",
       "    <tr>\n",
       "      <th>5</th>\n",
       "      <td>0.174300</td>\n",
       "      <td>NaN</td>\n",
       "      <td>NaN</td>\n",
       "      <td>1</td>\n",
       "    </tr>\n",
       "  </tbody>\n",
       "</table>\n",
       "</div>"
      ],
      "text/plain": [
       "               mean       std       sem  count\n",
       "NrArtists                                     \n",
       "1          0.653842  0.606413  0.052583    133\n",
       "2          0.587057  0.447788  0.105545     18\n",
       "3          0.357387  0.689679  0.487677      2\n",
       "5          0.174300       NaN       NaN      1"
      ]
     },
     "execution_count": 35,
     "metadata": {},
     "output_type": "execute_result"
    }
   ],
   "source": [
    "df.groupby(['NrArtists'])['LogBoost'].agg(['mean', 'std', 'sem', 'count'])"
   ]
  },
  {
   "cell_type": "markdown",
   "metadata": {},
   "source": [
    "Let's group all non-solo songs together, since there are only 3 of those."
   ]
  },
  {
   "cell_type": "code",
   "execution_count": 36,
   "metadata": {},
   "outputs": [
    {
     "data": {
      "text/html": [
       "<div>\n",
       "<style scoped>\n",
       "    .dataframe tbody tr th:only-of-type {\n",
       "        vertical-align: middle;\n",
       "    }\n",
       "\n",
       "    .dataframe tbody tr th {\n",
       "        vertical-align: top;\n",
       "    }\n",
       "\n",
       "    .dataframe thead th {\n",
       "        text-align: right;\n",
       "    }\n",
       "</style>\n",
       "<table border=\"1\" class=\"dataframe\">\n",
       "  <thead>\n",
       "    <tr style=\"text-align: right;\">\n",
       "      <th></th>\n",
       "      <th>mean</th>\n",
       "      <th>std</th>\n",
       "      <th>sem</th>\n",
       "      <th>count</th>\n",
       "    </tr>\n",
       "    <tr>\n",
       "      <th>MultiplePerformers</th>\n",
       "      <th></th>\n",
       "      <th></th>\n",
       "      <th></th>\n",
       "      <th></th>\n",
       "    </tr>\n",
       "  </thead>\n",
       "  <tbody>\n",
       "    <tr>\n",
       "      <th>0</th>\n",
       "      <td>0.653842</td>\n",
       "      <td>0.606413</td>\n",
       "      <td>0.052583</td>\n",
       "      <td>133</td>\n",
       "    </tr>\n",
       "    <tr>\n",
       "      <th>1</th>\n",
       "      <td>0.545529</td>\n",
       "      <td>0.454095</td>\n",
       "      <td>0.099092</td>\n",
       "      <td>21</td>\n",
       "    </tr>\n",
       "  </tbody>\n",
       "</table>\n",
       "</div>"
      ],
      "text/plain": [
       "                        mean       std       sem  count\n",
       "MultiplePerformers                                     \n",
       "0                   0.653842  0.606413  0.052583    133\n",
       "1                   0.545529  0.454095  0.099092     21"
      ]
     },
     "metadata": {},
     "output_type": "display_data"
    },
    {
     "data": {
      "text/plain": [
       "<matplotlib.axes._subplots.AxesSubplot at 0x1cd172efb50>"
      ]
     },
     "execution_count": 36,
     "metadata": {},
     "output_type": "execute_result"
    },
    {
     "data": {
      "image/png": "[encoded data removed]",
      "text/plain": [
       "<Figure size 432x288 with 1 Axes>"
      ]
     },
     "metadata": {
      "needs_background": "light"
     },
     "output_type": "display_data"
    }
   ],
   "source": [
    "display(df.groupby(['MultiplePerformers'])['LogBoost'].agg(['mean', 'std', 'sem', 'count']))\n",
    "(df.groupby(['MultiplePerformers'])\n",
    " ['LogBoost'].agg(['mean', 'std', 'sem', 'count'])\n",
    " .plot(y='mean', yerr='sem',\n",
    "       xlim=(-0.5, 1.5), kind='bar')\n",
    ")"
   ]
  },
  {
   "cell_type": "markdown",
   "metadata": {},
   "source": [
    "There are not a lot of duets, but there is a hint they may indeed have a smaller boost"
   ]
  },
  {
   "cell_type": "markdown",
   "metadata": {},
   "source": [
    "# Conclusions\n",
    "* The data was scraped from Wikipedia, and then saved into parquet files according to a data model that makes it easy to recombine the data \n",
    "* It makes sense to look at the _logarithm_ of the boost, and we can explain it by hypotheses on three levels: the Base Level, the Artist level (which is the most important) and the Song level\n",
    "* Popularity-related measures should be transformed to a logarithm, while the recency component should be modeled as an exponential."
   ]
  }
 ],
 "metadata": {
  "kernelspec": {
   "display_name": "Top2000H",
   "language": "python",
   "name": "top2000h"
  },
  "language_info": {
   "codemirror_mode": {
    "name": "ipython",
    "version": 3
   },
   "file_extension": ".py",
   "mimetype": "text/x-python",
   "name": "python",
   "nbconvert_exporter": "python",
   "pygments_lexer": "ipython3",
   "version": "3.8.8"
  },
  "toc-autonumbering": true,
  "toc-showcode": false,
  "toc-showmarkdowntxt": false,
  "toc-showtags": true
 },
 "nbformat": 4,
 "nbformat_minor": 4
}
