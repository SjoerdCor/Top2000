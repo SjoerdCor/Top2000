{
 "cells": [
  {
   "cell_type": "code",
   "execution_count": null,
   "metadata": {},
   "outputs": [],
   "source": [
    "import voteestimator\n",
    "import matplotlib.pyplot as plt"
   ]
  },
  {
   "cell_type": "code",
   "execution_count": null,
   "metadata": {},
   "outputs": [],
   "source": [
    "meindertsmavotes = voteestimator.MeindertsmaVotesEstimator()\n",
    "exponentialvotes = voteestimator.ExponentialVotesEstimator()"
   ]
  },
  {
   "cell_type": "code",
   "execution_count": null,
   "metadata": {},
   "outputs": [],
   "source": [
    "positions = range(1, 2001)\n",
    "vote_estimators = {'Meindertsma': meindertsmavotes,\n",
    "                    'Exponential': exponentialvotes\n",
    "                  }\n",
    "for name, estimator in vote_estimators.items():\n",
    "    votes = [estimator.votes_per_position(i) for i in positions]\n",
    "    plt.semilogy(positions, votes, label=name)\n",
    "    plt.legend()"
   ]
  },
  {
   "cell_type": "code",
   "execution_count": null,
   "metadata": {},
   "outputs": [],
   "source": [
    "for name, estimator in vote_estimators.items():\n",
    "    votes = [estimator.percentage_of_votes(i) for i in positions]\n",
    "    plt.semilogy(positions, votes, label=name)\n",
    "    plt.legend()"
   ]
  },
  {
   "cell_type": "code",
   "execution_count": null,
   "metadata": {},
   "outputs": [],
   "source": [
    "print(f'The total number of votes in 2006 was 1.5 M votes. This is estimated as {round(meindertsmavotes.total_votes)} by the Meindertsma model')\n",
    "print(f'and as {round(exponentialvotes.total_votes)} by the Exponential model')"
   ]
  },
  {
   "cell_type": "code",
   "execution_count": null,
   "metadata": {},
   "outputs": [],
   "source": [
    "print(f'The number of votes at place 3000 is : {round(meindertsmavotes.votes_per_position(3000))} for the Meindertsma model and {round(exponentialvotes.votes_per_position(3000))} for the exponential model')"
   ]
  },
  {
   "cell_type": "markdown",
   "metadata": {},
   "source": [
    "Note that LogarithmicEstimator produces too small values for the total number of voted songs; but Meindertsma still estimates 100 votes for the least voted song, which is not perfect either."
   ]
  }
 ],
 "metadata": {
  "kernelspec": {
   "display_name": "Python 3",
   "language": "python",
   "name": "python3"
  },
  "language_info": {
   "codemirror_mode": {
    "name": "ipython",
    "version": 3
   },
   "file_extension": ".py",
   "mimetype": "text/x-python",
   "name": "python",
   "nbconvert_exporter": "python",
   "pygments_lexer": "ipython3",
   "version": "3.7.6"
  }
 },
 "nbformat": 4,
 "nbformat_minor": 4
}
