{
 "cells": [
  {
   "cell_type": "code",
   "execution_count": null,
   "metadata": {},
   "outputs": [],
   "source": [
    "import os \n",
    "import pandas as pd\n",
    "import matplotlib.pyplot as plt\n",
    "from matplotlib.ticker import MaxNLocator\n",
    "import seaborn as sns\n",
    "from sklearn.linear_model import LinearRegression\n",
    "\n",
    "import voteestimator\n",
    "import numpy as np"
   ]
  },
  {
   "cell_type": "markdown",
   "metadata": {},
   "source": [
    "## Read"
   ]
  },
  {
   "cell_type": "code",
   "execution_count": null,
   "metadata": {},
   "outputs": [],
   "source": [
    "class AnalysisSetCreator:\n",
    "    \n",
    "    def __init__(self, votesmodel='Meindertsma'):\n",
    "\n",
    "        votesmodels = {'Meindertsma': voteestimator.MeindertsmaVotesEstimator(),\n",
    "                      'Exponential': voteestimator.ExponentialVotesEstimator()\n",
    "                      }\n",
    "        self.votesmodel = votesmodels[votesmodel]\n",
    "    \n",
    "    def _combine_data(self, filefolder):\n",
    "        self.notering = pd.read_parquet(os.path.join(filefolder, 'notering.parquet'))\n",
    "        self.song = pd.read_parquet(os.path.join(filefolder, 'song.parquet'))\n",
    "        self.songartist = pd.read_parquet(os.path.join(filefolder, 'songartist.parquet'))\n",
    "        self.artist = (pd.read_parquet(os.path.join(filefolder, 'artist.parquet')) # TODO: This should not happen here\n",
    "                          .pipe(self._artist_features)\n",
    "                        )\n",
    "        \n",
    "        df = (self.notering.merge(self.song, left_on='SongID', right_index=True)\n",
    "                           .merge(self.songartist.reset_index())\n",
    "                           .merge(self.artist, left_on='ArtistID', right_index=True, suffixes=('Song', 'Artist'))\n",
    "             )\n",
    "        return df\n",
    "    \n",
    "    def _read_stemperiodes(self, path=os.path.join('Data', 'EindeStemperiode.xlsx')):\n",
    "        einde_stemperiode = (pd.read_excel(path, engine='openpyxl')\n",
    "                               .dropna(subset=['EindeStemperiode'])\n",
    "                               .drop(columns=['Bron'])\n",
    "                               .sort_values('EindeStemperiode')\n",
    "                            )\n",
    "        return einde_stemperiode\n",
    "    \n",
    "\n",
    "    def _check_passed_away_during_top2000(self, df, top2000_stemperiodes):\n",
    "        first_stemperiode = top2000_stemperiodes['EindeStemperiode'].min()\n",
    "        relevant_date_of_death = first_stemperiode + pd.Timedelta('365 days')\n",
    "        df['IsOverleden'] = df['Overlijdensdatum'].ge(relevant_date_of_death)\n",
    "        return df\n",
    "    \n",
    "    def _find_next_top2000_after_death(self, df, top2000_stemperiodes):\n",
    "        not_passed_away_during_top_2000 = df[~df['IsOverleden']].copy()\n",
    "        passed_away_during_top2000 = (df.loc[df['IsOverleden']]\n",
    "                                      .sort_values('Overlijdensdatum')\n",
    "                                      .reset_index()\n",
    "                                     )\n",
    "\n",
    "        passed_away_during_top2000 = (pd.merge_asof(passed_away_during_top2000, top2000_stemperiodes,\n",
    "                                                   left_on='Overlijdensdatum', right_on='EindeStemperiode', direction='forward')\n",
    "                                     .set_index('ArtistID')\n",
    "                                     )\n",
    "        df = pd.concat([not_passed_away_during_top_2000, passed_away_during_top2000], sort=False)\n",
    "        return df\n",
    "\n",
    "\n",
    "    def _artist_features(self, df):\n",
    "        einde_stemperiode = self._read_stemperiodes()\n",
    "        df = (df                                          \n",
    "                .pipe(self._check_passed_away_during_top2000, einde_stemperiode)\n",
    "                .pipe(self._find_next_top2000_after_death, einde_stemperiode)\n",
    "                .assign(AgePassing = lambda df: df['Overlijdensdatum'].sub(df['Geboortedatum']).dt.days / 365.25,)\n",
    "             )\n",
    "        return df\n",
    "    \n",
    "    def _rank_features(self, df):\n",
    "        return df.assign(PctVotes = lambda df: df['Rank'].apply(self.votesmodel.percentage_of_votes))\n",
    "    \n",
    "    \n",
    "    def _normalize_by_years_before_death(self, df, years_to_normalize=2):\n",
    "        fill_value = 0.5*self.votesmodel.percentage_of_votes(2000)\n",
    "        votes_before_death = (df.query('IsOverleden')\n",
    "                                .pivot_table('PctVotes', index=['SongID', 'ArtistID'], columns=['YearsSinceOverlijden'],\n",
    "                                             fill_value=fill_value)\n",
    "                                .loc[:, range(-years_to_normalize, 0)]\n",
    "                                .mean(axis='columns')\n",
    "                                .rename('PctVotesBeforeDeath')\n",
    "                                .reset_index()\n",
    "                                .fillna(fill_value)\n",
    "                             )\n",
    "        df = df.merge(votes_before_death, how='left')\n",
    "        return df\n",
    "\n",
    "    \n",
    "    def _song_features(self, df):\n",
    "        \n",
    "        df = (df.assign(NrArtists = lambda df: df.groupby(['SongID', 'Year'])['Rank'].transform('count'),\n",
    "                        YearsSinceOverlijden = lambda df: df['Year'].sub(df['JaarTop2000']),\n",
    "                       )\n",
    "                .pipe(self._normalize_by_years_before_death)\n",
    "             )\n",
    "        return df\n",
    "    \n",
    "    def _song_features_after_passing(self, df):\n",
    "        df = (df.assign(NrsBeforeDeath = lambda df: df.groupby('ArtistID')['ArtistID'].transform('count'),\n",
    "                        PopularityWithinArtist = lambda df: df.groupby('ArtistID')['PctVotesBeforeDeath'].apply(lambda v: v.div(v.mean())),\n",
    "                        LogSongPopularityWithinArtist = lambda df: np.log10(df['PopularityWithinArtist']),\n",
    "                        RecencyWithinArtist = lambda df: df.groupby('ArtistID')['YearMade'].apply(lambda v: v.sub(v.min()).div(v.max() - v.min())),\n",
    "                        YearsBeforeDeath = lambda df: df['YearMade'].sub(df['JaarTop2000']),\n",
    "                        Boost = lambda df: df['PctVotes'].div(df['PctVotesBeforeDeath']),\n",
    "                        MultiplePerformers = lambda df: df['NrArtists'].gt(1).astype(int),\n",
    "                        JarenGeleden = lambda df: df['JaarTop2000'].sub(df['JaarTop2000'].max()),\n",
    "                        )\n",
    "             )\n",
    "        return df\n",
    "    \n",
    "    def create_analysis_set(self, filefolder):\n",
    "        df = (self._combine_data(filefolder)\n",
    "                  .pipe(self._rank_features)\n",
    "                  .pipe(self._song_features)\n",
    "                  .query('YearsSinceOverlijden == 0')\n",
    "                  .query(f'PctVotesBeforeDeath > {0.5 * self.votesmodel.percentage_of_votes(2000)}')\n",
    "                  .pipe(self._song_features_after_passing)\n",
    "             )\n",
    "        return df\n",
    "    \n",
    "    def create_artist_set(self, filefolder):\n",
    "        df = self.create_analysis_set(filefolder)\n",
    "        df_artist = (df.groupby('ArtistID')\n",
    "                        .agg({'PctVotes': 'sum',\n",
    "                              'PctVotesBeforeDeath': 'sum',\n",
    "                               'YearMade': 'last'\n",
    "                            }\n",
    "                            )\n",
    "                        .join(self.artist[['Name', 'IsDutch', 'AgePassing', 'JaarTop2000', 'Overlijdensdatum', 'EindeStemperiode']])\n",
    "                        .assign(DaysToStemperiode = lambda df: df['Overlijdensdatum'].sub(df['EindeStemperiode']).dt.days,\n",
    "                                YearsSinceLastHit = lambda df: df['JaarTop2000'].sub(df['YearMade']),\n",
    "                                LogPopularity = lambda df: np.log10(df['PctVotesBeforeDeath']),\n",
    "                                Boost = lambda df: df['PctVotes'].div(df['PctVotesBeforeDeath']),\n",
    "                                LogBoost = lambda df: np.log(df['Boost']),\n",
    "                                )\n",
    "                    )\n",
    "        return df_artist\n",
    "    \n",
    "    def create_full_feature_set(self, filefolder):\n",
    "        df = self.create_analysis_set(filefolder)\n",
    "        df_artist = self.create_artist_set(filefolder)#.pipe(self._artist_features)\n",
    "        full_set = (df.merge(df_artist, left_on='ArtistID', right_index=True, suffixes=('Song', 'Artist'))\n",
    "                      .assign(\n",
    "                              SongRelativeBoost = lambda df: df['BoostSong'].div(df['BoostArtist']),\n",
    "                              LogRelativeBoost = lambda df: np.log2(df['SongRelativeBoost']),\n",
    "                              LogBoost = lambda df: np.log(df['BoostSong']),\n",
    "                             )\n",
    "           )\n",
    "        return full_set\n",
    "\n",
    "a = AnalysisSetCreator()\n",
    "df_song = a.create_analysis_set('Data')\n",
    "df_artist = a.create_artist_set('Data')\n",
    "df = a.create_full_feature_set('Data')"
   ]
  },
  {
   "cell_type": "markdown",
   "metadata": {},
   "source": [
    "## Create analysis set"
   ]
  },
  {
   "cell_type": "markdown",
   "metadata": {},
   "source": [
    "## Univariate analysis\n",
    "* Newsworthyness of artist passing\n",
    "  * Age when passing away\n",
    "  * Dutch nationality\n",
    "  * Popularity\n",
    "  * Year\n",
    "  * Recency of hits\n",
    "* Days to stemperiode\n",
    "\n",
    "* Song\n",
    "  * Popularity within artist\n",
    "  * Recency of song within artist\n",
    "  \n",
    "### Newsworthyness\n",
    "\n",
    "#### Artist age"
   ]
  },
  {
   "cell_type": "code",
   "execution_count": null,
   "metadata": {},
   "outputs": [],
   "source": [
    "def plot_with_trend(df, column, logy=False):\n",
    "    ycolname = 'LogBoost' if logy else 'Boost'\n",
    "    preds = LinearRegression().fit(df[[column]], df[ycolname]).predict(df[[column]])\n",
    "    ax = df.plot(x=column, y=ycolname, kind='scatter')\n",
    "    ax.plot(df[column], preds, 'k--')\n",
    "    return ax"
   ]
  },
  {
   "cell_type": "code",
   "execution_count": null,
   "metadata": {},
   "outputs": [],
   "source": [
    "ax = plot_with_trend(df_artist, 'AgePassing', logy=True)"
   ]
  },
  {
   "cell_type": "markdown",
   "metadata": {},
   "source": [
    "#### Jaar"
   ]
  },
  {
   "cell_type": "code",
   "execution_count": null,
   "metadata": {},
   "outputs": [],
   "source": [
    "ax = plot_with_trend(df_artist, 'JaarTop2000', logy=True)\n",
    "ax.xaxis.set_major_locator(MaxNLocator(integer=True))"
   ]
  },
  {
   "cell_type": "markdown",
   "metadata": {},
   "source": [
    "#### Nationality"
   ]
  },
  {
   "cell_type": "code",
   "execution_count": null,
   "metadata": {},
   "outputs": [],
   "source": [
    "_ = sns.catplot(x='IsDutch', y='LogBoost', data=df_artist)"
   ]
  },
  {
   "cell_type": "markdown",
   "metadata": {},
   "source": [
    "#### Popularity"
   ]
  },
  {
   "cell_type": "code",
   "execution_count": null,
   "metadata": {},
   "outputs": [],
   "source": [
    "ax = plot_with_trend(df_artist, 'PctVotes', logy=True)"
   ]
  },
  {
   "cell_type": "code",
   "execution_count": null,
   "metadata": {},
   "outputs": [],
   "source": [
    "plot_with_trend(df_artist, 'LogPopularity', logy=True)"
   ]
  },
  {
   "cell_type": "code",
   "execution_count": null,
   "metadata": {},
   "outputs": [],
   "source": [
    "plot_with_trend(df_artist.query('PctVotesBeforeDeath > 0.00006'), 'LogPopularity', logy=True)"
   ]
  },
  {
   "cell_type": "markdown",
   "metadata": {},
   "source": [
    "#### Recency"
   ]
  },
  {
   "cell_type": "code",
   "execution_count": null,
   "metadata": {},
   "outputs": [],
   "source": [
    "def recency_effect(x, exponent=1.1, max_effect=2):\n",
    "    return exponent ** x * max_effect \n",
    "ax = plot_with_trend(df_artist.query('DaysToStemperiode > -365'), 'DaysToStemperiode', logy=True)\n",
    "x = df_artist['DaysToStemperiode'].clip(lower=-365).sort_values().values\n",
    "# ax.plot(x, recency_effect(x, 1.02, 1))\n",
    "ax.plot(x, recency_effect(x, 1.07, 1) + 0.4, 'k--')"
   ]
  },
  {
   "cell_type": "code",
   "execution_count": null,
   "metadata": {},
   "outputs": [],
   "source": [
    "recency_buckets = pd.cut(df_artist['DaysToStemperiode'].clip(lower=-365), 6, labels=False, retbins=False, right=False)"
   ]
  },
  {
   "cell_type": "code",
   "execution_count": null,
   "metadata": {},
   "outputs": [],
   "source": [
    "recency_buckets = recency_buckets.map({i: v for i, v in enumerate(range(-333, 0, 60))})"
   ]
  },
  {
   "cell_type": "code",
   "execution_count": null,
   "metadata": {},
   "outputs": [],
   "source": [
    "recency_buckets"
   ]
  },
  {
   "cell_type": "code",
   "execution_count": null,
   "metadata": {},
   "outputs": [],
   "source": [
    "df_artist.groupby(recency_buckets)['LogBoost'].agg(['mean', 'sem', 'std', 'count'])"
   ]
  },
  {
   "cell_type": "code",
   "execution_count": null,
   "metadata": {},
   "outputs": [],
   "source": [
    "ax = df_artist.groupby(recency_buckets)['LogBoost'].agg(['mean', 'sem', 'std', 'count']).plot(y='mean', yerr='sem')\n",
    "plt.plot(x, recency_effect(x, 1.07, 1)+ 0.4, 'k--')\n",
    "plt.xlim(-365, 0)\n",
    "plt.show()"
   ]
  },
  {
   "cell_type": "markdown",
   "metadata": {},
   "source": [
    "### Recency of last hit"
   ]
  },
  {
   "cell_type": "code",
   "execution_count": null,
   "metadata": {},
   "outputs": [],
   "source": [
    "ax = plot_with_trend(df_artist, 'YearsSinceLastHit', logy=True)"
   ]
  },
  {
   "cell_type": "markdown",
   "metadata": {},
   "source": [
    "### Song"
   ]
  },
  {
   "cell_type": "markdown",
   "metadata": {},
   "source": [
    "### Solo song"
   ]
  },
  {
   "cell_type": "code",
   "execution_count": null,
   "metadata": {},
   "outputs": [],
   "source": [
    "df.groupby(['NrArtists'])['LogBoost'].agg(['mean', 'std', 'sem', 'count'])"
   ]
  },
  {
   "cell_type": "code",
   "execution_count": null,
   "metadata": {},
   "outputs": [],
   "source": [
    "df.groupby(['MultiplePerformers'])['LogBoost'].agg(['mean', 'std', 'sem', 'count'])"
   ]
  },
  {
   "cell_type": "markdown",
   "metadata": {},
   "source": [
    "### Popularity within artist oeuvre"
   ]
  },
  {
   "cell_type": "code",
   "execution_count": null,
   "metadata": {},
   "outputs": [],
   "source": [
    "ax = plot_with_trend(df, 'PopularityWithinArtist', logy=True)"
   ]
  },
  {
   "cell_type": "code",
   "execution_count": null,
   "metadata": {},
   "outputs": [],
   "source": [
    "ax = plot_with_trend(df, 'LogSongPopularityWithinArtist', logy=True)"
   ]
  },
  {
   "cell_type": "code",
   "execution_count": null,
   "metadata": {},
   "outputs": [],
   "source": [
    "\n",
    "df.query('NrsBeforeDeath > 2')"
   ]
  },
  {
   "cell_type": "markdown",
   "metadata": {},
   "source": [
    "### Recency within artist"
   ]
  },
  {
   "cell_type": "code",
   "execution_count": null,
   "metadata": {},
   "outputs": [],
   "source": [
    "ax = plot_with_trend(df.query('NrsBeforeDeath > 2'), 'RecencyWithinArtist', logy=True)"
   ]
  },
  {
   "cell_type": "markdown",
   "metadata": {},
   "source": [
    "## Multivariate"
   ]
  },
  {
   "cell_type": "code",
   "execution_count": null,
   "metadata": {},
   "outputs": [],
   "source": [
    "import pymc3 as pm\n",
    "import arviz as az"
   ]
  },
  {
   "cell_type": "code",
   "execution_count": null,
   "metadata": {},
   "outputs": [],
   "source": [
    "passed_away_artists = df['ArtistID'].unique()\n",
    "artist_lookup = dict(zip(passed_away_artists, range(len(passed_away_artists))))"
   ]
  },
  {
   "cell_type": "code",
   "execution_count": null,
   "metadata": {},
   "outputs": [],
   "source": [
    "artist_vals = df['ArtistID'].replace(artist_lookup).values"
   ]
  },
  {
   "cell_type": "code",
   "execution_count": null,
   "metadata": {},
   "outputs": [],
   "source": [
    "artist_model = (df.assign(ArtistIDModel = lambda df: df['ArtistID'].map(artist_lookup))\n",
    "                .sort_values('ArtistIDModel')\n",
    "                .drop_duplicates(['ArtistIDModel'])\n",
    "               )"
   ]
  },
  {
   "cell_type": "code",
   "execution_count": null,
   "metadata": {},
   "outputs": [],
   "source": [
    "coords = {\"obs_id\": np.arange(df.shape[0]), 'Artist': passed_away_artists}\n",
    "with pm.Model(coords=coords) as multilevel_model:\n",
    "    artist_idx = pm.Data(\"artist_idx\", artist_vals, dims=\"obs_id\")\n",
    "    jaren_geleden = pm.Data(\"jaren_geleden\", artist_model['JarenGeleden'], dims='Artist')\n",
    "    logpopularity = pm.Data('logpopularity', artist_model['LogPopularity'].add(artist_model['LogPopularity'].median()), dims='Artist')\n",
    "    days_to_stemperiode = pm.Data('days_to_stemperiode', artist_model['DaysToStemperiode'].clip(lower=-365), dims='Artist')\n",
    "    \n",
    "    multiple_performers = pm.Data('multiple_performers', df['MultiplePerformers'], dims=\"obs_id\")\n",
    "    popularity_within_oeuvre = pm.Data('popularity_within_oeuvre', df['LogSongPopularityWithinArtist'], dims=\"obs_id\")\n",
    "    \n",
    "    # Hyperpriors:\n",
    "    a = pm.Normal(\"a\", mu=0, sigma=10.0)\n",
    "    sigma_a = pm.Exponential(\"sigma_a\", 1.0)\n",
    "    recency_effect_exponent = 1 + pm.Exponential('recency_effect_exponent', 5)\n",
    "    max_recency_effect = pm.Exponential('max_recency_effect', 1)\n",
    "\n",
    "    effect_popularity = pm.Normal('effect_popularity', mu=0, sigma=10)\n",
    "    history_effect = pm.Normal('history_effect', mu=0, sigma=10)\n",
    "    \n",
    "    mu_artist = (a\n",
    "                 + effect_popularity * logpopularity\n",
    "                 + recency_effect_exponent ** days_to_stemperiode * max_recency_effect\n",
    "                 + jaren_geleden * history_effect)\n",
    "    \n",
    "    a_artist = pm.Normal(\"a_artist\", mu=mu_artist, sigma=sigma_a, dims=\"Artist\")\n",
    "\n",
    "    # Expected value per artist:\n",
    "    sharing_effect = pm.Normal('sharing_effect', mu=0, sigma=10.0)\n",
    "    within_oeuvre_effect = pm.Normal('within_oeuvre_effect', mu=0, sigma=10.0)\n",
    "    theta = (a_artist[artist_idx]\n",
    "             + multiple_performers * sharing_effect\n",
    "             + within_oeuvre_effect * popularity_within_oeuvre\n",
    "            )\n",
    "    # Model error:\n",
    "    sigma = pm.Exponential(\"sigma\", 1.0)\n",
    "\n",
    "    y = pm.Normal(\"y\", theta, sigma=sigma, observed=df['LogBoost'], dims=\"obs_id\")\n",
    "pm.model_to_graphviz(multilevel_model)"
   ]
  },
  {
   "cell_type": "code",
   "execution_count": null,
   "metadata": {},
   "outputs": [],
   "source": [
    "RANDOM_SEED = 123\n",
    "with multilevel_model:\n",
    "    multilevel_model_idata = pm.sample(5000, tune=2000, return_inferencedata=True, random_seed=RANDOM_SEED, target_accept=0.95)\n"
   ]
  },
  {
   "cell_type": "code",
   "execution_count": null,
   "metadata": {},
   "outputs": [],
   "source": [
    "var_names = [\"a\", #\"sigma_a\", \"sigma\",\n",
    "             'effect_popularity',\n",
    "             'max_recency_effect',\n",
    "             'recency_effect_exponent',\n",
    "             'history_effect',\n",
    "             'sharing_effect',\n",
    "             'within_oeuvre_effect'\n",
    "            ]"
   ]
  },
  {
   "cell_type": "code",
   "execution_count": null,
   "metadata": {},
   "outputs": [],
   "source": [
    "az.summary(multilevel_model_idata, var_names=var_names + ['sigma_a', 'sigma'], round_to=2)"
   ]
  },
  {
   "cell_type": "code",
   "execution_count": null,
   "metadata": {},
   "outputs": [],
   "source": [
    "_ = pm.pairplot(multilevel_model_idata, var_names=var_names, marginals=True)"
   ]
  },
  {
   "cell_type": "code",
   "execution_count": null,
   "metadata": {},
   "outputs": [],
   "source": [
    "_ = az.plot_trace(multilevel_model_idata, compact=True)"
   ]
  },
  {
   "cell_type": "code",
   "execution_count": null,
   "metadata": {},
   "outputs": [],
   "source": [
    "with multilevel_model:\n",
    "    ppc = pm.sample_posterior_predictive(\n",
    "        multilevel_model_idata, random_seed=RANDOM_SEED, var_names=var_names+['y']\n",
    "    )\n"
   ]
  },
  {
   "cell_type": "code",
   "execution_count": null,
   "metadata": {},
   "outputs": [],
   "source": [
    "parameters = pd.DataFrame({k: v for k, v in ppc.items() if k != 'y'})"
   ]
  },
  {
   "cell_type": "code",
   "execution_count": null,
   "metadata": {},
   "outputs": [],
   "source": [
    "parameters.corr()"
   ]
  },
  {
   "cell_type": "code",
   "execution_count": null,
   "metadata": {},
   "outputs": [],
   "source": [
    "outcomes = {}\n",
    "days = np.arange(-365, 0)\n",
    "for i, row in parameters.iterrows():\n",
    "\n",
    "    recencyeffect = (1 + row['recency_effect_exponent'])  ** days * row['max_recency_effect']\n",
    "    outcomes[i] = recencyeffect"
   ]
  },
  {
   "cell_type": "code",
   "execution_count": null,
   "metadata": {},
   "outputs": [],
   "source": [
    "df_recencyeffect = pd.DataFrame(outcomes, index=np.arange(-365, 0))"
   ]
  },
  {
   "cell_type": "code",
   "execution_count": null,
   "metadata": {},
   "outputs": [],
   "source": [
    "%%time\n",
    "ax = df_recencyeffect.iloc[:, :2500].plot(c='grey', alpha=0.01, legend=False)\n",
    "ax = df_recencyeffect.median(axis='columns').plot(ax=ax, lw=2)\n",
    "plt.show()"
   ]
  },
  {
   "cell_type": "code",
   "execution_count": null,
   "metadata": {},
   "outputs": [],
   "source": [
    "df_recencyeffect.transpose().quantile([0.025, 0.16, 0.5, 0.84, 0.975]).transpose().tail()#plot()"
   ]
  },
  {
   "cell_type": "code",
   "execution_count": null,
   "metadata": {},
   "outputs": [],
   "source": [
    "predictions = pd.DataFrame(ppc['y'].T, index=df.index)"
   ]
  },
  {
   "cell_type": "code",
   "execution_count": null,
   "metadata": {},
   "outputs": [],
   "source": [
    "df['LogBoost']"
   ]
  },
  {
   "cell_type": "code",
   "execution_count": null,
   "metadata": {},
   "outputs": [],
   "source": [
    "trala = pd.concat([predictions.quantile([0.16, 0.5, 0.84], axis='columns').transpose(), df['LogBoost']], axis='columns')"
   ]
  },
  {
   "cell_type": "code",
   "execution_count": null,
   "metadata": {},
   "outputs": [],
   "source": [
    "trala"
   ]
  },
  {
   "cell_type": "code",
   "execution_count": null,
   "metadata": {},
   "outputs": [],
   "source": [
    "plt.errorbar(trala[0.5], trala['LogBoost'], yerr=[trala[0.5].sub(trala[0.16]), trala[0.84].sub(trala[0.5])], ls=' ', marker='o', alpha=0.2, ms=4)\n",
    "plt.plot([0, 2], [0, 2], 'k--')\n"
   ]
  },
  {
   "cell_type": "code",
   "execution_count": null,
   "metadata": {},
   "outputs": [],
   "source": [
    "predictions.std(axis='columns').describe()"
   ]
  },
  {
   "cell_type": "code",
   "execution_count": null,
   "metadata": {},
   "outputs": [],
   "source": [
    "posterior = df.assign(yhat = predictions.mean(axis='columns'),\n",
    "                      yhat_rescaled = lambda df: -0.14 + 1.16 * df['yhat'],\n",
    "                     error = lambda df: df['yhat'].sub(df['LogBoost']),\n",
    "                     abserror = lambda df: df['error'].abs(),\n",
    "                      error_rescaled = lambda df: df['yhat_rescaled'].sub(df['LogBoost']),\n",
    "                    abserror_rescaled = lambda df: df['error_rescaled'].abs(),\n",
    "                     )"
   ]
  },
  {
   "cell_type": "code",
   "execution_count": null,
   "metadata": {},
   "outputs": [],
   "source": [
    "posterior['abserror'].mean()"
   ]
  },
  {
   "cell_type": "code",
   "execution_count": null,
   "metadata": {},
   "outputs": [],
   "source": [
    "posterior.nlargest(10, 'abserror')"
   ]
  },
  {
   "cell_type": "code",
   "execution_count": null,
   "metadata": {},
   "outputs": [],
   "source": [
    "posterior[['abserror', 'abserror_rescaled']].describe()"
   ]
  },
  {
   "cell_type": "code",
   "execution_count": null,
   "metadata": {},
   "outputs": [],
   "source": [
    "posterior['error_rescaled'].hist(bins=25)"
   ]
  },
  {
   "cell_type": "code",
   "execution_count": null,
   "metadata": {},
   "outputs": [],
   "source": [
    "posterior[['error'].hist(bins=25)"
   ]
  },
  {
   "cell_type": "code",
   "execution_count": null,
   "metadata": {},
   "outputs": [],
   "source": [
    "posterior.nlargest(10, 'error')#sort_values('LogBoost', ascending=False)"
   ]
  },
  {
   "cell_type": "code",
   "execution_count": null,
   "metadata": {},
   "outputs": [],
   "source": [
    "%matplotlib inline\n",
    "ax = pd.concat([df['LogBoost'], predictions.mean(axis='columns').rename('yhat')], axis='columns').plot(y='LogBoost', x='yhat', kind='scatter')\n",
    "ax.plot([0, 3], [0, 3], 'k--')"
   ]
  },
  {
   "cell_type": "code",
   "execution_count": null,
   "metadata": {},
   "outputs": [],
   "source": [
    "posterior['abserror'].mean()"
   ]
  },
  {
   "cell_type": "code",
   "execution_count": null,
   "metadata": {},
   "outputs": [],
   "source": [
    "posterior[['LogBoost', 'yhat']].corr()"
   ]
  },
  {
   "cell_type": "code",
   "execution_count": null,
   "metadata": {},
   "outputs": [],
   "source": [
    "ppc['y'].mean(axis=0)"
   ]
  },
  {
   "cell_type": "code",
   "execution_count": null,
   "metadata": {},
   "outputs": [],
   "source": [
    "az.from_pymc3(posterior_predictive=ppc, model=multilevel_model)"
   ]
  },
  {
   "cell_type": "code",
   "execution_count": null,
   "metadata": {},
   "outputs": [],
   "source": [
    "az.plot_ppc(az.from_pymc3(posterior_predictive=ppc, model=multilevel_model));"
   ]
  }
 ],
 "metadata": {
  "kernelspec": {
   "display_name": "Python 3",
   "language": "python",
   "name": "python3"
  },
  "language_info": {
   "codemirror_mode": {
    "name": "ipython",
    "version": 3
   },
   "file_extension": ".py",
   "mimetype": "text/x-python",
   "name": "python",
   "nbconvert_exporter": "python",
   "pygments_lexer": "ipython3",
   "version": "3.7.6"
  }
 },
 "nbformat": 4,
 "nbformat_minor": 4
}
