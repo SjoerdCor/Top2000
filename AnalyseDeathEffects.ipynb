{
 "cells": [
  {
   "cell_type": "code",
   "execution_count": null,
   "metadata": {},
   "outputs": [],
   "source": [
    "import os \n",
    "import pandas as pd\n",
    "import voteestimator"
   ]
  },
  {
   "cell_type": "markdown",
   "metadata": {},
   "source": [
    "## Read"
   ]
  },
  {
   "cell_type": "code",
   "execution_count": null,
   "metadata": {},
   "outputs": [],
   "source": [
    "einde_stemperiode = (pd.read_excel('Data\\EindeStemperiode.xlsx', engine='openpyxl')\n",
    "                     .dropna(subset=['EindeStemperiode'])\n",
    "                     .sort_values('EindeStemperiode')\n",
    "                    )"
   ]
  },
  {
   "cell_type": "code",
   "execution_count": null,
   "metadata": {},
   "outputs": [],
   "source": [
    "notering = pd.read_parquet(os.path.join('Data', 'notering.parquet'))\n",
    "song = pd.read_parquet(os.path.join('Data', 'song.parquet'))\n",
    "songartist = pd.read_parquet(os.path.join('Data', 'songartist.parquet'))\n",
    "artist = pd.read_parquet(os.path.join('Data', 'artist.parquet'))"
   ]
  },
  {
   "cell_type": "markdown",
   "metadata": {},
   "source": [
    "## Estimate votes per ranking"
   ]
  },
  {
   "cell_type": "code",
   "execution_count": null,
   "metadata": {},
   "outputs": [],
   "source": [
    "m = voteestimator.MeindertsmaVotesEstimator()"
   ]
  },
  {
   "cell_type": "code",
   "execution_count": null,
   "metadata": {},
   "outputs": [],
   "source": [
    "notering = notering.assign(PctVotes = lambda df: df['Rank'].apply(m.percentage_of_votes))"
   ]
  },
  {
   "cell_type": "markdown",
   "metadata": {},
   "source": [
    "## Create analysis set"
   ]
  },
  {
   "cell_type": "code",
   "execution_count": null,
   "metadata": {},
   "outputs": [],
   "source": [
    "def select_songs_by_one_artist(df):\n",
    "    nr_artists = df['SongID'].map(songartist.groupby('SongID').size())\n",
    "    df = df.loc[nr_artists.eq(1)]\n",
    "    return df"
   ]
  },
  {
   "cell_type": "code",
   "execution_count": null,
   "metadata": {},
   "outputs": [],
   "source": [
    "def find_next_top2000_after_death(df, top2000_stemperiodes, column='Overleden'):\n",
    "    first_stemperiode = top2000_stemperiodes['EindeStemperiode'].min()\n",
    "    relevant_date_of_death = first_stemperiode - pd.Timedelta('365 days')\n",
    "    \n",
    "    not_passed_away_during_top_2000 = df[df[column].isnull() | df[column].lt(relevant_date_of_death)].copy()\n",
    "    passed_away_during_top2000 = df[df[column].ge(relevant_date_of_death)].sort_values(column).copy()\n",
    "    \n",
    "    passed_away_during_top2000 = pd.merge_asof(passed_away_during_top2000, einde_stemperiode, left_on=column, right_on='EindeStemperiode', direction='forward')\n",
    "    df = pd.concat([not_passed_away_during_top_2000, passed_away_during_top2000], sort=False)\n",
    "    return df\n",
    "    "
   ]
  },
  {
   "cell_type": "code",
   "execution_count": null,
   "metadata": {},
   "outputs": [],
   "source": [
    "columns_possible_country_of_birth = ['Oorsprong',\n",
    "                                     'Land',\n",
    "                                     'Land van oorsprong',\n",
    "                                     'Geboorteland',\n",
    "                                     'Geboorteplaats',\n",
    "                                     'Geboren',\n",
    "                                     'Nationaliteit']\n",
    "\n",
    "analysis = (notering.merge(song, left_on='SongID', right_index=True)\n",
    "                    .merge(songartist.reset_index())\n",
    "                    .merge(artist, left_on='ArtistID', right_index=True, suffixes=('Song', 'Artist'))\n",
    "                    .pipe(select_songs_by_one_artist)\n",
    "                    .pipe(find_next_top2000_after_death, einde_stemperiode)\n",
    "                    .assign(IsNederlands = lambda df: df[columns_possible_country_of_birth].apply(lambda c: c.str.lower().str.contains('nederland')).any('columns'),\n",
    "                            IsOverleden = lambda df: df['JaarTop2000'].notnull()\n",
    "                           )\n",
    "            )"
   ]
  },
  {
   "cell_type": "markdown",
   "metadata": {},
   "source": [
    "## Create sets normalized to the number of votes in year of passing away"
   ]
  },
  {
   "cell_type": "code",
   "execution_count": null,
   "metadata": {},
   "outputs": [],
   "source": [
    "overlijdens_datum_per_song = analysis.groupby('SongID')['JaarTop2000'].first()\n",
    "songs_with_overleden_artist = overlijdens_datum_per_song[overlijdens_datum_per_song.notnull()].index"
   ]
  },
  {
   "cell_type": "code",
   "execution_count": null,
   "metadata": {},
   "outputs": [],
   "source": [
    "def normalize_song_by_year(series, years_to_normalize=2):\n",
    "    series.index -= overlijdens_datum_per_song.loc[series.name]\n",
    "    series /= series.loc[-years_to_normalize:-1].mean()\n",
    "    return series\n"
   ]
  },
  {
   "cell_type": "code",
   "execution_count": null,
   "metadata": {},
   "outputs": [],
   "source": [
    "song_boost = (analysis.drop_duplicates(['Year', 'SongID'])\n",
    "              .set_index(['Year', 'SongID'])['PctVotes']\n",
    "              .unstack(fill_value=0.5*m.percentage_of_votes(2000))\n",
    "              [songs_with_overleden_artist].apply(normalize_song_by_year)\n",
    "            )"
   ]
  },
  {
   "cell_type": "code",
   "execution_count": null,
   "metadata": {},
   "outputs": [],
   "source": [
    "song_boost"
   ]
  },
  {
   "cell_type": "markdown",
   "metadata": {},
   "source": [
    "## Univariate analysis"
   ]
  },
  {
   "cell_type": "code",
   "execution_count": null,
   "metadata": {},
   "outputs": [],
   "source": [
    "song_boost.agg(['mean', 'sem', 'count'], axis='columns').plot(y='mean', yerr='sem')"
   ]
  },
  {
   "cell_type": "code",
   "execution_count": null,
   "metadata": {},
   "outputs": [],
   "source": [
    "songartist.groupby('SongID').size()"
   ]
  },
  {
   "cell_type": "code",
   "execution_count": null,
   "metadata": {},
   "outputs": [],
   "source": [
    "def find_before_death_song_popularity(songID):\n",
    "    try:\n",
    "        return notering.loc[(notering['SongID'] == songID) & (notering['Year'] == overlijdens_datum_per_song.loc[songID] - 1), 'PctVotes'].values[0]\n",
    "    except IndexError:\n",
    "        return 0"
   ]
  },
  {
   "cell_type": "code",
   "execution_count": null,
   "metadata": {},
   "outputs": [],
   "source": [
    "song_effect_overlijden = (pd.concat([song_boost.loc[0].rename('OverlijdensBoost'),\n",
    "                                     overlijdens_datum_per_song,\n",
    "                                    song['YearMade']], axis='columns', join='inner')\n",
    "                             .assign(BeforeDeathPopularity = lambda df: [find_before_death_song_popularity(songid) for songid in df.index],\n",
    "                                    )\n",
    "                            )"
   ]
  },
  {
   "cell_type": "code",
   "execution_count": null,
   "metadata": {},
   "outputs": [],
   "source": [
    "song_effect_overlijden"
   ]
  },
  {
   "cell_type": "code",
   "execution_count": null,
   "metadata": {},
   "outputs": [],
   "source": [
    "song_effect_overlijden.groupby(song_effect_overlijden['YearMade'] // 10 * 10)['OverlijdensBoost'].agg(['mean', 'sem', 'std', 'count']).plot(y='mean', yerr='sem')"
   ]
  },
  {
   "cell_type": "code",
   "execution_count": null,
   "metadata": {},
   "outputs": [],
   "source": [
    "song_effect_overlijden.groupby('AantalArtiesten')['OverlijdensBoost'].agg(['mean', 'sem', 'std', 'count'])"
   ]
  },
  {
   "cell_type": "code",
   "execution_count": null,
   "metadata": {},
   "outputs": [],
   "source": [
    "song_effect_overlijden.groupby('JaarTop2000')['OverlijdensBoost'].agg(['mean', 'sem', 'std', 'count'])"
   ]
  },
  {
   "cell_type": "code",
   "execution_count": null,
   "metadata": {},
   "outputs": [],
   "source": [
    "song_effect_overlijden.plot(x='BeforeDeathPopularity', y='OverlijdensBoost', kind='scatter')"
   ]
  },
  {
   "cell_type": "code",
   "execution_count": null,
   "metadata": {},
   "outputs": [],
   "source": [
    "song_effect_overlijden.groupby('AantalArtiesten')['OverlijdensBoost'].agg(['mean', 'sem', 'std', 'count'])"
   ]
  },
  {
   "cell_type": "code",
   "execution_count": null,
   "metadata": {},
   "outputs": [],
   "source": [
    "effect_overlijden = (pd.concat([song_boost.loc[0].rename('OverlijdensBoost'),\n",
    "                                artist.loc[artist['IsOverleden'] == True, ['Name', 'Overleden', 'IsNederlands', 'EindeStemperiode', 'JaarTop2000']]],\n",
    "                               axis='columns')\n",
    "                     .assign(DaysToStemperiode = lambda df: df['Overleden'].sub(df['EindeStemperiode']).dt.days,\n",
    "                            BeforeDeathPopularity = lambda df: [find_popularity_before_passing_away(artistname) for artistname in df.index],\n",
    "                            LogPopularity = lambda df: np.log10(df['BeforeDeathPopularity']))\n",
    "                     .replace([np.inf, -np.inf], np.nan)\n",
    "                     .dropna()\n",
    "                    )"
   ]
  },
  {
   "cell_type": "code",
   "execution_count": null,
   "metadata": {},
   "outputs": [],
   "source": [
    "votes_per_year = analysis_solo_songs.groupby(['Year', 'ArtistID'])['PctVotes'].sum().unstack(fill_value=0)"
   ]
  },
  {
   "cell_type": "code",
   "execution_count": null,
   "metadata": {},
   "outputs": [],
   "source": [
    "votes_per_year[votes_per_year.sum().nlargest(10).index].rename(columns=artist['Name'].to_dict()).plot(figsize=(20, 6))"
   ]
  },
  {
   "cell_type": "code",
   "execution_count": null,
   "metadata": {},
   "outputs": [],
   "source": [
    "def mape_by_window(df, window=3):\n",
    "    average = np.around(votes_per_year.rolling(window).mean().shift(), 5)\n",
    "    mape = (votes_per_year.sub(average).abs()#.div(average) # \n",
    "             .melt()\n",
    "             .replace([np.inf, -np.inf], np.nan).dropna()\n",
    "             .mean()\n",
    "           )\n",
    "    return mape"
   ]
  },
  {
   "cell_type": "code",
   "execution_count": null,
   "metadata": {},
   "outputs": [],
   "source": [
    "{i: mape_by_window(votes_per_year, i) for i in range(1, 5)}"
   ]
  },
  {
   "cell_type": "code",
   "execution_count": null,
   "metadata": {},
   "outputs": [],
   "source": [
    "artist.rename(columns = lambda s: s.lower()).filter(regex='(?<!achtergrond)(?<!koor)zang')#.columns.tolist()"
   ]
  },
  {
   "cell_type": "code",
   "execution_count": null,
   "metadata": {},
   "outputs": [],
   "source": [
    "artist[artist['gitarist, tweede leadzang'].notnull()]"
   ]
  },
  {
   "cell_type": "code",
   "execution_count": null,
   "metadata": {},
   "outputs": [],
   "source": [
    "window=2\n",
    "average = np.around(votes_per_year.rolling(window).mean().shift(), 5)\n",
    "votes_per_year.sub(average).abs().div(average).melt().replace([np.inf, -np.inf], np.nan).dropna().mean()#ignore_index=False)"
   ]
  },
  {
   "cell_type": "code",
   "execution_count": null,
   "metadata": {},
   "outputs": [],
   "source": [
    "# outc = votes_per_year.sub(average).abs().div(average).reset_index().melt(id_vars=['Jaar']).replace([np.inf, -np.inf], np.nan).dropna()"
   ]
  },
  {
   "cell_type": "code",
   "execution_count": null,
   "metadata": {},
   "outputs": [],
   "source": [
    "# def normalize(series, years_to_normalize=3):\n",
    "#     series.index -= series.idxmax()\n",
    "#     series /= series.loc[-years_to_normalize:-1].mean()\n",
    "#     return series\n",
    "\n",
    "# normalize(votes_per_year['Ramses Shaffy'])"
   ]
  },
  {
   "cell_type": "code",
   "execution_count": null,
   "metadata": {},
   "outputs": [],
   "source": [
    "artist['IsOverleden'].sum()"
   ]
  },
  {
   "cell_type": "code",
   "execution_count": null,
   "metadata": {},
   "outputs": [],
   "source": [
    "artist"
   ]
  },
  {
   "cell_type": "code",
   "execution_count": null,
   "metadata": {},
   "outputs": [],
   "source": [
    "overleden_artiest = artist[artist['IsOverleden'] == True].index"
   ]
  },
  {
   "cell_type": "code",
   "execution_count": null,
   "metadata": {},
   "outputs": [],
   "source": [
    "overleden_artiest"
   ]
  },
  {
   "cell_type": "code",
   "execution_count": null,
   "metadata": {},
   "outputs": [],
   "source": [
    "def normalize_by_year(series, years_to_normalize=3):\n",
    "    series.index -= artist.loc[series.name, 'JaarTop2000']\n",
    "    series /= series.loc[-years_to_normalize:-1].mean()\n",
    "    return series\n",
    "\n",
    "overleden_artiest = votes_per_year.columns.intersection(overleden_artiest)\n",
    "\n",
    "votes_per_year_normalized = votes_per_year[overleden_artiest].apply(normalize_by_year, years_to_normalize=2)"
   ]
  },
  {
   "cell_type": "code",
   "execution_count": null,
   "metadata": {},
   "outputs": [],
   "source": [
    "votes_per_year_normalized.replace(np.inf, np.nan).agg(['mean', 'sem', 'std', 'count'], axis='columns')#.plot(y='mean', yerr='std')"
   ]
  },
  {
   "cell_type": "code",
   "execution_count": null,
   "metadata": {},
   "outputs": [],
   "source": [
    "def find_popularity_before_passing_away(artistname, nr_years=2):\n",
    "    year_passing_away = artist.loc[artistname, 'JaarTop2000']\n",
    "    popularity = votes_per_year.loc[year_passing_away-nr_years:year_passing_away-1, artistname].mean()\n",
    "    return popularity"
   ]
  },
  {
   "cell_type": "code",
   "execution_count": null,
   "metadata": {},
   "outputs": [],
   "source": [
    "effect_overlijden = (pd.concat([votes_per_year_normalized.loc[0].rename('OverlijdensBoost'),\n",
    "                                artist.loc[artist['IsOverleden'] == True, ['Name', 'Overleden', 'IsNederlands', 'EindeStemperiode', 'JaarTop2000']]],\n",
    "                               axis='columns', join='inner')\n",
    "                     .assign(DaysToStemperiode = lambda df: df['Overleden'].sub(df['EindeStemperiode']).dt.days,\n",
    "                            BeforeDeathPopularity = lambda df: [find_popularity_before_passing_away(artistname) for artistname in df.index],\n",
    "                            LogPopularity = lambda df: np.log10(df['BeforeDeathPopularity']))\n",
    "                     .sort_values('BeforeDeathPopularity')\n",
    "                     .drop_duplicates('Overleden') # TODO: fix the double artists in a neat way\n",
    "\n",
    "                     .replace([np.inf, -np.inf], np.nan)\n",
    "                     .dropna()\n",
    "                    )"
   ]
  },
  {
   "cell_type": "code",
   "execution_count": null,
   "metadata": {},
   "outputs": [],
   "source": [
    "effect_overlijden"
   ]
  },
  {
   "cell_type": "code",
   "execution_count": null,
   "metadata": {},
   "outputs": [],
   "source": [
    "def death_effect(x, minimum_effect=1.5, maximum_effect=3, days_start=30):\n",
    "    return minimum_effect + x.add(days_start).clip(lower=0).div(days_start) * (maximum_effect - minimum_effect)"
   ]
  },
  {
   "cell_type": "code",
   "execution_count": null,
   "metadata": {},
   "outputs": [],
   "source": [
    "popt, pcov = scipy.optimize.curve_fit(death_effect, effect_overlijden['DaysToStemperiode'], effect_overlijden['OverlijdensBoost'], [1.5, 3, 30])\n",
    "perr = np.sqrt(np.diag(pcov))\n",
    "popt"
   ]
  },
  {
   "cell_type": "code",
   "execution_count": null,
   "metadata": {},
   "outputs": [],
   "source": [
    "perr"
   ]
  },
  {
   "cell_type": "code",
   "execution_count": null,
   "metadata": {},
   "outputs": [],
   "source": [
    "recency_days = 50\n",
    "effect_overlijden = effect_overlijden.assign(RecencyFactor = lambda df: df['DaysToStemperiode'].add(recency_days).clip(lower=0).div(recency_days)).sort_values('RecencyFactor')"
   ]
  },
  {
   "cell_type": "code",
   "execution_count": null,
   "metadata": {},
   "outputs": [],
   "source": [
    "effect_overlijden.groupby('IsNederlands')['OverlijdensBoost'].agg(['mean', 'sem', 'count'])"
   ]
  },
  {
   "cell_type": "code",
   "execution_count": null,
   "metadata": {},
   "outputs": [],
   "source": [
    "effect_overlijden.sort_values('OverlijdensBoost')"
   ]
  },
  {
   "cell_type": "code",
   "execution_count": null,
   "metadata": {},
   "outputs": [],
   "source": [
    "effect_overlijden.plot(x='BeforeDeathPopularity', y='OverlijdensBoost', kind='scatter', logx=True)# y.assign().plot(x='LogPopularity'"
   ]
  },
  {
   "cell_type": "code",
   "execution_count": null,
   "metadata": {},
   "outputs": [],
   "source": [
    "effect_overlijden.plot(x='JaarTop2000', y='OverlijdensBoost', kind='scatter', ylim=(0, 5))"
   ]
  },
  {
   "cell_type": "code",
   "execution_count": null,
   "metadata": {},
   "outputs": [],
   "source": [
    "effect_overlijden.groupby('JaarTop2000')['OverlijdensBoost'].agg(['mean', 'sem'])#.plot(y='mean', yerr='sem')"
   ]
  },
  {
   "cell_type": "code",
   "execution_count": null,
   "metadata": {},
   "outputs": [],
   "source": [
    "import statsmodels.api as sm"
   ]
  },
  {
   "cell_type": "code",
   "execution_count": null,
   "metadata": {},
   "outputs": [],
   "source": [
    "effect_overlijden[['RecencyFactor', 'IsNederlands', 'JaarTop2000', 'LogPopularity']].corr()"
   ]
  },
  {
   "cell_type": "code",
   "execution_count": null,
   "metadata": {},
   "outputs": [],
   "source": [
    "effect_overlijden.sort_values('OverlijdensBoost', ascending=False)"
   ]
  },
  {
   "cell_type": "code",
   "execution_count": null,
   "metadata": {},
   "outputs": [],
   "source": [
    "y = effect_overlijden['OverlijdensBoost']\n",
    "X = sm.add_constant(effect_overlijden.assign(IsNederlands = lambda df: df['IsNederlands'].astype(int),\n",
    "                                             JaarTop2000 = lambda df: df['JaarTop2000'].sub(df['JaarTop2000'].max()),\n",
    "                                            )\n",
    "                    [['RecencyFactor', 'IsNederlands', 'JaarTop2000', 'LogPopularity']]\n",
    "#                     [['RecencyFactor', 'JaarTop2000']]\n",
    "\n",
    "                   )\n",
    "mod = sm.OLS(y, X)\n",
    "res = mod.fit()\n",
    "res.summary()"
   ]
  },
  {
   "cell_type": "code",
   "execution_count": null,
   "metadata": {},
   "outputs": [],
   "source": [
    "effect_overlijden['PredictedBoost'] = res.predict(X)"
   ]
  },
  {
   "cell_type": "code",
   "execution_count": null,
   "metadata": {},
   "outputs": [],
   "source": [
    "(effect_overlijden\n",
    " .assign(AbsoluteError = lambda df: df['OverlijdensBoost'].sub(df['PredictedBoost']).abs())\n",
    " .sort_values('AbsoluteError', ascending=False)\n",
    " .tail(20)\n",
    ")#.plot(kind='scatter', x='DaysToStemperiode', y='AbsoluteError')"
   ]
  },
  {
   "cell_type": "code",
   "execution_count": null,
   "metadata": {},
   "outputs": [],
   "source": [
    "effect_overlijden.plot(x='PredictedBoost', y='OverlijdensBoost', kind='scatter')\n",
    "import matplotlib.pyplot as plt\n",
    "plt.plot([0, 10], [0, 10], 'k--')"
   ]
  },
  {
   "cell_type": "code",
   "execution_count": null,
   "metadata": {},
   "outputs": [],
   "source": [
    "effect_overlijden.groupby(effect_overlijden['Overleden'].dt.year)['OverlijdensBoost'].agg(['mean', 'sem', 'count'])#.rolling(3)['mean'].mean().plot()"
   ]
  },
  {
   "cell_type": "code",
   "execution_count": null,
   "metadata": {},
   "outputs": [],
   "source": [
    "import datetime\n",
    "import matplotlib.pyplot as plt\n",
    "(effect_overlijden\n",
    " .plot(x='DaysToStemperiode', y='OverlijdensBoost', kind='scatter')\n",
    ")\n",
    "death_effect(pd.Series(range(-365, 1), index=range(-365, 1)), *popt).plot()\n",
    "plt.axhline(1, c='k', ls='--')"
   ]
  }
 ],
 "metadata": {
  "kernelspec": {
   "display_name": "Python 3",
   "language": "python",
   "name": "python3"
  },
  "language_info": {
   "codemirror_mode": {
    "name": "ipython",
    "version": 3
   },
   "file_extension": ".py",
   "mimetype": "text/x-python",
   "name": "python",
   "nbconvert_exporter": "python",
   "pygments_lexer": "ipython3",
   "version": "3.7.6"
  }
 },
 "nbformat": 4,
 "nbformat_minor": 4
}
